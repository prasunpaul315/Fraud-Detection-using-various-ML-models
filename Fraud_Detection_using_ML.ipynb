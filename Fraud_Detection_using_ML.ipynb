{
 "cells": [
  {
   "cell_type": "markdown",
   "id": "3nbokRK7QyeS",
   "metadata": {
    "id": "3nbokRK7QyeS"
   },
   "source": [
    "## Data Dictionary\n",
    "\n",
    "step - maps a unit of time in the real world. In this case 1 step is 1 hour of time. Total steps 744 (30 days simulation).\n",
    "\n",
    "type - CASH-IN, CASH-OUT, DEBIT, PAYMENT and TRANSFER.\n",
    "\n",
    "amount - amount of the transaction in local currency.\n",
    "\n",
    "nameOrig - customer who started the transaction\n",
    "\n",
    "oldbalanceOrg - initial balance before the transaction\n",
    "\n",
    "newbalanceOrig - new balance after the transaction\n",
    "\n",
    "nameDest - customer who is the recipient of the transaction\n",
    "\n",
    "oldbalanceDest - initial balance recipient before the transaction. Note that there is not information for customers that start with M (Merchants).\n",
    "\n",
    "newbalanceDest - new balance recipient after the transaction. Note that there is not information for customers that start with M (Merchants).\n",
    "\n",
    "isFraud - This is the transactions made by the fraudulent agents inside the simulation. In this specific dataset the fraudulent behavior of the agents aims to profit by taking control or customers accounts and try to empty the funds by transferring to another account and then cashing out of the system.\n",
    "\n",
    "isFlaggedFraud - The business model aims to control massive transfers from one account to another and flags illegal attempts. An illegal attempt in this dataset is an attempt to transfer more than 200.000 in a single transaction."
   ]
  },
  {
   "cell_type": "markdown",
   "id": "Pi70ThH0SLAz",
   "metadata": {
    "id": "Pi70ThH0SLAz"
   },
   "source": [
    "## Model Building and Evaluation Metrics\n",
    "Applied Machine learning models\n",
    "\n",
    "1. Logistic Regressin\n",
    "2. Multinomial Naive Bayes\n",
    "3. RandomForestClassifier\n",
    "4. XGBClassifier\n",
    "\n",
    "\n",
    "Since this is a binary classification problem, we could use the following 2 popular metrics:\n",
    "\n",
    "1. Confusion matrix, Precision matrix, Recall matrix\n",
    "2. f1_score\n"
   ]
  },
  {
   "cell_type": "code",
   "execution_count": 2,
   "id": "y35di6aayVWL",
   "metadata": {
    "colab": {
     "base_uri": "https://localhost:8080/"
    },
    "id": "y35di6aayVWL",
    "outputId": "f2c33855-3615-4a43-9057-cdd5f1eee597"
   },
   "outputs": [
    {
     "name": "stdout",
     "output_type": "stream",
     "text": [
      "Mounted at /content/drive\n"
     ]
    }
   ],
   "source": [
    "from google.colab import drive\n",
    "drive.mount('/content/drive')"
   ]
  },
  {
   "cell_type": "markdown",
   "id": "gOwm9qfnSOBF",
   "metadata": {
    "id": "gOwm9qfnSOBF"
   },
   "source": [
    "### Loading Packages"
   ]
  },
  {
   "cell_type": "code",
   "execution_count": 6,
   "id": "0746fa19",
   "metadata": {
    "id": "0746fa19"
   },
   "outputs": [],
   "source": [
    "import numpy as np\n",
    "import pandas as pd\n",
    "import seaborn as sns\n",
    "import matplotlib.pyplot as plt\n",
    "%matplotlib inline\n",
    "from sklearn.preprocessing import LabelEncoder\n",
    "from sklearn.preprocessing import StandardScaler\n",
    "from xgboost import XGBClassifier\n",
    "from sklearn.linear_model import LogisticRegression\n",
    "from sklearn.naive_bayes import MultinomialNB\n",
    "from sklearn.svm import SVC\n",
    "import matplotlib.pylab as plt\n",
    "import matplotlib\n",
    "from sklearn.metrics import f1_score\n",
    "from sklearn.calibration import CalibratedClassifierCV\n",
    "from sklearn.model_selection import GridSearchCV\n",
    "from sklearn.model_selection import RepeatedStratifiedKFold\n",
    "from sklearn.ensemble import RandomForestClassifier\n",
    "from sklearn_evaluation import plot\n",
    "from sklearn.metrics import roc_auc_score\n",
    "from sklearn.model_selection import KFold, StratifiedKFold, train_test_split\n",
    "from sklearn.metrics import roc_auc_score, accuracy_score, confusion_matrix, roc_curve, precision_score, recall_score, precision_recall_curve\n",
    "import warnings\n",
    "warnings.simplefilter(action='ignore', category=FutureWarning)\n",
    "warnings.simplefilter(action='ignore', category=UserWarning)"
   ]
  },
  {
   "cell_type": "markdown",
   "id": "-AHoZEnaSwqL",
   "metadata": {
    "id": "-AHoZEnaSwqL"
   },
   "source": [
    "## 1. Loading Data"
   ]
  },
  {
   "cell_type": "code",
   "execution_count": 7,
   "id": "6709a2fb",
   "metadata": {
    "id": "6709a2fb"
   },
   "outputs": [],
   "source": [
    "df= pd.read_csv(\"/content/drive/MyDrive/Internship Task/Fraud.csv\")"
   ]
  },
  {
   "cell_type": "code",
   "execution_count": 8,
   "id": "4e9607cf",
   "metadata": {
    "colab": {
     "base_uri": "https://localhost:8080/",
     "height": 250
    },
    "id": "4e9607cf",
    "outputId": "df3f7878-7c9b-4fb5-a241-4708727c9268"
   },
   "outputs": [
    {
     "data": {
      "text/html": [
       "\n",
       "  <div id=\"df-f3cf50fb-ac03-411c-8829-4594e4bb6254\">\n",
       "    <div class=\"colab-df-container\">\n",
       "      <div>\n",
       "<style scoped>\n",
       "    .dataframe tbody tr th:only-of-type {\n",
       "        vertical-align: middle;\n",
       "    }\n",
       "\n",
       "    .dataframe tbody tr th {\n",
       "        vertical-align: top;\n",
       "    }\n",
       "\n",
       "    .dataframe thead th {\n",
       "        text-align: right;\n",
       "    }\n",
       "</style>\n",
       "<table border=\"1\" class=\"dataframe\">\n",
       "  <thead>\n",
       "    <tr style=\"text-align: right;\">\n",
       "      <th></th>\n",
       "      <th>step</th>\n",
       "      <th>type</th>\n",
       "      <th>amount</th>\n",
       "      <th>nameOrig</th>\n",
       "      <th>oldbalanceOrg</th>\n",
       "      <th>newbalanceOrig</th>\n",
       "      <th>nameDest</th>\n",
       "      <th>oldbalanceDest</th>\n",
       "      <th>newbalanceDest</th>\n",
       "      <th>isFraud</th>\n",
       "      <th>isFlaggedFraud</th>\n",
       "    </tr>\n",
       "  </thead>\n",
       "  <tbody>\n",
       "    <tr>\n",
       "      <th>0</th>\n",
       "      <td>1</td>\n",
       "      <td>PAYMENT</td>\n",
       "      <td>9839.64</td>\n",
       "      <td>C1231006815</td>\n",
       "      <td>170136.0</td>\n",
       "      <td>160296.36</td>\n",
       "      <td>M1979787155</td>\n",
       "      <td>0.0</td>\n",
       "      <td>0.0</td>\n",
       "      <td>0</td>\n",
       "      <td>0</td>\n",
       "    </tr>\n",
       "    <tr>\n",
       "      <th>1</th>\n",
       "      <td>1</td>\n",
       "      <td>PAYMENT</td>\n",
       "      <td>1864.28</td>\n",
       "      <td>C1666544295</td>\n",
       "      <td>21249.0</td>\n",
       "      <td>19384.72</td>\n",
       "      <td>M2044282225</td>\n",
       "      <td>0.0</td>\n",
       "      <td>0.0</td>\n",
       "      <td>0</td>\n",
       "      <td>0</td>\n",
       "    </tr>\n",
       "    <tr>\n",
       "      <th>2</th>\n",
       "      <td>1</td>\n",
       "      <td>TRANSFER</td>\n",
       "      <td>181.00</td>\n",
       "      <td>C1305486145</td>\n",
       "      <td>181.0</td>\n",
       "      <td>0.00</td>\n",
       "      <td>C553264065</td>\n",
       "      <td>0.0</td>\n",
       "      <td>0.0</td>\n",
       "      <td>1</td>\n",
       "      <td>0</td>\n",
       "    </tr>\n",
       "    <tr>\n",
       "      <th>3</th>\n",
       "      <td>1</td>\n",
       "      <td>CASH_OUT</td>\n",
       "      <td>181.00</td>\n",
       "      <td>C840083671</td>\n",
       "      <td>181.0</td>\n",
       "      <td>0.00</td>\n",
       "      <td>C38997010</td>\n",
       "      <td>21182.0</td>\n",
       "      <td>0.0</td>\n",
       "      <td>1</td>\n",
       "      <td>0</td>\n",
       "    </tr>\n",
       "    <tr>\n",
       "      <th>4</th>\n",
       "      <td>1</td>\n",
       "      <td>PAYMENT</td>\n",
       "      <td>11668.14</td>\n",
       "      <td>C2048537720</td>\n",
       "      <td>41554.0</td>\n",
       "      <td>29885.86</td>\n",
       "      <td>M1230701703</td>\n",
       "      <td>0.0</td>\n",
       "      <td>0.0</td>\n",
       "      <td>0</td>\n",
       "      <td>0</td>\n",
       "    </tr>\n",
       "  </tbody>\n",
       "</table>\n",
       "</div>\n",
       "      <button class=\"colab-df-convert\" onclick=\"convertToInteractive('df-f3cf50fb-ac03-411c-8829-4594e4bb6254')\"\n",
       "              title=\"Convert this dataframe to an interactive table.\"\n",
       "              style=\"display:none;\">\n",
       "        \n",
       "  <svg xmlns=\"http://www.w3.org/2000/svg\" height=\"24px\"viewBox=\"0 0 24 24\"\n",
       "       width=\"24px\">\n",
       "    <path d=\"M0 0h24v24H0V0z\" fill=\"none\"/>\n",
       "    <path d=\"M18.56 5.44l.94 2.06.94-2.06 2.06-.94-2.06-.94-.94-2.06-.94 2.06-2.06.94zm-11 1L8.5 8.5l.94-2.06 2.06-.94-2.06-.94L8.5 2.5l-.94 2.06-2.06.94zm10 10l.94 2.06.94-2.06 2.06-.94-2.06-.94-.94-2.06-.94 2.06-2.06.94z\"/><path d=\"M17.41 7.96l-1.37-1.37c-.4-.4-.92-.59-1.43-.59-.52 0-1.04.2-1.43.59L10.3 9.45l-7.72 7.72c-.78.78-.78 2.05 0 2.83L4 21.41c.39.39.9.59 1.41.59.51 0 1.02-.2 1.41-.59l7.78-7.78 2.81-2.81c.8-.78.8-2.07 0-2.86zM5.41 20L4 18.59l7.72-7.72 1.47 1.35L5.41 20z\"/>\n",
       "  </svg>\n",
       "      </button>\n",
       "      \n",
       "  <style>\n",
       "    .colab-df-container {\n",
       "      display:flex;\n",
       "      flex-wrap:wrap;\n",
       "      gap: 12px;\n",
       "    }\n",
       "\n",
       "    .colab-df-convert {\n",
       "      background-color: #E8F0FE;\n",
       "      border: none;\n",
       "      border-radius: 50%;\n",
       "      cursor: pointer;\n",
       "      display: none;\n",
       "      fill: #1967D2;\n",
       "      height: 32px;\n",
       "      padding: 0 0 0 0;\n",
       "      width: 32px;\n",
       "    }\n",
       "\n",
       "    .colab-df-convert:hover {\n",
       "      background-color: #E2EBFA;\n",
       "      box-shadow: 0px 1px 2px rgba(60, 64, 67, 0.3), 0px 1px 3px 1px rgba(60, 64, 67, 0.15);\n",
       "      fill: #174EA6;\n",
       "    }\n",
       "\n",
       "    [theme=dark] .colab-df-convert {\n",
       "      background-color: #3B4455;\n",
       "      fill: #D2E3FC;\n",
       "    }\n",
       "\n",
       "    [theme=dark] .colab-df-convert:hover {\n",
       "      background-color: #434B5C;\n",
       "      box-shadow: 0px 1px 3px 1px rgba(0, 0, 0, 0.15);\n",
       "      filter: drop-shadow(0px 1px 2px rgba(0, 0, 0, 0.3));\n",
       "      fill: #FFFFFF;\n",
       "    }\n",
       "  </style>\n",
       "\n",
       "      <script>\n",
       "        const buttonEl =\n",
       "          document.querySelector('#df-f3cf50fb-ac03-411c-8829-4594e4bb6254 button.colab-df-convert');\n",
       "        buttonEl.style.display =\n",
       "          google.colab.kernel.accessAllowed ? 'block' : 'none';\n",
       "\n",
       "        async function convertToInteractive(key) {\n",
       "          const element = document.querySelector('#df-f3cf50fb-ac03-411c-8829-4594e4bb6254');\n",
       "          const dataTable =\n",
       "            await google.colab.kernel.invokeFunction('convertToInteractive',\n",
       "                                                     [key], {});\n",
       "          if (!dataTable) return;\n",
       "\n",
       "          const docLinkHtml = 'Like what you see? Visit the ' +\n",
       "            '<a target=\"_blank\" href=https://colab.research.google.com/notebooks/data_table.ipynb>data table notebook</a>'\n",
       "            + ' to learn more about interactive tables.';\n",
       "          element.innerHTML = '';\n",
       "          dataTable['output_type'] = 'display_data';\n",
       "          await google.colab.output.renderOutput(dataTable, element);\n",
       "          const docLink = document.createElement('div');\n",
       "          docLink.innerHTML = docLinkHtml;\n",
       "          element.appendChild(docLink);\n",
       "        }\n",
       "      </script>\n",
       "    </div>\n",
       "  </div>\n",
       "  "
      ],
      "text/plain": [
       "   step      type    amount     nameOrig  oldbalanceOrg  newbalanceOrig  \\\n",
       "0     1   PAYMENT   9839.64  C1231006815       170136.0       160296.36   \n",
       "1     1   PAYMENT   1864.28  C1666544295        21249.0        19384.72   \n",
       "2     1  TRANSFER    181.00  C1305486145          181.0            0.00   \n",
       "3     1  CASH_OUT    181.00   C840083671          181.0            0.00   \n",
       "4     1   PAYMENT  11668.14  C2048537720        41554.0        29885.86   \n",
       "\n",
       "      nameDest  oldbalanceDest  newbalanceDest  isFraud  isFlaggedFraud  \n",
       "0  M1979787155             0.0             0.0        0               0  \n",
       "1  M2044282225             0.0             0.0        0               0  \n",
       "2   C553264065             0.0             0.0        1               0  \n",
       "3    C38997010         21182.0             0.0        1               0  \n",
       "4  M1230701703             0.0             0.0        0               0  "
      ]
     },
     "execution_count": 8,
     "metadata": {},
     "output_type": "execute_result"
    }
   ],
   "source": [
    "df.head()"
   ]
  },
  {
   "cell_type": "code",
   "execution_count": 9,
   "id": "eeVuTiOGmfmT",
   "metadata": {
    "id": "eeVuTiOGmfmT"
   },
   "outputs": [],
   "source": [
    "df=df.rename(columns={'oldbalanceOrg': 'oldbalanceOrig'})"
   ]
  },
  {
   "cell_type": "code",
   "execution_count": 10,
   "id": "HgDnQWLymsGe",
   "metadata": {
    "colab": {
     "base_uri": "https://localhost:8080/",
     "height": 250
    },
    "id": "HgDnQWLymsGe",
    "outputId": "cd703e84-f361-4f2f-a81d-f62bd512847c"
   },
   "outputs": [
    {
     "data": {
      "text/html": [
       "\n",
       "  <div id=\"df-be4feb6c-a0fa-409f-84ec-329a34f2cafc\">\n",
       "    <div class=\"colab-df-container\">\n",
       "      <div>\n",
       "<style scoped>\n",
       "    .dataframe tbody tr th:only-of-type {\n",
       "        vertical-align: middle;\n",
       "    }\n",
       "\n",
       "    .dataframe tbody tr th {\n",
       "        vertical-align: top;\n",
       "    }\n",
       "\n",
       "    .dataframe thead th {\n",
       "        text-align: right;\n",
       "    }\n",
       "</style>\n",
       "<table border=\"1\" class=\"dataframe\">\n",
       "  <thead>\n",
       "    <tr style=\"text-align: right;\">\n",
       "      <th></th>\n",
       "      <th>step</th>\n",
       "      <th>type</th>\n",
       "      <th>amount</th>\n",
       "      <th>nameOrig</th>\n",
       "      <th>oldbalanceOrig</th>\n",
       "      <th>newbalanceOrig</th>\n",
       "      <th>nameDest</th>\n",
       "      <th>oldbalanceDest</th>\n",
       "      <th>newbalanceDest</th>\n",
       "      <th>isFraud</th>\n",
       "      <th>isFlaggedFraud</th>\n",
       "    </tr>\n",
       "  </thead>\n",
       "  <tbody>\n",
       "    <tr>\n",
       "      <th>0</th>\n",
       "      <td>1</td>\n",
       "      <td>PAYMENT</td>\n",
       "      <td>9839.64</td>\n",
       "      <td>C1231006815</td>\n",
       "      <td>170136.0</td>\n",
       "      <td>160296.36</td>\n",
       "      <td>M1979787155</td>\n",
       "      <td>0.0</td>\n",
       "      <td>0.0</td>\n",
       "      <td>0</td>\n",
       "      <td>0</td>\n",
       "    </tr>\n",
       "    <tr>\n",
       "      <th>1</th>\n",
       "      <td>1</td>\n",
       "      <td>PAYMENT</td>\n",
       "      <td>1864.28</td>\n",
       "      <td>C1666544295</td>\n",
       "      <td>21249.0</td>\n",
       "      <td>19384.72</td>\n",
       "      <td>M2044282225</td>\n",
       "      <td>0.0</td>\n",
       "      <td>0.0</td>\n",
       "      <td>0</td>\n",
       "      <td>0</td>\n",
       "    </tr>\n",
       "    <tr>\n",
       "      <th>2</th>\n",
       "      <td>1</td>\n",
       "      <td>TRANSFER</td>\n",
       "      <td>181.00</td>\n",
       "      <td>C1305486145</td>\n",
       "      <td>181.0</td>\n",
       "      <td>0.00</td>\n",
       "      <td>C553264065</td>\n",
       "      <td>0.0</td>\n",
       "      <td>0.0</td>\n",
       "      <td>1</td>\n",
       "      <td>0</td>\n",
       "    </tr>\n",
       "    <tr>\n",
       "      <th>3</th>\n",
       "      <td>1</td>\n",
       "      <td>CASH_OUT</td>\n",
       "      <td>181.00</td>\n",
       "      <td>C840083671</td>\n",
       "      <td>181.0</td>\n",
       "      <td>0.00</td>\n",
       "      <td>C38997010</td>\n",
       "      <td>21182.0</td>\n",
       "      <td>0.0</td>\n",
       "      <td>1</td>\n",
       "      <td>0</td>\n",
       "    </tr>\n",
       "    <tr>\n",
       "      <th>4</th>\n",
       "      <td>1</td>\n",
       "      <td>PAYMENT</td>\n",
       "      <td>11668.14</td>\n",
       "      <td>C2048537720</td>\n",
       "      <td>41554.0</td>\n",
       "      <td>29885.86</td>\n",
       "      <td>M1230701703</td>\n",
       "      <td>0.0</td>\n",
       "      <td>0.0</td>\n",
       "      <td>0</td>\n",
       "      <td>0</td>\n",
       "    </tr>\n",
       "  </tbody>\n",
       "</table>\n",
       "</div>\n",
       "      <button class=\"colab-df-convert\" onclick=\"convertToInteractive('df-be4feb6c-a0fa-409f-84ec-329a34f2cafc')\"\n",
       "              title=\"Convert this dataframe to an interactive table.\"\n",
       "              style=\"display:none;\">\n",
       "        \n",
       "  <svg xmlns=\"http://www.w3.org/2000/svg\" height=\"24px\"viewBox=\"0 0 24 24\"\n",
       "       width=\"24px\">\n",
       "    <path d=\"M0 0h24v24H0V0z\" fill=\"none\"/>\n",
       "    <path d=\"M18.56 5.44l.94 2.06.94-2.06 2.06-.94-2.06-.94-.94-2.06-.94 2.06-2.06.94zm-11 1L8.5 8.5l.94-2.06 2.06-.94-2.06-.94L8.5 2.5l-.94 2.06-2.06.94zm10 10l.94 2.06.94-2.06 2.06-.94-2.06-.94-.94-2.06-.94 2.06-2.06.94z\"/><path d=\"M17.41 7.96l-1.37-1.37c-.4-.4-.92-.59-1.43-.59-.52 0-1.04.2-1.43.59L10.3 9.45l-7.72 7.72c-.78.78-.78 2.05 0 2.83L4 21.41c.39.39.9.59 1.41.59.51 0 1.02-.2 1.41-.59l7.78-7.78 2.81-2.81c.8-.78.8-2.07 0-2.86zM5.41 20L4 18.59l7.72-7.72 1.47 1.35L5.41 20z\"/>\n",
       "  </svg>\n",
       "      </button>\n",
       "      \n",
       "  <style>\n",
       "    .colab-df-container {\n",
       "      display:flex;\n",
       "      flex-wrap:wrap;\n",
       "      gap: 12px;\n",
       "    }\n",
       "\n",
       "    .colab-df-convert {\n",
       "      background-color: #E8F0FE;\n",
       "      border: none;\n",
       "      border-radius: 50%;\n",
       "      cursor: pointer;\n",
       "      display: none;\n",
       "      fill: #1967D2;\n",
       "      height: 32px;\n",
       "      padding: 0 0 0 0;\n",
       "      width: 32px;\n",
       "    }\n",
       "\n",
       "    .colab-df-convert:hover {\n",
       "      background-color: #E2EBFA;\n",
       "      box-shadow: 0px 1px 2px rgba(60, 64, 67, 0.3), 0px 1px 3px 1px rgba(60, 64, 67, 0.15);\n",
       "      fill: #174EA6;\n",
       "    }\n",
       "\n",
       "    [theme=dark] .colab-df-convert {\n",
       "      background-color: #3B4455;\n",
       "      fill: #D2E3FC;\n",
       "    }\n",
       "\n",
       "    [theme=dark] .colab-df-convert:hover {\n",
       "      background-color: #434B5C;\n",
       "      box-shadow: 0px 1px 3px 1px rgba(0, 0, 0, 0.15);\n",
       "      filter: drop-shadow(0px 1px 2px rgba(0, 0, 0, 0.3));\n",
       "      fill: #FFFFFF;\n",
       "    }\n",
       "  </style>\n",
       "\n",
       "      <script>\n",
       "        const buttonEl =\n",
       "          document.querySelector('#df-be4feb6c-a0fa-409f-84ec-329a34f2cafc button.colab-df-convert');\n",
       "        buttonEl.style.display =\n",
       "          google.colab.kernel.accessAllowed ? 'block' : 'none';\n",
       "\n",
       "        async function convertToInteractive(key) {\n",
       "          const element = document.querySelector('#df-be4feb6c-a0fa-409f-84ec-329a34f2cafc');\n",
       "          const dataTable =\n",
       "            await google.colab.kernel.invokeFunction('convertToInteractive',\n",
       "                                                     [key], {});\n",
       "          if (!dataTable) return;\n",
       "\n",
       "          const docLinkHtml = 'Like what you see? Visit the ' +\n",
       "            '<a target=\"_blank\" href=https://colab.research.google.com/notebooks/data_table.ipynb>data table notebook</a>'\n",
       "            + ' to learn more about interactive tables.';\n",
       "          element.innerHTML = '';\n",
       "          dataTable['output_type'] = 'display_data';\n",
       "          await google.colab.output.renderOutput(dataTable, element);\n",
       "          const docLink = document.createElement('div');\n",
       "          docLink.innerHTML = docLinkHtml;\n",
       "          element.appendChild(docLink);\n",
       "        }\n",
       "      </script>\n",
       "    </div>\n",
       "  </div>\n",
       "  "
      ],
      "text/plain": [
       "   step      type    amount     nameOrig  oldbalanceOrig  newbalanceOrig  \\\n",
       "0     1   PAYMENT   9839.64  C1231006815        170136.0       160296.36   \n",
       "1     1   PAYMENT   1864.28  C1666544295         21249.0        19384.72   \n",
       "2     1  TRANSFER    181.00  C1305486145           181.0            0.00   \n",
       "3     1  CASH_OUT    181.00   C840083671           181.0            0.00   \n",
       "4     1   PAYMENT  11668.14  C2048537720         41554.0        29885.86   \n",
       "\n",
       "      nameDest  oldbalanceDest  newbalanceDest  isFraud  isFlaggedFraud  \n",
       "0  M1979787155             0.0             0.0        0               0  \n",
       "1  M2044282225             0.0             0.0        0               0  \n",
       "2   C553264065             0.0             0.0        1               0  \n",
       "3    C38997010         21182.0             0.0        1               0  \n",
       "4  M1230701703             0.0             0.0        0               0  "
      ]
     },
     "execution_count": 10,
     "metadata": {},
     "output_type": "execute_result"
    }
   ],
   "source": [
    "df.head()"
   ]
  },
  {
   "cell_type": "code",
   "execution_count": 11,
   "id": "09b2b802",
   "metadata": {
    "colab": {
     "base_uri": "https://localhost:8080/"
    },
    "id": "09b2b802",
    "outputId": "efea1de9-be1b-479c-83f1-c3895125f692"
   },
   "outputs": [
    {
     "data": {
      "text/plain": [
       "(6362620, 11)"
      ]
     },
     "execution_count": 11,
     "metadata": {},
     "output_type": "execute_result"
    }
   ],
   "source": [
    "df.shape"
   ]
  },
  {
   "cell_type": "code",
   "execution_count": 12,
   "id": "d6b8d8a5",
   "metadata": {
    "id": "d6b8d8a5"
   },
   "outputs": [],
   "source": [
    "# drop Duplicates\n",
    "df.drop_duplicates(inplace=True)"
   ]
  },
  {
   "cell_type": "code",
   "execution_count": 13,
   "id": "7100cabe",
   "metadata": {
    "colab": {
     "base_uri": "https://localhost:8080/"
    },
    "id": "7100cabe",
    "outputId": "b75d8b99-4de3-40e5-ef58-2112a55ac235"
   },
   "outputs": [
    {
     "data": {
      "text/plain": [
       "step                int64\n",
       "type               object\n",
       "amount            float64\n",
       "nameOrig           object\n",
       "oldbalanceOrig    float64\n",
       "newbalanceOrig    float64\n",
       "nameDest           object\n",
       "oldbalanceDest    float64\n",
       "newbalanceDest    float64\n",
       "isFraud             int64\n",
       "isFlaggedFraud      int64\n",
       "dtype: object"
      ]
     },
     "execution_count": 13,
     "metadata": {},
     "output_type": "execute_result"
    }
   ],
   "source": [
    "# datatypes of each attribute\n",
    "\n",
    "df.dtypes"
   ]
  },
  {
   "cell_type": "code",
   "execution_count": 14,
   "id": "0f1083f3",
   "metadata": {
    "colab": {
     "base_uri": "https://localhost:8080/"
    },
    "id": "0f1083f3",
    "outputId": "cb6a3bfa-4c2a-4dde-80cb-abde79e3ca79"
   },
   "outputs": [
    {
     "data": {
      "text/plain": [
       "step              0\n",
       "type              0\n",
       "amount            0\n",
       "nameOrig          0\n",
       "oldbalanceOrig    0\n",
       "newbalanceOrig    0\n",
       "nameDest          0\n",
       "oldbalanceDest    0\n",
       "newbalanceDest    0\n",
       "isFraud           0\n",
       "isFlaggedFraud    0\n",
       "dtype: int64"
      ]
     },
     "execution_count": 14,
     "metadata": {},
     "output_type": "execute_result"
    }
   ],
   "source": [
    "df.isnull().sum()"
   ]
  },
  {
   "cell_type": "code",
   "execution_count": 15,
   "id": "e5b17243",
   "metadata": {
    "colab": {
     "base_uri": "https://localhost:8080/",
     "height": 347
    },
    "id": "e5b17243",
    "outputId": "b42541ee-b269-4933-cb4a-b00f17f4e1cf"
   },
   "outputs": [
    {
     "name": "stdout",
     "output_type": "stream",
     "text": [
      "Number of data points in class 0 : 6354407 ( 99.871 %)\n",
      "Number of data points in class 1 : 8213 ( 0.129 %)\n",
      "--------------------------------------------------------------------------------\n"
     ]
    },
    {
     "data": {
      "image/png": "[encoded data removed]",
      "text/plain": [
       "<Figure size 432x288 with 1 Axes>"
      ]
     },
     "metadata": {
      "needs_background": "light"
     },
     "output_type": "display_data"
    }
   ],
   "source": [
    "# originally fraud happened\n",
    "\n",
    "df_class_distribution = df['isFraud'].value_counts().sort_index()\n",
    "\n",
    "sorted_yi = np.argsort(-df_class_distribution.values)\n",
    "for i in sorted_yi:\n",
    "    print('Number of data points in class', i, ':',df_class_distribution.values[i], '(', np.round((df_class_distribution.values[i]/df.shape[0]*100), 3), '%)')\n",
    "\n",
    "    \n",
    "print('-'*80)\n",
    "my_colors = 'rgbkymc'\n",
    "df_class_distribution.plot(kind='bar')\n",
    "plt.xlabel('Class')\n",
    "plt.ylabel('Data points per Class')\n",
    "plt.title('Distribution of yi in given data')\n",
    "plt.grid()\n",
    "plt.show()"
   ]
  },
  {
   "cell_type": "code",
   "execution_count": 16,
   "id": "b874e6ee",
   "metadata": {
    "colab": {
     "base_uri": "https://localhost:8080/",
     "height": 347
    },
    "id": "b874e6ee",
    "outputId": "3f445f8b-43ad-4786-be0f-fd9fc4e15704"
   },
   "outputs": [
    {
     "name": "stdout",
     "output_type": "stream",
     "text": [
      "Number of data points in class 0 : 6362604 ( 100.0 %)\n",
      "Number of data points in class 1 : 16 ( 0.0 %)\n",
      "--------------------------------------------------------------------------------\n"
     ]
    },
    {
     "data": {
      "image/png": "[encoded data removed]",
      "text/plain": [
       "<Figure size 432x288 with 1 Axes>"
      ]
     },
     "metadata": {
      "needs_background": "light"
     },
     "output_type": "display_data"
    }
   ],
   "source": [
    "# isFlaggedFraud thinks there is a fraud\n",
    "\n",
    "df_class_distribution = df['isFlaggedFraud'].value_counts().sort_index()\n",
    "\n",
    "sorted_yi = np.argsort(-df_class_distribution.values)\n",
    "for i in sorted_yi:\n",
    "    print('Number of data points in class', i, ':',df_class_distribution.values[i], '(', np.round((df_class_distribution.values[i]/df.shape[0]*100), 3), '%)')\n",
    "\n",
    "    \n",
    "print('-'*80)\n",
    "my_colors = 'rgbkymc'\n",
    "df_class_distribution.plot(kind='bar')\n",
    "plt.xlabel('Class')\n",
    "plt.ylabel('Data points per Class')\n",
    "plt.title('Distribution of yi in given data')\n",
    "plt.grid()\n",
    "plt.show()"
   ]
  },
  {
   "cell_type": "code",
   "execution_count": 17,
   "id": "8daeb34d",
   "metadata": {
    "colab": {
     "base_uri": "https://localhost:8080/",
     "height": 300
    },
    "id": "8daeb34d",
    "outputId": "aa5468d5-1fc0-4778-cd66-318803198de7"
   },
   "outputs": [
    {
     "data": {
      "text/html": [
       "\n",
       "  <div id=\"df-4efd7c21-e9df-4546-b936-4b218f02ac33\">\n",
       "    <div class=\"colab-df-container\">\n",
       "      <div>\n",
       "<style scoped>\n",
       "    .dataframe tbody tr th:only-of-type {\n",
       "        vertical-align: middle;\n",
       "    }\n",
       "\n",
       "    .dataframe tbody tr th {\n",
       "        vertical-align: top;\n",
       "    }\n",
       "\n",
       "    .dataframe thead th {\n",
       "        text-align: right;\n",
       "    }\n",
       "</style>\n",
       "<table border=\"1\" class=\"dataframe\">\n",
       "  <thead>\n",
       "    <tr style=\"text-align: right;\">\n",
       "      <th></th>\n",
       "      <th>step</th>\n",
       "      <th>amount</th>\n",
       "      <th>oldbalanceOrig</th>\n",
       "      <th>newbalanceOrig</th>\n",
       "      <th>oldbalanceDest</th>\n",
       "      <th>newbalanceDest</th>\n",
       "      <th>isFraud</th>\n",
       "      <th>isFlaggedFraud</th>\n",
       "    </tr>\n",
       "  </thead>\n",
       "  <tbody>\n",
       "    <tr>\n",
       "      <th>count</th>\n",
       "      <td>6.362620e+06</td>\n",
       "      <td>6.362620e+06</td>\n",
       "      <td>6.362620e+06</td>\n",
       "      <td>6.362620e+06</td>\n",
       "      <td>6.362620e+06</td>\n",
       "      <td>6.362620e+06</td>\n",
       "      <td>6.362620e+06</td>\n",
       "      <td>6.362620e+06</td>\n",
       "    </tr>\n",
       "    <tr>\n",
       "      <th>mean</th>\n",
       "      <td>2.433972e+02</td>\n",
       "      <td>1.798619e+05</td>\n",
       "      <td>8.338831e+05</td>\n",
       "      <td>8.551137e+05</td>\n",
       "      <td>1.100702e+06</td>\n",
       "      <td>1.224996e+06</td>\n",
       "      <td>1.290820e-03</td>\n",
       "      <td>2.514687e-06</td>\n",
       "    </tr>\n",
       "    <tr>\n",
       "      <th>std</th>\n",
       "      <td>1.423320e+02</td>\n",
       "      <td>6.038582e+05</td>\n",
       "      <td>2.888243e+06</td>\n",
       "      <td>2.924049e+06</td>\n",
       "      <td>3.399180e+06</td>\n",
       "      <td>3.674129e+06</td>\n",
       "      <td>3.590480e-02</td>\n",
       "      <td>1.585775e-03</td>\n",
       "    </tr>\n",
       "    <tr>\n",
       "      <th>min</th>\n",
       "      <td>1.000000e+00</td>\n",
       "      <td>0.000000e+00</td>\n",
       "      <td>0.000000e+00</td>\n",
       "      <td>0.000000e+00</td>\n",
       "      <td>0.000000e+00</td>\n",
       "      <td>0.000000e+00</td>\n",
       "      <td>0.000000e+00</td>\n",
       "      <td>0.000000e+00</td>\n",
       "    </tr>\n",
       "    <tr>\n",
       "      <th>25%</th>\n",
       "      <td>1.560000e+02</td>\n",
       "      <td>1.338957e+04</td>\n",
       "      <td>0.000000e+00</td>\n",
       "      <td>0.000000e+00</td>\n",
       "      <td>0.000000e+00</td>\n",
       "      <td>0.000000e+00</td>\n",
       "      <td>0.000000e+00</td>\n",
       "      <td>0.000000e+00</td>\n",
       "    </tr>\n",
       "    <tr>\n",
       "      <th>50%</th>\n",
       "      <td>2.390000e+02</td>\n",
       "      <td>7.487194e+04</td>\n",
       "      <td>1.420800e+04</td>\n",
       "      <td>0.000000e+00</td>\n",
       "      <td>1.327057e+05</td>\n",
       "      <td>2.146614e+05</td>\n",
       "      <td>0.000000e+00</td>\n",
       "      <td>0.000000e+00</td>\n",
       "    </tr>\n",
       "    <tr>\n",
       "      <th>75%</th>\n",
       "      <td>3.350000e+02</td>\n",
       "      <td>2.087215e+05</td>\n",
       "      <td>1.073152e+05</td>\n",
       "      <td>1.442584e+05</td>\n",
       "      <td>9.430367e+05</td>\n",
       "      <td>1.111909e+06</td>\n",
       "      <td>0.000000e+00</td>\n",
       "      <td>0.000000e+00</td>\n",
       "    </tr>\n",
       "    <tr>\n",
       "      <th>max</th>\n",
       "      <td>7.430000e+02</td>\n",
       "      <td>9.244552e+07</td>\n",
       "      <td>5.958504e+07</td>\n",
       "      <td>4.958504e+07</td>\n",
       "      <td>3.560159e+08</td>\n",
       "      <td>3.561793e+08</td>\n",
       "      <td>1.000000e+00</td>\n",
       "      <td>1.000000e+00</td>\n",
       "    </tr>\n",
       "  </tbody>\n",
       "</table>\n",
       "</div>\n",
       "      <button class=\"colab-df-convert\" onclick=\"convertToInteractive('df-4efd7c21-e9df-4546-b936-4b218f02ac33')\"\n",
       "              title=\"Convert this dataframe to an interactive table.\"\n",
       "              style=\"display:none;\">\n",
       "        \n",
       "  <svg xmlns=\"http://www.w3.org/2000/svg\" height=\"24px\"viewBox=\"0 0 24 24\"\n",
       "       width=\"24px\">\n",
       "    <path d=\"M0 0h24v24H0V0z\" fill=\"none\"/>\n",
       "    <path d=\"M18.56 5.44l.94 2.06.94-2.06 2.06-.94-2.06-.94-.94-2.06-.94 2.06-2.06.94zm-11 1L8.5 8.5l.94-2.06 2.06-.94-2.06-.94L8.5 2.5l-.94 2.06-2.06.94zm10 10l.94 2.06.94-2.06 2.06-.94-2.06-.94-.94-2.06-.94 2.06-2.06.94z\"/><path d=\"M17.41 7.96l-1.37-1.37c-.4-.4-.92-.59-1.43-.59-.52 0-1.04.2-1.43.59L10.3 9.45l-7.72 7.72c-.78.78-.78 2.05 0 2.83L4 21.41c.39.39.9.59 1.41.59.51 0 1.02-.2 1.41-.59l7.78-7.78 2.81-2.81c.8-.78.8-2.07 0-2.86zM5.41 20L4 18.59l7.72-7.72 1.47 1.35L5.41 20z\"/>\n",
       "  </svg>\n",
       "      </button>\n",
       "      \n",
       "  <style>\n",
       "    .colab-df-container {\n",
       "      display:flex;\n",
       "      flex-wrap:wrap;\n",
       "      gap: 12px;\n",
       "    }\n",
       "\n",
       "    .colab-df-convert {\n",
       "      background-color: #E8F0FE;\n",
       "      border: none;\n",
       "      border-radius: 50%;\n",
       "      cursor: pointer;\n",
       "      display: none;\n",
       "      fill: #1967D2;\n",
       "      height: 32px;\n",
       "      padding: 0 0 0 0;\n",
       "      width: 32px;\n",
       "    }\n",
       "\n",
       "    .colab-df-convert:hover {\n",
       "      background-color: #E2EBFA;\n",
       "      box-shadow: 0px 1px 2px rgba(60, 64, 67, 0.3), 0px 1px 3px 1px rgba(60, 64, 67, 0.15);\n",
       "      fill: #174EA6;\n",
       "    }\n",
       "\n",
       "    [theme=dark] .colab-df-convert {\n",
       "      background-color: #3B4455;\n",
       "      fill: #D2E3FC;\n",
       "    }\n",
       "\n",
       "    [theme=dark] .colab-df-convert:hover {\n",
       "      background-color: #434B5C;\n",
       "      box-shadow: 0px 1px 3px 1px rgba(0, 0, 0, 0.15);\n",
       "      filter: drop-shadow(0px 1px 2px rgba(0, 0, 0, 0.3));\n",
       "      fill: #FFFFFF;\n",
       "    }\n",
       "  </style>\n",
       "\n",
       "      <script>\n",
       "        const buttonEl =\n",
       "          document.querySelector('#df-4efd7c21-e9df-4546-b936-4b218f02ac33 button.colab-df-convert');\n",
       "        buttonEl.style.display =\n",
       "          google.colab.kernel.accessAllowed ? 'block' : 'none';\n",
       "\n",
       "        async function convertToInteractive(key) {\n",
       "          const element = document.querySelector('#df-4efd7c21-e9df-4546-b936-4b218f02ac33');\n",
       "          const dataTable =\n",
       "            await google.colab.kernel.invokeFunction('convertToInteractive',\n",
       "                                                     [key], {});\n",
       "          if (!dataTable) return;\n",
       "\n",
       "          const docLinkHtml = 'Like what you see? Visit the ' +\n",
       "            '<a target=\"_blank\" href=https://colab.research.google.com/notebooks/data_table.ipynb>data table notebook</a>'\n",
       "            + ' to learn more about interactive tables.';\n",
       "          element.innerHTML = '';\n",
       "          dataTable['output_type'] = 'display_data';\n",
       "          await google.colab.output.renderOutput(dataTable, element);\n",
       "          const docLink = document.createElement('div');\n",
       "          docLink.innerHTML = docLinkHtml;\n",
       "          element.appendChild(docLink);\n",
       "        }\n",
       "      </script>\n",
       "    </div>\n",
       "  </div>\n",
       "  "
      ],
      "text/plain": [
       "               step        amount  oldbalanceOrig  newbalanceOrig  \\\n",
       "count  6.362620e+06  6.362620e+06    6.362620e+06    6.362620e+06   \n",
       "mean   2.433972e+02  1.798619e+05    8.338831e+05    8.551137e+05   \n",
       "std    1.423320e+02  6.038582e+05    2.888243e+06    2.924049e+06   \n",
       "min    1.000000e+00  0.000000e+00    0.000000e+00    0.000000e+00   \n",
       "25%    1.560000e+02  1.338957e+04    0.000000e+00    0.000000e+00   \n",
       "50%    2.390000e+02  7.487194e+04    1.420800e+04    0.000000e+00   \n",
       "75%    3.350000e+02  2.087215e+05    1.073152e+05    1.442584e+05   \n",
       "max    7.430000e+02  9.244552e+07    5.958504e+07    4.958504e+07   \n",
       "\n",
       "       oldbalanceDest  newbalanceDest       isFraud  isFlaggedFraud  \n",
       "count    6.362620e+06    6.362620e+06  6.362620e+06    6.362620e+06  \n",
       "mean     1.100702e+06    1.224996e+06  1.290820e-03    2.514687e-06  \n",
       "std      3.399180e+06    3.674129e+06  3.590480e-02    1.585775e-03  \n",
       "min      0.000000e+00    0.000000e+00  0.000000e+00    0.000000e+00  \n",
       "25%      0.000000e+00    0.000000e+00  0.000000e+00    0.000000e+00  \n",
       "50%      1.327057e+05    2.146614e+05  0.000000e+00    0.000000e+00  \n",
       "75%      9.430367e+05    1.111909e+06  0.000000e+00    0.000000e+00  \n",
       "max      3.560159e+08    3.561793e+08  1.000000e+00    1.000000e+00  "
      ]
     },
     "execution_count": 17,
     "metadata": {},
     "output_type": "execute_result"
    }
   ],
   "source": [
    "# describe properties of continuous features\n",
    "\n",
    "df.describe()"
   ]
  },
  {
   "cell_type": "markdown",
   "id": "e517389f",
   "metadata": {
    "id": "e517389f"
   },
   "source": [
    "#### Corelation matrix"
   ]
  },
  {
   "cell_type": "code",
   "execution_count": 18,
   "id": "0d178901",
   "metadata": {
    "colab": {
     "base_uri": "https://localhost:8080/",
     "height": 1000
    },
    "id": "0d178901",
    "outputId": "3b12f37f-8850-41cb-fc85-d6416549caed"
   },
   "outputs": [
    {
     "data": {
      "image/png": "[encoded data removed]",
      "text/plain": [
       "<Figure size 1296x1296 with 2 Axes>"
      ]
     },
     "metadata": {
      "needs_background": "light"
     },
     "output_type": "display_data"
    }
   ],
   "source": [
    "f,ax = plt.subplots(figsize=(18, 18))\n",
    "corr_mat = sns.heatmap(df.corr(), annot=False, linewidths=.5, fmt= '.1f',ax=ax)"
   ]
  },
  {
   "cell_type": "markdown",
   "id": "87a8f083",
   "metadata": {
    "id": "87a8f083"
   },
   "source": [
    "## 2. Univariate analysis"
   ]
  },
  {
   "cell_type": "code",
   "execution_count": 20,
   "id": "7de8ba55",
   "metadata": {
    "colab": {
     "base_uri": "https://localhost:8080/",
     "height": 252
    },
    "id": "7de8ba55",
    "outputId": "7c537552-7354-4e18-bca0-0cf3ec87d779"
   },
   "outputs": [
    {
     "data": {
      "image/png": "[encoded data removed]",
      "text/plain": [
       "<Figure size 432x288 with 1 Axes>"
      ]
     },
     "metadata": {
      "needs_background": "light"
     },
     "output_type": "display_data"
    }
   ],
   "source": [
    "#Univariate analysis: step\n",
    "sns.boxplot(y=\"step\", data =df)\n",
    "plt.show()"
   ]
  },
  {
   "cell_type": "code",
   "execution_count": 23,
   "id": "3ffda06a",
   "metadata": {
    "colab": {
     "base_uri": "https://localhost:8080/"
    },
    "id": "3ffda06a",
    "outputId": "bbba2329-ce1b-4418-fa72-42d78d21d146"
   },
   "outputs": [
    {
     "name": "stdout",
     "output_type": "stream",
     "text": [
      "0 percentile value is 1\n",
      "10 percentile value is 35\n",
      "20 percentile value is 135\n",
      "30 percentile value is 166\n",
      "40 percentile value is 206\n",
      "50 percentile value is 239\n",
      "60 percentile value is 281\n",
      "70 percentile value is 323\n",
      "80 percentile value is 355\n",
      "90 percentile value is 399\n",
      "100 percentile value is  743\n"
     ]
    }
   ],
   "source": [
    "#calculating step values at each percntile 0,10,20,30,40,50,60,70,80,90,100 \n",
    "for i in range(0,100,10):\n",
    "    var =df[\"step\"].values\n",
    "    var = np.sort(var,axis = None)\n",
    "    print(\"{} percentile value is {}\".format(i,var[int(len(var)*(float(i)/100))]))\n",
    "print(\"100 percentile value is \",var[-1])"
   ]
  },
  {
   "cell_type": "code",
   "execution_count": 24,
   "id": "d477acbc",
   "metadata": {
    "colab": {
     "base_uri": "https://localhost:8080/"
    },
    "id": "d477acbc",
    "outputId": "02c82580-9d71-47b2-a4bb-f82a5a24766b"
   },
   "outputs": [
    {
     "name": "stdout",
     "output_type": "stream",
     "text": [
      "99.0 percentile value is 681\n",
      "99.1 percentile value is 684\n",
      "99.2 percentile value is 686\n",
      "99.3 percentile value is 687\n",
      "99.4 percentile value is 688\n",
      "99.5 percentile value is 690\n",
      "99.6 percentile value is 691\n",
      "99.7 percentile value is 692\n",
      "99.8 percentile value is 695\n",
      "99.9 percentile value is 710\n",
      "100 percentile value is  743\n"
     ]
    }
   ],
   "source": [
    "#calculating step values at each percntile 99.0,99.1,99.2,99.3,99.4,99.5,99.6,99.7,99.8,99.9,100\n",
    "for i in np.arange(0.0, 1.0, 0.1):\n",
    "    var =df[\"step\"].values\n",
    "    var = np.sort(var,axis = None)\n",
    "    print(\"{} percentile value is {}\".format(99+i,var[int(len(var)*(float(99+i)/100))]))\n",
    "print(\"100 percentile value is \",var[-1])"
   ]
  },
  {
   "cell_type": "code",
   "execution_count": 25,
   "id": "3c95f12d",
   "metadata": {
    "colab": {
     "base_uri": "https://localhost:8080/",
     "height": 278
    },
    "id": "3c95f12d",
    "outputId": "e6cb5975-6dda-438c-c8a8-3d900f512634"
   },
   "outputs": [
    {
     "data": {
      "image/png": "[encoded data removed]",
      "text/plain": [
       "<Figure size 432x288 with 1 Axes>"
      ]
     },
     "metadata": {
      "needs_background": "light"
     },
     "output_type": "display_data"
    }
   ],
   "source": [
    "plt.plot(var[:-2])\n",
    "plt.show()"
   ]
  },
  {
   "cell_type": "code",
   "execution_count": 26,
   "id": "b4975108",
   "metadata": {
    "colab": {
     "base_uri": "https://localhost:8080/",
     "height": 265
    },
    "id": "b4975108",
    "outputId": "7a8873b1-62f3-4ab7-9fa0-3b0643b8a936"
   },
   "outputs": [
    {
     "data": {
      "image/png": "[encoded data removed]",
      "text/plain": [
       "<Figure size 432x288 with 1 Axes>"
      ]
     },
     "metadata": {
      "needs_background": "light"
     },
     "output_type": "display_data"
    }
   ],
   "source": [
    "plt.plot(var[-400:-2])\n",
    "plt.grid()\n",
    "plt.show()"
   ]
  },
  {
   "cell_type": "code",
   "execution_count": 27,
   "id": "ff01d8c4",
   "metadata": {
    "colab": {
     "base_uri": "https://localhost:8080/",
     "height": 263
    },
    "id": "ff01d8c4",
    "outputId": "7be40779-210e-45bf-ece3-6bc1df4fefac"
   },
   "outputs": [
    {
     "data": {
      "image/png": "[encoded data removed]",
      "text/plain": [
       "<Figure size 432x288 with 1 Axes>"
      ]
     },
     "metadata": {
      "needs_background": "light"
     },
     "output_type": "display_data"
    }
   ],
   "source": [
    "#Univariate analysis: amount\n",
    "sns.boxplot(y=\"amount\", data =df)\n",
    "plt.show()"
   ]
  },
  {
   "cell_type": "code",
   "execution_count": 28,
   "id": "c1036bd2",
   "metadata": {
    "colab": {
     "base_uri": "https://localhost:8080/"
    },
    "id": "c1036bd2",
    "outputId": "33acc9c1-a665-486e-d8cb-57b071718a30"
   },
   "outputs": [
    {
     "name": "stdout",
     "output_type": "stream",
     "text": [
      "0 percentile value is 0.0\n",
      "10 percentile value is 4501.3\n",
      "20 percentile value is 9866.16\n",
      "30 percentile value is 18092.04\n",
      "40 percentile value is 36371.37\n",
      "50 percentile value is 74872.08\n",
      "60 percentile value is 122563.82\n",
      "70 percentile value is 176802.01\n",
      "80 percentile value is 246611.46\n",
      "90 percentile value is 365423.48\n",
      "100 percentile value is  92445516.64\n"
     ]
    }
   ],
   "source": [
    "#calculating amount values at each percntile 0,10,20,30,40,50,60,70,80,90,100 \n",
    "for i in range(0,100,10):\n",
    "    var =df[\"amount\"].values\n",
    "    var = np.sort(var,axis = None)\n",
    "    print(\"{} percentile value is {}\".format(i,var[int(len(var)*(float(i)/100))]))\n",
    "print(\"100 percentile value is \",var[-1])"
   ]
  },
  {
   "cell_type": "code",
   "execution_count": 29,
   "id": "2a13eab6",
   "metadata": {
    "colab": {
     "base_uri": "https://localhost:8080/"
    },
    "id": "2a13eab6",
    "outputId": "fc635f96-e026-42f9-fa3a-b5d1625fd255"
   },
   "outputs": [
    {
     "name": "stdout",
     "output_type": "stream",
     "text": [
      "0.0 percentile value is 0.0\n",
      "0.1 percentile value is 44.8\n",
      "0.2 percentile value is 90.29\n",
      "0.3 percentile value is 135.5\n",
      "0.4 percentile value is 180.53\n",
      "0.5 percentile value is 224.97\n",
      "0.6 percentile value is 270.16\n",
      "0.7 percentile value is 314.92\n",
      "0.8 percentile value is 360.05\n",
      "0.9 percentile value is 404.74\n",
      "1.0 percentile value is 449.46\n"
     ]
    }
   ],
   "source": [
    "#calculating amount values at each percntile 0.0,0.1,0.2,0.3,0.4,0.5,0.6,0.7,0.8,0.9,1.0\n",
    "for i in np.arange(0.0, 1.1, 0.1):\n",
    "    var =df[\"amount\"].values\n",
    "    var = np.sort(var,axis = None)\n",
    "    print(\"{} percentile value is {}\".format(round(0+i,1) ,var[int(len(var)*(float(0+i)/100))]))\n",
    "#print(\"10 percentile value is \",var[-1])"
   ]
  },
  {
   "cell_type": "code",
   "execution_count": 30,
   "id": "34742ed2",
   "metadata": {
    "colab": {
     "base_uri": "https://localhost:8080/"
    },
    "id": "34742ed2",
    "outputId": "ae4dc9e5-54b3-4bfe-ba96-57bf514beed5"
   },
   "outputs": [
    {
     "name": "stdout",
     "output_type": "stream",
     "text": [
      "99.0 percentile value is 1615983.34\n",
      "99.1 percentile value is 1723316.32\n",
      "99.2 percentile value is 1850389.76\n",
      "99.3 percentile value is 2002993.66\n",
      "99.4 percentile value is 2189828.78\n",
      "99.5 percentile value is 2437749.43\n",
      "99.6 percentile value is 2793739.8\n",
      "99.7 percentile value is 3365587.84\n",
      "99.8 percentile value is 4566847.18\n",
      "99.9 percentile value is 8959364.15\n",
      "100 percentile value is  92445516.64\n"
     ]
    }
   ],
   "source": [
    "#calculating amount values at each percntile 99.0,99.1,99.2,99.3,99.4,99.5,99.6,99.7,99.8,99.9,100\n",
    "for i in np.arange(0.0, 1.0, 0.1):\n",
    "    var =df[\"amount\"].values\n",
    "    var = np.sort(var,axis = None)\n",
    "    print(\"{} percentile value is {}\".format(99+i,var[int(len(var)*(float(99+i)/100))]))\n",
    "print(\"100 percentile value is \",var[-1])"
   ]
  },
  {
   "cell_type": "code",
   "execution_count": 31,
   "id": "b93f435f",
   "metadata": {
    "colab": {
     "base_uri": "https://localhost:8080/",
     "height": 289
    },
    "id": "b93f435f",
    "outputId": "5c40b2a8-385b-4383-cb77-aca27f3657e0"
   },
   "outputs": [
    {
     "data": {
      "image/png": "[encoded data removed]",
      "text/plain": [
       "<Figure size 432x288 with 1 Axes>"
      ]
     },
     "metadata": {
      "needs_background": "light"
     },
     "output_type": "display_data"
    }
   ],
   "source": [
    "plt.plot(var[:-2])\n",
    "plt.show()"
   ]
  },
  {
   "cell_type": "code",
   "execution_count": 32,
   "id": "80d5e4fc",
   "metadata": {
    "colab": {
     "base_uri": "https://localhost:8080/",
     "height": 276
    },
    "id": "80d5e4fc",
    "outputId": "e58a0ecb-c0cb-4b4f-90b6-93b98cb3ecb5"
   },
   "outputs": [
    {
     "data": {
      "image/png": "[encoded data removed]",
      "text/plain": [
       "<Figure size 432x288 with 1 Axes>"
      ]
     },
     "metadata": {
      "needs_background": "light"
     },
     "output_type": "display_data"
    }
   ],
   "source": [
    "plt.plot(var[-1000:-1])\n",
    "plt.grid()\n",
    "plt.show()"
   ]
  },
  {
   "cell_type": "code",
   "execution_count": 33,
   "id": "2edba0c5",
   "metadata": {
    "colab": {
     "base_uri": "https://localhost:8080/",
     "height": 276
    },
    "id": "2edba0c5",
    "outputId": "94bd64c5-caff-4bf4-ec9b-2a80d4302467"
   },
   "outputs": [
    {
     "data": {
      "image/png": "[encoded data removed]",
      "text/plain": [
       "<Figure size 432x288 with 1 Axes>"
      ]
     },
     "metadata": {
      "needs_background": "light"
     },
     "output_type": "display_data"
    }
   ],
   "source": [
    "plt.plot(var[-600:-1])\n",
    "plt.grid()\n",
    "plt.show()"
   ]
  },
  {
   "cell_type": "code",
   "execution_count": 34,
   "id": "26dcf6ef",
   "metadata": {
    "colab": {
     "base_uri": "https://localhost:8080/",
     "height": 276
    },
    "id": "26dcf6ef",
    "outputId": "98745d1a-9c97-49d0-9207-0744e783f6e9"
   },
   "outputs": [
    {
     "data": {
      "image/png": "[encoded data removed]",
      "text/plain": [
       "<Figure size 432x288 with 1 Axes>"
      ]
     },
     "metadata": {
      "needs_background": "light"
     },
     "output_type": "display_data"
    }
   ],
   "source": [
    "plt.plot(var[-400:-1])\n",
    "plt.grid()\n",
    "plt.show()"
   ]
  },
  {
   "cell_type": "code",
   "execution_count": 35,
   "id": "27231c5a",
   "metadata": {
    "colab": {
     "base_uri": "https://localhost:8080/"
    },
    "id": "27231c5a",
    "outputId": "20f023a1-2126-48bb-885a-d440be154777"
   },
   "outputs": [
    {
     "data": {
      "text/plain": [
       "CASH_OUT    2237500\n",
       "PAYMENT     2151495\n",
       "CASH_IN     1399284\n",
       "TRANSFER     532909\n",
       "DEBIT         41432\n",
       "Name: type, dtype: int64"
      ]
     },
     "execution_count": 35,
     "metadata": {},
     "output_type": "execute_result"
    }
   ],
   "source": [
    "#Univariate analysis: type\n",
    "\n",
    "df['type'].value_counts()"
   ]
  },
  {
   "cell_type": "code",
   "execution_count": 36,
   "id": "6f175b5a",
   "metadata": {
    "colab": {
     "base_uri": "https://localhost:8080/",
     "height": 339
    },
    "id": "6f175b5a",
    "outputId": "e421ec1f-d842-4278-917e-588498bf404f"
   },
   "outputs": [
    {
     "data": {
      "image/png": "[encoded data removed]",
      "text/plain": [
       "<Figure size 432x288 with 1 Axes>"
      ]
     },
     "metadata": {
      "needs_background": "light"
     },
     "output_type": "display_data"
    }
   ],
   "source": [
    "#Univariate analysis: type\n",
    "\n",
    "occupation_distribution = df['type'].value_counts().sort_index()\n",
    "\n",
    "my_colors = 'rgbkymc'\n",
    "occupation_distribution.plot(kind='bar')\n",
    "plt.xlabel('type')\n",
    "plt.ylabel('Data points per type')\n",
    "plt.title('type')\n",
    "plt.grid()\n",
    "plt.show()\n"
   ]
  },
  {
   "cell_type": "code",
   "execution_count": 37,
   "id": "4f3a7a53",
   "metadata": {
    "colab": {
     "base_uri": "https://localhost:8080/",
     "height": 250
    },
    "id": "4f3a7a53",
    "outputId": "6b60f50a-38ce-460e-d1ec-0dc55762b942"
   },
   "outputs": [
    {
     "data": {
      "text/html": [
       "\n",
       "  <div id=\"df-b7f18566-5fb8-4960-a994-f2765ece3f8f\">\n",
       "    <div class=\"colab-df-container\">\n",
       "      <div>\n",
       "<style scoped>\n",
       "    .dataframe tbody tr th:only-of-type {\n",
       "        vertical-align: middle;\n",
       "    }\n",
       "\n",
       "    .dataframe tbody tr th {\n",
       "        vertical-align: top;\n",
       "    }\n",
       "\n",
       "    .dataframe thead th {\n",
       "        text-align: right;\n",
       "    }\n",
       "</style>\n",
       "<table border=\"1\" class=\"dataframe\">\n",
       "  <thead>\n",
       "    <tr style=\"text-align: right;\">\n",
       "      <th></th>\n",
       "      <th>step</th>\n",
       "      <th>type</th>\n",
       "      <th>amount</th>\n",
       "      <th>nameOrig</th>\n",
       "      <th>oldbalanceOrig</th>\n",
       "      <th>newbalanceOrig</th>\n",
       "      <th>nameDest</th>\n",
       "      <th>oldbalanceDest</th>\n",
       "      <th>newbalanceDest</th>\n",
       "      <th>isFraud</th>\n",
       "      <th>isFlaggedFraud</th>\n",
       "    </tr>\n",
       "  </thead>\n",
       "  <tbody>\n",
       "    <tr>\n",
       "      <th>0</th>\n",
       "      <td>1</td>\n",
       "      <td>PAYMENT</td>\n",
       "      <td>9839.64</td>\n",
       "      <td>C1231006815</td>\n",
       "      <td>170136.0</td>\n",
       "      <td>160296.36</td>\n",
       "      <td>M1979787155</td>\n",
       "      <td>0.0</td>\n",
       "      <td>0.0</td>\n",
       "      <td>0</td>\n",
       "      <td>0</td>\n",
       "    </tr>\n",
       "    <tr>\n",
       "      <th>1</th>\n",
       "      <td>1</td>\n",
       "      <td>PAYMENT</td>\n",
       "      <td>1864.28</td>\n",
       "      <td>C1666544295</td>\n",
       "      <td>21249.0</td>\n",
       "      <td>19384.72</td>\n",
       "      <td>M2044282225</td>\n",
       "      <td>0.0</td>\n",
       "      <td>0.0</td>\n",
       "      <td>0</td>\n",
       "      <td>0</td>\n",
       "    </tr>\n",
       "    <tr>\n",
       "      <th>2</th>\n",
       "      <td>1</td>\n",
       "      <td>TRANSFER</td>\n",
       "      <td>181.00</td>\n",
       "      <td>C1305486145</td>\n",
       "      <td>181.0</td>\n",
       "      <td>0.00</td>\n",
       "      <td>C553264065</td>\n",
       "      <td>0.0</td>\n",
       "      <td>0.0</td>\n",
       "      <td>1</td>\n",
       "      <td>0</td>\n",
       "    </tr>\n",
       "    <tr>\n",
       "      <th>3</th>\n",
       "      <td>1</td>\n",
       "      <td>CASH_OUT</td>\n",
       "      <td>181.00</td>\n",
       "      <td>C840083671</td>\n",
       "      <td>181.0</td>\n",
       "      <td>0.00</td>\n",
       "      <td>C38997010</td>\n",
       "      <td>21182.0</td>\n",
       "      <td>0.0</td>\n",
       "      <td>1</td>\n",
       "      <td>0</td>\n",
       "    </tr>\n",
       "    <tr>\n",
       "      <th>4</th>\n",
       "      <td>1</td>\n",
       "      <td>PAYMENT</td>\n",
       "      <td>11668.14</td>\n",
       "      <td>C2048537720</td>\n",
       "      <td>41554.0</td>\n",
       "      <td>29885.86</td>\n",
       "      <td>M1230701703</td>\n",
       "      <td>0.0</td>\n",
       "      <td>0.0</td>\n",
       "      <td>0</td>\n",
       "      <td>0</td>\n",
       "    </tr>\n",
       "  </tbody>\n",
       "</table>\n",
       "</div>\n",
       "      <button class=\"colab-df-convert\" onclick=\"convertToInteractive('df-b7f18566-5fb8-4960-a994-f2765ece3f8f')\"\n",
       "              title=\"Convert this dataframe to an interactive table.\"\n",
       "              style=\"display:none;\">\n",
       "        \n",
       "  <svg xmlns=\"http://www.w3.org/2000/svg\" height=\"24px\"viewBox=\"0 0 24 24\"\n",
       "       width=\"24px\">\n",
       "    <path d=\"M0 0h24v24H0V0z\" fill=\"none\"/>\n",
       "    <path d=\"M18.56 5.44l.94 2.06.94-2.06 2.06-.94-2.06-.94-.94-2.06-.94 2.06-2.06.94zm-11 1L8.5 8.5l.94-2.06 2.06-.94-2.06-.94L8.5 2.5l-.94 2.06-2.06.94zm10 10l.94 2.06.94-2.06 2.06-.94-2.06-.94-.94-2.06-.94 2.06-2.06.94z\"/><path d=\"M17.41 7.96l-1.37-1.37c-.4-.4-.92-.59-1.43-.59-.52 0-1.04.2-1.43.59L10.3 9.45l-7.72 7.72c-.78.78-.78 2.05 0 2.83L4 21.41c.39.39.9.59 1.41.59.51 0 1.02-.2 1.41-.59l7.78-7.78 2.81-2.81c.8-.78.8-2.07 0-2.86zM5.41 20L4 18.59l7.72-7.72 1.47 1.35L5.41 20z\"/>\n",
       "  </svg>\n",
       "      </button>\n",
       "      \n",
       "  <style>\n",
       "    .colab-df-container {\n",
       "      display:flex;\n",
       "      flex-wrap:wrap;\n",
       "      gap: 12px;\n",
       "    }\n",
       "\n",
       "    .colab-df-convert {\n",
       "      background-color: #E8F0FE;\n",
       "      border: none;\n",
       "      border-radius: 50%;\n",
       "      cursor: pointer;\n",
       "      display: none;\n",
       "      fill: #1967D2;\n",
       "      height: 32px;\n",
       "      padding: 0 0 0 0;\n",
       "      width: 32px;\n",
       "    }\n",
       "\n",
       "    .colab-df-convert:hover {\n",
       "      background-color: #E2EBFA;\n",
       "      box-shadow: 0px 1px 2px rgba(60, 64, 67, 0.3), 0px 1px 3px 1px rgba(60, 64, 67, 0.15);\n",
       "      fill: #174EA6;\n",
       "    }\n",
       "\n",
       "    [theme=dark] .colab-df-convert {\n",
       "      background-color: #3B4455;\n",
       "      fill: #D2E3FC;\n",
       "    }\n",
       "\n",
       "    [theme=dark] .colab-df-convert:hover {\n",
       "      background-color: #434B5C;\n",
       "      box-shadow: 0px 1px 3px 1px rgba(0, 0, 0, 0.15);\n",
       "      filter: drop-shadow(0px 1px 2px rgba(0, 0, 0, 0.3));\n",
       "      fill: #FFFFFF;\n",
       "    }\n",
       "  </style>\n",
       "\n",
       "      <script>\n",
       "        const buttonEl =\n",
       "          document.querySelector('#df-b7f18566-5fb8-4960-a994-f2765ece3f8f button.colab-df-convert');\n",
       "        buttonEl.style.display =\n",
       "          google.colab.kernel.accessAllowed ? 'block' : 'none';\n",
       "\n",
       "        async function convertToInteractive(key) {\n",
       "          const element = document.querySelector('#df-b7f18566-5fb8-4960-a994-f2765ece3f8f');\n",
       "          const dataTable =\n",
       "            await google.colab.kernel.invokeFunction('convertToInteractive',\n",
       "                                                     [key], {});\n",
       "          if (!dataTable) return;\n",
       "\n",
       "          const docLinkHtml = 'Like what you see? Visit the ' +\n",
       "            '<a target=\"_blank\" href=https://colab.research.google.com/notebooks/data_table.ipynb>data table notebook</a>'\n",
       "            + ' to learn more about interactive tables.';\n",
       "          element.innerHTML = '';\n",
       "          dataTable['output_type'] = 'display_data';\n",
       "          await google.colab.output.renderOutput(dataTable, element);\n",
       "          const docLink = document.createElement('div');\n",
       "          docLink.innerHTML = docLinkHtml;\n",
       "          element.appendChild(docLink);\n",
       "        }\n",
       "      </script>\n",
       "    </div>\n",
       "  </div>\n",
       "  "
      ],
      "text/plain": [
       "   step      type    amount     nameOrig  oldbalanceOrig  newbalanceOrig  \\\n",
       "0     1   PAYMENT   9839.64  C1231006815        170136.0       160296.36   \n",
       "1     1   PAYMENT   1864.28  C1666544295         21249.0        19384.72   \n",
       "2     1  TRANSFER    181.00  C1305486145           181.0            0.00   \n",
       "3     1  CASH_OUT    181.00   C840083671           181.0            0.00   \n",
       "4     1   PAYMENT  11668.14  C2048537720         41554.0        29885.86   \n",
       "\n",
       "      nameDest  oldbalanceDest  newbalanceDest  isFraud  isFlaggedFraud  \n",
       "0  M1979787155             0.0             0.0        0               0  \n",
       "1  M2044282225             0.0             0.0        0               0  \n",
       "2   C553264065             0.0             0.0        1               0  \n",
       "3    C38997010         21182.0             0.0        1               0  \n",
       "4  M1230701703             0.0             0.0        0               0  "
      ]
     },
     "execution_count": 37,
     "metadata": {},
     "output_type": "execute_result"
    }
   ],
   "source": [
    "df.head()"
   ]
  },
  {
   "cell_type": "code",
   "execution_count": 38,
   "id": "3764bc79",
   "metadata": {
    "colab": {
     "base_uri": "https://localhost:8080/"
    },
    "id": "3764bc79",
    "outputId": "4b12fe23-87a8-4177-c2e3-7d1ca5348c47"
   },
   "outputs": [
    {
     "data": {
      "text/plain": [
       "step                int64\n",
       "type               object\n",
       "amount            float64\n",
       "nameOrig           object\n",
       "oldbalanceOrig    float64\n",
       "newbalanceOrig    float64\n",
       "nameDest           object\n",
       "oldbalanceDest    float64\n",
       "newbalanceDest    float64\n",
       "isFraud             int64\n",
       "isFlaggedFraud      int64\n",
       "dtype: object"
      ]
     },
     "execution_count": 38,
     "metadata": {},
     "output_type": "execute_result"
    }
   ],
   "source": [
    "df.dtypes"
   ]
  },
  {
   "cell_type": "code",
   "execution_count": 39,
   "id": "9f72f0c5",
   "metadata": {
    "colab": {
     "base_uri": "https://localhost:8080/"
    },
    "id": "9f72f0c5",
    "outputId": "7bc64d09-efe2-49d7-f663-955d1a931dda"
   },
   "outputs": [
    {
     "data": {
      "text/plain": [
       "C1902386530    3\n",
       "C363736674     3\n",
       "C545315117     3\n",
       "C724452879     3\n",
       "C1784010646    3\n",
       "              ..\n",
       "C98968405      1\n",
       "C720209255     1\n",
       "C1567523029    1\n",
       "C644777639     1\n",
       "C1280323807    1\n",
       "Name: nameOrig, Length: 6353307, dtype: int64"
      ]
     },
     "execution_count": 39,
     "metadata": {},
     "output_type": "execute_result"
    }
   ],
   "source": [
    "df['nameOrig'].value_counts()"
   ]
  },
  {
   "cell_type": "code",
   "execution_count": 40,
   "id": "7bc8b66a",
   "metadata": {
    "colab": {
     "base_uri": "https://localhost:8080/",
     "height": 263
    },
    "id": "7bc8b66a",
    "outputId": "c5df86f3-bf61-4fc5-e263-626c020f40a2"
   },
   "outputs": [
    {
     "data": {
      "image/png": "[encoded data removed]",
      "text/plain": [
       "<Figure size 432x288 with 1 Axes>"
      ]
     },
     "metadata": {
      "needs_background": "light"
     },
     "output_type": "display_data"
    }
   ],
   "source": [
    "#Univariate analysis: oldbalanceOrig\n",
    "sns.boxplot(y=\"oldbalanceOrig\", data =df)\n",
    "plt.show()"
   ]
  },
  {
   "cell_type": "code",
   "execution_count": 41,
   "id": "51f0aab2",
   "metadata": {
    "colab": {
     "base_uri": "https://localhost:8080/"
    },
    "id": "51f0aab2",
    "outputId": "01b91c43-d6b8-417d-9114-7b9c5e4942f1"
   },
   "outputs": [
    {
     "name": "stdout",
     "output_type": "stream",
     "text": [
      "0 percentile value is 0.0\n",
      "10 percentile value is 0.0\n",
      "20 percentile value is 0.0\n",
      "30 percentile value is 0.0\n",
      "40 percentile value is 2344.0\n",
      "50 percentile value is 14208.0\n",
      "60 percentile value is 30776.0\n",
      "70 percentile value is 69499.0\n",
      "80 percentile value is 198632.0\n",
      "90 percentile value is 1822519.8\n",
      "100 percentile value is  59585040.37\n"
     ]
    }
   ],
   "source": [
    "#Univariate analysis: oldbalanceOrig\n",
    "\n",
    "#calculating oldbalanceOrg values at each percntile 0,10,20,30,40,50,60,70,80,90,100 \n",
    "for i in range(0,100,10):\n",
    "    var =df[\"oldbalanceOrig\"].values\n",
    "    var = np.sort(var,axis = None)\n",
    "    print(\"{} percentile value is {}\".format(i,var[int(len(var)*(float(i)/100))]))\n",
    "print(\"100 percentile value is \",var[-1])"
   ]
  },
  {
   "cell_type": "code",
   "execution_count": 42,
   "id": "02a247fa",
   "metadata": {
    "colab": {
     "base_uri": "https://localhost:8080/"
    },
    "id": "02a247fa",
    "outputId": "fb425b7f-09ce-4765-888b-2f5ff37fd9c8"
   },
   "outputs": [
    {
     "name": "stdout",
     "output_type": "stream",
     "text": [
      "30.0 percentile value is 0.0\n",
      "30.5 percentile value is 0.0\n",
      "31.0 percentile value is 0.0\n",
      "31.5 percentile value is 0.0\n",
      "32.0 percentile value is 0.0\n",
      "32.5 percentile value is 0.0\n",
      "33.0 percentile value is 0.0\n",
      "33.5 percentile value is 87.0\n",
      "34.0 percentile value is 132.0\n",
      "34.5 percentile value is 168.0\n",
      "35.0 percentile value is 212.0\n",
      "35.5 percentile value is 278.0\n",
      "36.0 percentile value is 371.0\n",
      "36.5 percentile value is 483.0\n",
      "37.0 percentile value is 589.29\n",
      "37.5 percentile value is 736.0\n",
      "38.0 percentile value is 912.0\n",
      "38.5 percentile value is 1085.0\n",
      "39.0 percentile value is 1387.0\n",
      "39.5 percentile value is 1869.0\n",
      "40.0 percentile value is 2344.0\n"
     ]
    }
   ],
   "source": [
    "#calculating oldbalanceOrig values at each percntile 30.0,30.1,30.2,30.3,30.4,30.5,30.6,30.7,30.8,30.9,40.0\n",
    "for i in np.arange(30.0, 40.1, 0.5):\n",
    "    var =df[\"oldbalanceOrig\"].values\n",
    "    var = np.sort(var,axis = None)\n",
    "    print(\"{} percentile value is {}\".format(round(0+i,1) ,var[int(len(var)*(float(0+i)/100))]))\n",
    "#print(\"10 percentile value is \",var[-1])"
   ]
  },
  {
   "cell_type": "code",
   "execution_count": 43,
   "id": "a866b5ca",
   "metadata": {
    "colab": {
     "base_uri": "https://localhost:8080/"
    },
    "id": "a866b5ca",
    "outputId": "f371771c-7b7f-41e5-de52-91c2ae608874"
   },
   "outputs": [
    {
     "name": "stdout",
     "output_type": "stream",
     "text": [
      "99.0 percentile value is 16027262.74\n",
      "99.1 percentile value is 16840426.88\n",
      "99.2 percentile value is 17698483.15\n",
      "99.3 percentile value is 18604755.85\n",
      "99.4 percentile value is 19591046.21\n",
      "99.5 percentile value is 20675615.17\n",
      "99.6 percentile value is 21885206.52\n",
      "99.7 percentile value is 23209613.51\n",
      "99.8 percentile value is 24762536.25\n",
      "99.9 percentile value is 26825980.74\n",
      "100 percentile value is  59585040.37\n"
     ]
    }
   ],
   "source": [
    "#calculating oldbalanceOrig values at each percntile 99.0,99.1,99.2,99.3,99.4,99.5,99.6,99.7,99.8,99.9,100\n",
    "for i in np.arange(0.0, 1.0, 0.1):\n",
    "    var =df[\"oldbalanceOrig\"].values\n",
    "    var = np.sort(var,axis = None)\n",
    "    print(\"{} percentile value is {}\".format(99+i,var[int(len(var)*(float(99+i)/100))]))\n",
    "print(\"100 percentile value is \",var[-1])"
   ]
  },
  {
   "cell_type": "code",
   "execution_count": 44,
   "id": "db28723c",
   "metadata": {
    "colab": {
     "base_uri": "https://localhost:8080/",
     "height": 289
    },
    "id": "db28723c",
    "outputId": "6ea320ce-4016-43d5-c1d7-6b1d13aa35ac"
   },
   "outputs": [
    {
     "data": {
      "image/png": "[encoded data removed]",
      "text/plain": [
       "<Figure size 432x288 with 1 Axes>"
      ]
     },
     "metadata": {
      "needs_background": "light"
     },
     "output_type": "display_data"
    }
   ],
   "source": [
    "plt.plot(var[:-2])\n",
    "plt.show()"
   ]
  },
  {
   "cell_type": "code",
   "execution_count": 45,
   "id": "093b3f17",
   "metadata": {
    "colab": {
     "base_uri": "https://localhost:8080/",
     "height": 276
    },
    "id": "093b3f17",
    "outputId": "a176b30c-3628-4c5b-f42a-5fc5c23fd8a0"
   },
   "outputs": [
    {
     "data": {
      "image/png": "[encoded data removed]",
      "text/plain": [
       "<Figure size 432x288 with 1 Axes>"
      ]
     },
     "metadata": {
      "needs_background": "light"
     },
     "output_type": "display_data"
    }
   ],
   "source": [
    "plt.plot(var[-400:-2])\n",
    "plt.grid()\n",
    "plt.show()"
   ]
  },
  {
   "cell_type": "code",
   "execution_count": 46,
   "id": "19ee3239",
   "metadata": {
    "colab": {
     "base_uri": "https://localhost:8080/",
     "height": 276
    },
    "id": "19ee3239",
    "outputId": "836dc0c8-ea11-4c6a-c5c2-1736aee015e1"
   },
   "outputs": [
    {
     "data": {
      "image/png": "[encoded data removed]",
      "text/plain": [
       "<Figure size 432x288 with 1 Axes>"
      ]
     },
     "metadata": {
      "needs_background": "light"
     },
     "output_type": "display_data"
    }
   ],
   "source": [
    "plt.plot(var[-100:-2])\n",
    "plt.grid()\n",
    "plt.show()"
   ]
  },
  {
   "cell_type": "code",
   "execution_count": 47,
   "id": "8fee4483",
   "metadata": {
    "colab": {
     "base_uri": "https://localhost:8080/",
     "height": 263
    },
    "id": "8fee4483",
    "outputId": "6e9f5305-1d36-4d4f-efa4-8f400caf6c1b"
   },
   "outputs": [
    {
     "data": {
      "image/png": "[encoded data removed]",
      "text/plain": [
       "<Figure size 432x288 with 1 Axes>"
      ]
     },
     "metadata": {
      "needs_background": "light"
     },
     "output_type": "display_data"
    }
   ],
   "source": [
    "#Univariate analysis: newbalanceOrig\n",
    "sns.boxplot(y=\"newbalanceOrig\", data =df)\n",
    "plt.show()"
   ]
  },
  {
   "cell_type": "code",
   "execution_count": 48,
   "id": "328322fd",
   "metadata": {
    "colab": {
     "base_uri": "https://localhost:8080/"
    },
    "id": "328322fd",
    "outputId": "d73e5494-124e-4979-ea75-a07286aa37b9"
   },
   "outputs": [
    {
     "name": "stdout",
     "output_type": "stream",
     "text": [
      "0 percentile value is 0.0\n",
      "10 percentile value is 0.0\n",
      "20 percentile value is 0.0\n",
      "30 percentile value is 0.0\n",
      "40 percentile value is 0.0\n",
      "50 percentile value is 0.0\n",
      "60 percentile value is 9741.98\n",
      "70 percentile value is 76452.84\n",
      "80 percentile value is 246708.2\n",
      "90 percentile value is 1970345.9\n",
      "100 percentile value is  49585040.37\n"
     ]
    }
   ],
   "source": [
    "#Univariate analysis: newbalanceOrig\n",
    "\n",
    "#calculating newbalanceOrig values at each percntile 0,10,20,30,40,50,60,70,80,90,100 \n",
    "for i in range(0,100,10):\n",
    "    var =df[\"newbalanceOrig\"].values\n",
    "    var = np.sort(var,axis = None)\n",
    "    print(\"{} percentile value is {}\".format(i,var[int(len(var)*(float(i)/100))]))\n",
    "print(\"100 percentile value is \",var[-1])"
   ]
  },
  {
   "cell_type": "code",
   "execution_count": 49,
   "id": "235c7be5",
   "metadata": {
    "colab": {
     "base_uri": "https://localhost:8080/"
    },
    "id": "235c7be5",
    "outputId": "d0a180b6-9a65-44e9-c906-e9fe34b63411"
   },
   "outputs": [
    {
     "name": "stdout",
     "output_type": "stream",
     "text": [
      "50.0 percentile value is 0.0\n",
      "50.5 percentile value is 0.0\n",
      "51.0 percentile value is 0.0\n",
      "51.5 percentile value is 0.0\n",
      "52.0 percentile value is 0.0\n",
      "52.5 percentile value is 0.0\n",
      "53.0 percentile value is 0.0\n",
      "53.5 percentile value is 0.0\n",
      "54.0 percentile value is 0.0\n",
      "54.5 percentile value is 0.0\n",
      "55.0 percentile value is 0.0\n",
      "55.5 percentile value is 0.0\n",
      "56.0 percentile value is 0.0\n",
      "56.5 percentile value is 0.0\n",
      "57.0 percentile value is 669.13\n",
      "57.5 percentile value is 2111.15\n",
      "58.0 percentile value is 3614.55\n",
      "58.5 percentile value is 5108.52\n",
      "59.0 percentile value is 6648.0\n",
      "59.5 percentile value is 8197.17\n",
      "60.0 percentile value is 9741.98\n"
     ]
    }
   ],
   "source": [
    "#calculating newbalanceOrig values at each percntile 50.0,50.1,50.2,50.3,50.4,50.5,50.6,50.7,50.8,50.9,60.0\n",
    "for i in np.arange(50.0, 60.1, 0.5):\n",
    "    var =df[\"newbalanceOrig\"].values\n",
    "    var = np.sort(var,axis = None)\n",
    "    print(\"{} percentile value is {}\".format(round(0+i,1) ,var[int(len(var)*(float(0+i)/100))]))\n",
    "#print(\"10 percentile value is \",var[-1])"
   ]
  },
  {
   "cell_type": "code",
   "execution_count": 50,
   "id": "73842fa0",
   "metadata": {
    "colab": {
     "base_uri": "https://localhost:8080/"
    },
    "id": "73842fa0",
    "outputId": "008a3578-102c-40c8-b2df-9b5bee7d0669"
   },
   "outputs": [
    {
     "name": "stdout",
     "output_type": "stream",
     "text": [
      "99.0 percentile value is 16176164.13\n",
      "99.1 percentile value is 16998121.86\n",
      "99.2 percentile value is 17848561.89\n",
      "99.3 percentile value is 18758888.48\n",
      "99.4 percentile value is 19740788.1\n",
      "99.5 percentile value is 20826738.43\n",
      "99.6 percentile value is 22031141.86\n",
      "99.7 percentile value is 23366882.66\n",
      "99.8 percentile value is 24913747.44\n",
      "99.9 percentile value is 26971725.12\n",
      "100 percentile value is  49585040.37\n"
     ]
    }
   ],
   "source": [
    "#calculating newbalanceOrig values at each percntile 99.0,99.1,99.2,99.3,99.4,99.5,99.6,99.7,99.8,99.9,100\n",
    "for i in np.arange(0.0, 1.0, 0.1):\n",
    "    var =df[\"newbalanceOrig\"].values\n",
    "    var = np.sort(var,axis = None)\n",
    "    print(\"{} percentile value is {}\".format(99+i,var[int(len(var)*(float(99+i)/100))]))\n",
    "print(\"100 percentile value is \",var[-1])"
   ]
  },
  {
   "cell_type": "code",
   "execution_count": 51,
   "id": "c82c8537",
   "metadata": {
    "colab": {
     "base_uri": "https://localhost:8080/",
     "height": 276
    },
    "id": "c82c8537",
    "outputId": "dce86c89-6162-4f8e-8a55-93230a72e80b"
   },
   "outputs": [
    {
     "data": {
      "image/png": "[encoded data removed]",
      "text/plain": [
       "<Figure size 432x288 with 1 Axes>"
      ]
     },
     "metadata": {
      "needs_background": "light"
     },
     "output_type": "display_data"
    }
   ],
   "source": [
    "plt.plot(var[-300:])\n",
    "plt.grid()\n",
    "plt.show()"
   ]
  },
  {
   "cell_type": "code",
   "execution_count": 52,
   "id": "24aefb19",
   "metadata": {
    "colab": {
     "base_uri": "https://localhost:8080/",
     "height": 276
    },
    "id": "24aefb19",
    "outputId": "5ad885f2-9edf-46f6-ee3c-d647113e2746"
   },
   "outputs": [
    {
     "data": {
      "image/png": "[encoded data removed]",
      "text/plain": [
       "<Figure size 432x288 with 1 Axes>"
      ]
     },
     "metadata": {
      "needs_background": "light"
     },
     "output_type": "display_data"
    }
   ],
   "source": [
    "plt.plot(var[-70:])\n",
    "plt.grid()\n",
    "plt.show()\n",
    "\n",
    "# last 30 data points might be outlier"
   ]
  },
  {
   "cell_type": "code",
   "execution_count": 53,
   "id": "f4efd773",
   "metadata": {
    "colab": {
     "base_uri": "https://localhost:8080/"
    },
    "id": "f4efd773",
    "outputId": "c6031726-8899-4a4b-f4f2-cfd6a809ef3d"
   },
   "outputs": [
    {
     "data": {
      "text/plain": [
       "step                int64\n",
       "type               object\n",
       "amount            float64\n",
       "nameOrig           object\n",
       "oldbalanceOrig    float64\n",
       "newbalanceOrig    float64\n",
       "nameDest           object\n",
       "oldbalanceDest    float64\n",
       "newbalanceDest    float64\n",
       "isFraud             int64\n",
       "isFlaggedFraud      int64\n",
       "dtype: object"
      ]
     },
     "execution_count": 53,
     "metadata": {},
     "output_type": "execute_result"
    }
   ],
   "source": [
    "df.dtypes"
   ]
  },
  {
   "cell_type": "code",
   "execution_count": 54,
   "id": "eb9d942a",
   "metadata": {
    "colab": {
     "base_uri": "https://localhost:8080/"
    },
    "id": "eb9d942a",
    "outputId": "87606be6-8606-4790-b2c7-57a1b6073a82"
   },
   "outputs": [
    {
     "data": {
      "text/plain": [
       "C1286084959    113\n",
       "C985934102     109\n",
       "C665576141     105\n",
       "C2083562754    102\n",
       "C248609774     101\n",
       "              ... \n",
       "M1470027725      1\n",
       "M1330329251      1\n",
       "M1784358659      1\n",
       "M2081431099      1\n",
       "C2080388513      1\n",
       "Name: nameDest, Length: 2722362, dtype: int64"
      ]
     },
     "execution_count": 54,
     "metadata": {},
     "output_type": "execute_result"
    }
   ],
   "source": [
    "df['nameDest'].value_counts()"
   ]
  },
  {
   "cell_type": "code",
   "execution_count": 55,
   "id": "435ca7a8",
   "metadata": {
    "colab": {
     "base_uri": "https://localhost:8080/"
    },
    "id": "435ca7a8",
    "outputId": "b19fdd60-fdcd-4f65-b975-191bc0ba14e6"
   },
   "outputs": [
    {
     "data": {
      "text/plain": [
       "2722362"
      ]
     },
     "execution_count": 55,
     "metadata": {},
     "output_type": "execute_result"
    }
   ],
   "source": [
    "len(df['nameDest'].unique())"
   ]
  },
  {
   "cell_type": "code",
   "execution_count": 56,
   "id": "50e3d50d",
   "metadata": {
    "colab": {
     "base_uri": "https://localhost:8080/",
     "height": 263
    },
    "id": "50e3d50d",
    "outputId": "1706f616-1c90-46e6-a7d1-bc841d2202a2"
   },
   "outputs": [
    {
     "data": {
      "image/png": "[encoded data removed]",
      "text/plain": [
       "<Figure size 432x288 with 1 Axes>"
      ]
     },
     "metadata": {
      "needs_background": "light"
     },
     "output_type": "display_data"
    }
   ],
   "source": [
    "#Univariate analysis: oldbalanceDest\n",
    "sns.boxplot(y=\"oldbalanceDest\", data =df)\n",
    "plt.show()"
   ]
  },
  {
   "cell_type": "code",
   "execution_count": 57,
   "id": "36a2d1be",
   "metadata": {
    "colab": {
     "base_uri": "https://localhost:8080/"
    },
    "id": "36a2d1be",
    "outputId": "f3969527-eb51-41f0-ffab-ff10fc9a02de"
   },
   "outputs": [
    {
     "name": "stdout",
     "output_type": "stream",
     "text": [
      "0 percentile value is 0.0\n",
      "10 percentile value is 0.0\n",
      "20 percentile value is 0.0\n",
      "30 percentile value is 0.0\n",
      "40 percentile value is 0.0\n",
      "50 percentile value is 132705.81\n",
      "60 percentile value is 343632.19\n",
      "70 percentile value is 677101.8\n",
      "80 percentile value is 1322204.87\n",
      "90 percentile value is 2914269.63\n",
      "100 percentile value is  356015889.35\n"
     ]
    }
   ],
   "source": [
    "#Univariate analysis: oldbalanceDest\n",
    "\n",
    "#calculating oldbalanceDest values at each percntile 0,10,20,30,40,50,60,70,80,90,100 \n",
    "for i in range(0,100,10):\n",
    "    var =df[\"oldbalanceDest\"].values\n",
    "    var = np.sort(var,axis = None)\n",
    "    print(\"{} percentile value is {}\".format(i,var[int(len(var)*(float(i)/100))]))\n",
    "print(\"100 percentile value is \",var[-1])"
   ]
  },
  {
   "cell_type": "code",
   "execution_count": 58,
   "id": "92f347cb",
   "metadata": {
    "colab": {
     "base_uri": "https://localhost:8080/"
    },
    "id": "92f347cb",
    "outputId": "85426620-ae5d-4822-b57e-e40dd7d6f584"
   },
   "outputs": [
    {
     "name": "stdout",
     "output_type": "stream",
     "text": [
      "40.0 percentile value is 0.0\n",
      "40.5 percentile value is 0.0\n",
      "41.0 percentile value is 0.0\n",
      "41.5 percentile value is 0.0\n",
      "42.0 percentile value is 0.0\n",
      "42.5 percentile value is 0.0\n",
      "43.0 percentile value is 6178.78\n",
      "43.5 percentile value is 13504.32\n",
      "44.0 percentile value is 21352.84\n",
      "44.5 percentile value is 30001.24\n",
      "45.0 percentile value is 38754.72\n",
      "45.5 percentile value is 48038.18\n",
      "46.0 percentile value is 57034.0\n",
      "46.5 percentile value is 66536.59\n",
      "47.0 percentile value is 76041.57\n",
      "47.5 percentile value is 85480.97\n",
      "48.0 percentile value is 95067.27\n",
      "48.5 percentile value is 104203.19\n",
      "49.0 percentile value is 113559.77\n",
      "49.5 percentile value is 123220.78\n",
      "50.0 percentile value is 132705.81\n"
     ]
    }
   ],
   "source": [
    "#calculating oldbalanceDest values at each percntile 40.0,40.1,40.2,40.3,40.4,40.5,40.6,40.7,40.8,40.9,40.0\n",
    "for i in np.arange(40.0, 50.1, 0.5):\n",
    "    var =df[\"oldbalanceDest\"].values\n",
    "    var = np.sort(var,axis = None)\n",
    "    print(\"{} percentile value is {}\".format(round(0+i,1) ,var[int(len(var)*(float(0+i)/100))]))\n",
    "#print(\"10 percentile value is \",var[-1])"
   ]
  },
  {
   "cell_type": "code",
   "execution_count": 59,
   "id": "aaba5578",
   "metadata": {
    "colab": {
     "base_uri": "https://localhost:8080/"
    },
    "id": "aaba5578",
    "outputId": "e4d341ab-8aae-46a3-dbc3-df0c7cfc1072"
   },
   "outputs": [
    {
     "name": "stdout",
     "output_type": "stream",
     "text": [
      "99.0 percentile value is 12371824.68\n",
      "99.1 percentile value is 12905312.04\n",
      "99.2 percentile value is 13555672.44\n",
      "99.3 percentile value is 14377095.08\n",
      "99.4 percentile value is 15509875.27\n",
      "99.5 percentile value is 17001241.93\n",
      "99.6 percentile value is 19296656.64\n",
      "99.7 percentile value is 22452843.64\n",
      "99.8 percentile value is 26949078.46\n",
      "99.9 percentile value is 34393287.2\n",
      "100 percentile value is  356015889.35\n"
     ]
    }
   ],
   "source": [
    "#calculating oldbalanceDest values at each percntile 99.0,99.1,99.2,99.3,99.4,99.5,99.6,99.7,99.8,99.9,100\n",
    "for i in np.arange(0.0, 1.0, 0.1):\n",
    "    var =df[\"oldbalanceDest\"].values\n",
    "    var = np.sort(var,axis = None)\n",
    "    print(\"{} percentile value is {}\".format(99+i,var[int(len(var)*(float(99+i)/100))]))\n",
    "print(\"100 percentile value is \",var[-1])"
   ]
  },
  {
   "cell_type": "code",
   "execution_count": 60,
   "id": "563a5603",
   "metadata": {
    "colab": {
     "base_uri": "https://localhost:8080/",
     "height": 276
    },
    "id": "563a5603",
    "outputId": "8a9b9e80-da61-485c-ba53-0b7c08876af6"
   },
   "outputs": [
    {
     "data": {
      "image/png": "[encoded data removed]",
      "text/plain": [
       "<Figure size 432x288 with 1 Axes>"
      ]
     },
     "metadata": {
      "needs_background": "light"
     },
     "output_type": "display_data"
    }
   ],
   "source": [
    "plt.plot(var[-1300:])\n",
    "plt.grid()\n",
    "plt.show()"
   ]
  },
  {
   "cell_type": "code",
   "execution_count": 61,
   "id": "7d78fe6f",
   "metadata": {
    "colab": {
     "base_uri": "https://localhost:8080/",
     "height": 276
    },
    "id": "7d78fe6f",
    "outputId": "9a679e8a-575c-4ee9-c408-7d675db6dd8a"
   },
   "outputs": [
    {
     "data": {
      "image/png": "[encoded data removed]",
      "text/plain": [
       "<Figure size 432x288 with 1 Axes>"
      ]
     },
     "metadata": {
      "needs_background": "light"
     },
     "output_type": "display_data"
    }
   ],
   "source": [
    "plt.plot(var[-500:])\n",
    "plt.grid()\n",
    "plt.show()"
   ]
  },
  {
   "cell_type": "code",
   "execution_count": 62,
   "id": "4227e10b",
   "metadata": {
    "colab": {
     "base_uri": "https://localhost:8080/",
     "height": 276
    },
    "id": "4227e10b",
    "outputId": "e31c6970-c5cf-45a3-fc8e-79fe7441e134"
   },
   "outputs": [
    {
     "data": {
      "image/png": "[encoded data removed]",
      "text/plain": [
       "<Figure size 432x288 with 1 Axes>"
      ]
     },
     "metadata": {
      "needs_background": "light"
     },
     "output_type": "display_data"
    }
   ],
   "source": [
    "plt.plot(var[-400:])\n",
    "plt.grid()\n",
    "plt.show()\n",
    "\n",
    "# last 100 dada points might be outliers"
   ]
  },
  {
   "cell_type": "code",
   "execution_count": 63,
   "id": "5585a597",
   "metadata": {
    "colab": {
     "base_uri": "https://localhost:8080/"
    },
    "id": "5585a597",
    "outputId": "fc6b0504-9332-432b-98f7-d14e0071a80b"
   },
   "outputs": [
    {
     "data": {
      "text/plain": [
       "146082977.86"
      ]
     },
     "execution_count": 63,
     "metadata": {},
     "output_type": "execute_result"
    }
   ],
   "source": [
    "var[-300]"
   ]
  },
  {
   "cell_type": "code",
   "execution_count": 64,
   "id": "0c7b3727",
   "metadata": {
    "colab": {
     "base_uri": "https://localhost:8080/",
     "height": 263
    },
    "id": "0c7b3727",
    "outputId": "dde68c96-79f4-45f5-ed9c-b4e97d27cb2f"
   },
   "outputs": [
    {
     "data": {
      "image/png": "[encoded data removed]",
      "text/plain": [
       "<Figure size 432x288 with 1 Axes>"
      ]
     },
     "metadata": {
      "needs_background": "light"
     },
     "output_type": "display_data"
    }
   ],
   "source": [
    "#Univariate analysis: newbalanceDest\n",
    "sns.boxplot(y=\"newbalanceDest\", data =df)\n",
    "plt.show()"
   ]
  },
  {
   "cell_type": "code",
   "execution_count": 65,
   "id": "2e3daded",
   "metadata": {
    "colab": {
     "base_uri": "https://localhost:8080/"
    },
    "id": "2e3daded",
    "outputId": "19581e26-bdd6-4822-de90-9d172339765d"
   },
   "outputs": [
    {
     "name": "stdout",
     "output_type": "stream",
     "text": [
      "0 percentile value is 0.0\n",
      "10 percentile value is 0.0\n",
      "20 percentile value is 0.0\n",
      "30 percentile value is 0.0\n",
      "40 percentile value is 31563.6\n",
      "50 percentile value is 214661.65\n",
      "60 percentile value is 445931.49\n",
      "70 percentile value is 823679.73\n",
      "80 percentile value is 1517364.33\n",
      "90 percentile value is 3194873.19\n",
      "100 percentile value is  356179278.92\n"
     ]
    }
   ],
   "source": [
    "#Univariate analysis: newbalanceDest\n",
    "\n",
    "#calculating newbalanceDest values at each percntile 0,10,20,30,40,50,60,70,80,90,100 \n",
    "for i in range(0,100,10):\n",
    "    var =df[\"newbalanceDest\"].values\n",
    "    var = np.sort(var,axis = None)\n",
    "    print(\"{} percentile value is {}\".format(i,var[int(len(var)*(float(i)/100))]))\n",
    "print(\"100 percentile value is \",var[-1])"
   ]
  },
  {
   "cell_type": "code",
   "execution_count": 66,
   "id": "69b0bfd2",
   "metadata": {
    "colab": {
     "base_uri": "https://localhost:8080/"
    },
    "id": "69b0bfd2",
    "outputId": "bea59098-384c-4b4a-d1cc-55ab6b975251"
   },
   "outputs": [
    {
     "name": "stdout",
     "output_type": "stream",
     "text": [
      "30.0 percentile value is 0.0\n",
      "30.5 percentile value is 0.0\n",
      "31.0 percentile value is 0.0\n",
      "31.5 percentile value is 0.0\n",
      "32.0 percentile value is 0.0\n",
      "32.5 percentile value is 0.0\n",
      "33.0 percentile value is 0.0\n",
      "33.5 percentile value is 0.0\n",
      "34.0 percentile value is 0.0\n",
      "34.5 percentile value is 0.0\n",
      "35.0 percentile value is 0.0\n",
      "35.5 percentile value is 0.0\n",
      "36.0 percentile value is 0.0\n",
      "36.5 percentile value is 0.0\n",
      "37.0 percentile value is 0.0\n",
      "37.5 percentile value is 0.0\n",
      "38.0 percentile value is 0.0\n",
      "38.5 percentile value is 3210.39\n",
      "39.0 percentile value is 12805.07\n",
      "39.5 percentile value is 22190.99\n",
      "40.0 percentile value is 31563.6\n"
     ]
    }
   ],
   "source": [
    "#calculating newbalanceDest values at each percntile 30.0 30.5 31.0 31.5 32.0 32.5 33.0 33.5 34.0 34.5 35.0 35.5 36.0 36.5 37.0 37.5 38.0 38.5 39.0 39.5 40.0 \n",
    "for i in np.arange(30.0, 40.1, 0.5):\n",
    "    var =df[\"newbalanceDest\"].values\n",
    "    var = np.sort(var,axis = None)\n",
    "    print(\"{} percentile value is {}\".format(round(0+i,1) ,var[int(len(var)*(float(0+i)/100))]))\n",
    "#print(\"10 percentile value is \",var[-1])"
   ]
  },
  {
   "cell_type": "code",
   "execution_count": 67,
   "id": "9d7c2bc1",
   "metadata": {
    "colab": {
     "base_uri": "https://localhost:8080/"
    },
    "id": "9d7c2bc1",
    "outputId": "6e620117-8a4c-427f-ae51-9bce9b2047e7"
   },
   "outputs": [
    {
     "name": "stdout",
     "output_type": "stream",
     "text": [
      "30.0 30.5 31.0 31.5 32.0 32.5 33.0 33.5 34.0 34.5 35.0 35.5 36.0 36.5 37.0 37.5 38.0 38.5 39.0 39.5 40.0 "
     ]
    }
   ],
   "source": [
    "for i in np.arange(30.0, 40.1, 0.5):\n",
    "    print(i,end=\" \")"
   ]
  },
  {
   "cell_type": "code",
   "execution_count": 68,
   "id": "1260737d",
   "metadata": {
    "colab": {
     "base_uri": "https://localhost:8080/"
    },
    "id": "1260737d",
    "outputId": "a4d48ff0-0efc-44aa-b873-3e506d411e1c"
   },
   "outputs": [
    {
     "name": "stdout",
     "output_type": "stream",
     "text": [
      "99.0 percentile value is 13137915.03\n",
      "99.1 percentile value is 13743729.83\n",
      "99.2 percentile value is 14497045.37\n",
      "99.3 percentile value is 15484884.29\n",
      "99.4 percentile value is 16688154.1\n",
      "99.5 percentile value is 18378274.44\n",
      "99.6 percentile value is 20936997.59\n",
      "99.7 percentile value is 24446741.54\n",
      "99.8 percentile value is 29003469.5\n",
      "99.9 percentile value is 39535617.9\n",
      "100 percentile value is  356179278.92\n"
     ]
    }
   ],
   "source": [
    "#calculating newbalanceDest values at each percntile 99.0,99.1,99.2,99.3,99.4,99.5,99.6,99.7,99.8,99.9,100\n",
    "for i in np.arange(0.0, 1.0, 0.1):\n",
    "    var =df[\"newbalanceDest\"].values\n",
    "    var = np.sort(var,axis = None)\n",
    "    print(\"{} percentile value is {}\".format(99+i,var[int(len(var)*(float(99+i)/100))]))\n",
    "print(\"100 percentile value is \",var[-1])"
   ]
  },
  {
   "cell_type": "code",
   "execution_count": 69,
   "id": "04477a1e",
   "metadata": {
    "colab": {
     "base_uri": "https://localhost:8080/",
     "height": 276
    },
    "id": "04477a1e",
    "outputId": "73d278eb-9111-44f4-dfb7-ae77a986d5a0"
   },
   "outputs": [
    {
     "data": {
      "image/png": "[encoded data removed]",
      "text/plain": [
       "<Figure size 432x288 with 1 Axes>"
      ]
     },
     "metadata": {
      "needs_background": "light"
     },
     "output_type": "display_data"
    }
   ],
   "source": [
    "plt.plot(var[-1000:])\n",
    "plt.grid()\n",
    "plt.show()"
   ]
  },
  {
   "cell_type": "code",
   "execution_count": 70,
   "id": "76315ab8",
   "metadata": {
    "colab": {
     "base_uri": "https://localhost:8080/",
     "height": 276
    },
    "id": "76315ab8",
    "outputId": "695e6c66-6763-4076-814c-8da8d1629e43"
   },
   "outputs": [
    {
     "data": {
      "image/png": "[encoded data removed]",
      "text/plain": [
       "<Figure size 432x288 with 1 Axes>"
      ]
     },
     "metadata": {
      "needs_background": "light"
     },
     "output_type": "display_data"
    }
   ],
   "source": [
    "plt.plot(var[-600:])\n",
    "plt.grid()\n",
    "plt.show()\n",
    "\n",
    "# last 200 data points might be outlier"
   ]
  },
  {
   "cell_type": "code",
   "execution_count": 71,
   "id": "9535b2f2",
   "metadata": {
    "colab": {
     "base_uri": "https://localhost:8080/"
    },
    "id": "9535b2f2",
    "outputId": "b44b9fb7-4682-4eb4-8a54-92ab6c04ac7e"
   },
   "outputs": [
    {
     "data": {
      "text/plain": [
       "141093012.46"
      ]
     },
     "execution_count": 71,
     "metadata": {},
     "output_type": "execute_result"
    }
   ],
   "source": [
    "var[-400]"
   ]
  },
  {
   "cell_type": "code",
   "execution_count": 72,
   "id": "daf27b63",
   "metadata": {
    "id": "daf27b63"
   },
   "outputs": [],
   "source": [
    "# Probability distribution\n",
    "\n",
    "# df.plot(kind=\"density\", layout=(6,5), \n",
    "             # subplots=True,sharex=False, sharey=False, figsize=(18,18))\n",
    "# plt.show()"
   ]
  },
  {
   "cell_type": "markdown",
   "id": "933eddd5",
   "metadata": {
    "id": "933eddd5"
   },
   "source": [
    "## 3. Bivariate analysis"
   ]
  },
  {
   "cell_type": "code",
   "execution_count": 73,
   "id": "24352f22",
   "metadata": {
    "colab": {
     "base_uri": "https://localhost:8080/",
     "height": 298
    },
    "id": "24352f22",
    "outputId": "901ad844-c157-4535-dbbc-354554e892fd"
   },
   "outputs": [
    {
     "data": {
      "text/plain": [
       "<matplotlib.axes._subplots.AxesSubplot at 0x7f61c652c850>"
      ]
     },
     "execution_count": 73,
     "metadata": {},
     "output_type": "execute_result"
    },
    {
     "data": {
      "image/png": "[encoded data removed]",
      "text/plain": [
       "<Figure size 432x288 with 1 Axes>"
      ]
     },
     "metadata": {
      "needs_background": "light"
     },
     "output_type": "display_data"
    }
   ],
   "source": [
    "# Plots used are: bar plot and count plot\n",
    "sns.barplot(x='type',y='isFraud',data=df)\n",
    "\n",
    "# is the type is TRANSFER there is high chance of Fraud"
   ]
  },
  {
   "cell_type": "code",
   "execution_count": 74,
   "id": "cac8e0ef",
   "metadata": {
    "colab": {
     "base_uri": "https://localhost:8080/",
     "height": 283
    },
    "id": "cac8e0ef",
    "outputId": "3cea6cc7-c484-4e79-d20f-615d79b297ba"
   },
   "outputs": [
    {
     "data": {
      "text/plain": [
       "<matplotlib.collections.PathCollection at 0x7f61c3e52890>"
      ]
     },
     "execution_count": 74,
     "metadata": {},
     "output_type": "execute_result"
    },
    {
     "data": {
      "image/png": "[encoded data removed]",
      "text/plain": [
       "<Figure size 432x288 with 1 Axes>"
      ]
     },
     "metadata": {
      "needs_background": "light"
     },
     "output_type": "display_data"
    }
   ],
   "source": [
    "%matplotlib inline\n",
    "plt.scatter(x= df['step'] , y= df['isFraud'])"
   ]
  },
  {
   "cell_type": "markdown",
   "id": "d3fc209d",
   "metadata": {
    "id": "d3fc209d"
   },
   "source": [
    "## 3. Analysis with multiple variable"
   ]
  },
  {
   "cell_type": "code",
   "execution_count": 75,
   "id": "4a67f988",
   "metadata": {
    "colab": {
     "base_uri": "https://localhost:8080/"
    },
    "id": "4a67f988",
    "outputId": "68afbfcb-b9d4-447e-a645-34fc19a55d71"
   },
   "outputs": [
    {
     "name": "stdout",
     "output_type": "stream",
     "text": [
      "if newbalanceOrig=0.0 there is  98.05 % chance of is_Fraud=1 given total number of is_Fraud=1\n"
     ]
    }
   ],
   "source": [
    "mv1= (((df.loc[(df['isFraud']==1) & (df['newbalanceOrig']==0.0)]).value_counts().sum())/\n",
    "      ((df[df['isFraud']==1]).value_counts().sum()))*100\n",
    "\n",
    "print(\"if newbalanceOrig=0.0 there is \",np.round(mv1,2),\"% chance of is_Fraud=1 given total number of is_Fraud=1\")"
   ]
  },
  {
   "cell_type": "code",
   "execution_count": 76,
   "id": "beyY3iOxPWxM",
   "metadata": {
    "colab": {
     "base_uri": "https://localhost:8080/"
    },
    "id": "beyY3iOxPWxM",
    "outputId": "9c92374b-6d28-49e9-a01d-b795be314357"
   },
   "outputs": [
    {
     "name": "stdout",
     "output_type": "stream",
     "text": [
      "if oldbalanceOrig=0.0 there is  0.5 % chance of is_Fraud=1 given total number of is_Fraud=1\n"
     ]
    }
   ],
   "source": [
    "mv2= (((df.loc[(df['isFraud']==1) & (df['oldbalanceOrig']==0.0)]).value_counts().sum())/\n",
    "      ((df[df['isFraud']==1]).value_counts().sum()))*100\n",
    "\n",
    "print(\"if oldbalanceOrig=0.0 there is \",np.round(mv2,2),\"% chance of is_Fraud=1 given total number of is_Fraud=1\")"
   ]
  },
  {
   "cell_type": "code",
   "execution_count": 77,
   "id": "6ruGzaSgQI3-",
   "metadata": {
    "colab": {
     "base_uri": "https://localhost:8080/"
    },
    "id": "6ruGzaSgQI3-",
    "outputId": "e91d258b-1350-42c8-8fce-2f57ace983e7"
   },
   "outputs": [
    {
     "name": "stdout",
     "output_type": "stream",
     "text": [
      "if oldbalanceDest=0.0 there is  65.15 % chance of is_Fraud=1 given total number of is_Fraud=1\n"
     ]
    }
   ],
   "source": [
    "mv3= (((df.loc[(df['isFraud']==1) & (df['oldbalanceDest']==0.0)]).value_counts().sum())/\n",
    "      ((df[df['isFraud']==1]).value_counts().sum()))*100\n",
    "\n",
    "print(\"if oldbalanceDest=0.0 there is \",np.round(mv3,2),\"% chance of is_Fraud=1 given total number of is_Fraud=1\")"
   ]
  },
  {
   "cell_type": "code",
   "execution_count": 78,
   "id": "GNjI2BhbQv5Z",
   "metadata": {
    "colab": {
     "base_uri": "https://localhost:8080/"
    },
    "id": "GNjI2BhbQv5Z",
    "outputId": "aa50e454-af7f-47b9-f26f-26ddab349158"
   },
   "outputs": [
    {
     "name": "stdout",
     "output_type": "stream",
     "text": [
      "if newbalanceDest=0.0 there is  49.81 % chance of is_Fraud=1 given total number of is_Fraud=1\n"
     ]
    }
   ],
   "source": [
    "mv4= (((df.loc[(df['isFraud']==1) & (df['newbalanceDest']==0.0)]).value_counts().sum())/\n",
    "      ((df[df['isFraud']==1]).value_counts().sum()))*100\n",
    "\n",
    "print(\"if newbalanceDest=0.0 there is \",np.round(mv4,2),\"% chance of is_Fraud=1 given total number of is_Fraud=1\")"
   ]
  },
  {
   "cell_type": "code",
   "execution_count": 79,
   "id": "vIOxPRPjRW0V",
   "metadata": {
    "colab": {
     "base_uri": "https://localhost:8080/"
    },
    "id": "vIOxPRPjRW0V",
    "outputId": "473caf42-fe8a-40c7-8e8f-c3f86a392868"
   },
   "outputs": [
    {
     "name": "stdout",
     "output_type": "stream",
     "text": [
      "if type=TRANSFER there is  49.88 % chance of is_Fraud=1 given total number of is_Fraud=1\n"
     ]
    }
   ],
   "source": [
    "mv5= (((df.loc[(df['isFraud']==1) & (df['type']=='TRANSFER')]).value_counts().sum())/\n",
    "      ((df[df['isFraud']==1]).value_counts().sum()))*100\n",
    "\n",
    "print(\"if type=TRANSFER there is \",np.round(mv5,2),\"% chance of is_Fraud=1 given total number of is_Fraud=1\")"
   ]
  },
  {
   "cell_type": "code",
   "execution_count": 80,
   "id": "igpO51x1SAgz",
   "metadata": {
    "colab": {
     "base_uri": "https://localhost:8080/"
    },
    "id": "igpO51x1SAgz",
    "outputId": "1a49c8fc-4f14-4054-c256-c669b4115576"
   },
   "outputs": [
    {
     "name": "stdout",
     "output_type": "stream",
     "text": [
      "if type=CASH_OUT there is  50.12 % chance of is_Fraud=1 given total number of is_Fraud=1\n"
     ]
    }
   ],
   "source": [
    "mv6= (((df.loc[(df['isFraud']==1) & (df['type']=='CASH_OUT')]).value_counts().sum())/\n",
    "      ((df[df['isFraud']==1]).value_counts().sum()))*100\n",
    "\n",
    "print(\"if type=CASH_OUT there is \",np.round(mv6,2),\"% chance of is_Fraud=1 given total number of is_Fraud=1\")"
   ]
  },
  {
   "cell_type": "code",
   "execution_count": 81,
   "id": "G_7ur5zcSNyA",
   "metadata": {
    "colab": {
     "base_uri": "https://localhost:8080/"
    },
    "id": "G_7ur5zcSNyA",
    "outputId": "8829e8d6-a4eb-4370-a4b3-9f2a6d1621d5"
   },
   "outputs": [
    {
     "name": "stdout",
     "output_type": "stream",
     "text": [
      "if type=PAYMENT there is  0.0 % chance of is_Fraud=1 given total number of is_Fraud=1\n"
     ]
    }
   ],
   "source": [
    "mv7= (((df.loc[(df['isFraud']==1) & (df['type']=='PAYMENT')]).value_counts().sum())/\n",
    "      ((df[df['isFraud']==1]).value_counts().sum()))*100\n",
    "\n",
    "print(\"if type=PAYMENT there is \",np.round(mv7,2),\"% chance of is_Fraud=1 given total number of is_Fraud=1\")"
   ]
  },
  {
   "cell_type": "code",
   "execution_count": 82,
   "id": "dC1fd-tESZFP",
   "metadata": {
    "colab": {
     "base_uri": "https://localhost:8080/"
    },
    "id": "dC1fd-tESZFP",
    "outputId": "dd11f12b-44bf-4425-e2d5-3e1d2660af51"
   },
   "outputs": [
    {
     "name": "stdout",
     "output_type": "stream",
     "text": [
      "if type=CASH_IN there is  0.0 % chance of is_Fraud=1 given total number of is_Fraud=1\n"
     ]
    }
   ],
   "source": [
    "mv8= (((df.loc[(df['isFraud']==1) & (df['type']=='CASH_IN')]).value_counts().sum())/\n",
    "      ((df[df['isFraud']==1]).value_counts().sum()))*100\n",
    "\n",
    "print(\"if type=CASH_IN there is \",np.round(mv8,2),\"% chance of is_Fraud=1 given total number of is_Fraud=1\")"
   ]
  },
  {
   "cell_type": "code",
   "execution_count": 83,
   "id": "ecLfUjhISnHf",
   "metadata": {
    "colab": {
     "base_uri": "https://localhost:8080/"
    },
    "id": "ecLfUjhISnHf",
    "outputId": "3ed9813b-68be-4e0d-ecb7-c4f5a22e6287"
   },
   "outputs": [
    {
     "name": "stdout",
     "output_type": "stream",
     "text": [
      "if type=DEBIT there is  0.0 % chance of is_Fraud=1 given total number of is_Fraud=1\n"
     ]
    }
   ],
   "source": [
    "mv9= (((df.loc[(df['isFraud']==1) & (df['type']=='DEBIT')]).value_counts().sum())/\n",
    "      ((df[df['isFraud']==1]).value_counts().sum()))*100\n",
    "\n",
    "print(\"if type=DEBIT there is \",np.round(mv9,2),\"% chance of is_Fraud=1 given total number of is_Fraud=1\")"
   ]
  },
  {
   "cell_type": "markdown",
   "id": "48b6c29d",
   "metadata": {
    "id": "48b6c29d"
   },
   "source": [
    "> <b> Based on above EDA(Exploratory Data Analysis) we can see that if 'newbalanceOrig'=0.0 or 'oldbalanceDest'=0.0 or type='CASH_OUT' OR type='TRANSFER' there might be high chance of isFraud=1 <b>"
   ]
  },
  {
   "cell_type": "markdown",
   "id": "4c5eac79",
   "metadata": {
    "id": "4c5eac79"
   },
   "source": [
    "## 4. Outlier treatment"
   ]
  },
  {
   "cell_type": "code",
   "execution_count": 84,
   "id": "f441326e",
   "metadata": {
    "id": "f441326e"
   },
   "outputs": [],
   "source": [
    "#removing all outliers based on our univariate analysis above\n",
    "\n",
    "def outlier_treatment(new_frame):\n",
    "\n",
    "    a = new_frame.shape[0]\n",
    "    print (\"Number of records = \",a)\n",
    "    temp_frame = new_frame[((new_frame.amount >= 0.0) & (new_frame.amount <= 40000000.0))]\n",
    "    b = temp_frame.shape[0]\n",
    "    print (\"Number of outliers from amount analysis:\",(a-b))\n",
    "    \n",
    "    \n",
    "    temp_frame = new_frame[(new_frame.oldbalanceOrig >= 0.0) & (new_frame.oldbalanceOrig <= 30000000.0)]\n",
    "    c = temp_frame.shape[0]\n",
    "    print (\"Number of outliers from oldbalanceOrig analysis:\",(a-c))\n",
    "    \n",
    "    \n",
    "    temp_frame = new_frame[(new_frame.newbalanceOrig >= 0.0) & (new_frame.newbalanceOrig <= 34000000.0)]\n",
    "    d = temp_frame.shape[0]\n",
    "    print (\"Number of outliers from newbalanceOrig analysis:\",(a-d))\n",
    "    \n",
    "    \n",
    "    temp_frame = new_frame[(new_frame.oldbalanceDest >= 0.0) & (new_frame.oldbalanceDest <= 140000000.0)]\n",
    "    e = temp_frame.shape[0]\n",
    "    print (\"Number of outliers from oldbalanceDest analysis:\",(a-e))\n",
    "    \n",
    "\n",
    "    temp_frame = new_frame[(new_frame.newbalanceDest >= 0.0) & (new_frame.newbalanceDest <= 140000000.0)]\n",
    "    f = temp_frame.shape[0]\n",
    "    print (\"Number of outliers from newbalanceDest analysis:\",(a-f))\n",
    "    \n",
    "    \n",
    "    new_frame = new_frame[((new_frame.amount >= 0.0) & (new_frame.amount <= 40000000.0))]\n",
    "    new_frame = new_frame[(new_frame.oldbalanceOrig >= 0.0) & (new_frame.oldbalanceOrig <= 30000000.0)]\n",
    "    new_frame = new_frame[(new_frame.newbalanceOrig >= 0.0) & (new_frame.newbalanceOrig <= 34000000.0)]\n",
    "    new_frame = new_frame[(new_frame.oldbalanceDest >= 0.0) & (new_frame.oldbalanceDest <= 140000000.0)]\n",
    "    new_frame = new_frame[(new_frame.newbalanceDest >= 0.0) & (new_frame.newbalanceDest <= 140000000.0)]\n",
    "\n",
    "    \n",
    "    print (\"Total outliers removed\",a - new_frame.shape[0])\n",
    "    print (\"---\")\n",
    "    return new_frame"
   ]
  },
  {
   "cell_type": "code",
   "execution_count": 85,
   "id": "f787992e",
   "metadata": {
    "colab": {
     "base_uri": "https://localhost:8080/"
    },
    "id": "f787992e",
    "outputId": "965c0b85-f345-40b2-ce5a-05252eb70e67"
   },
   "outputs": [
    {
     "name": "stdout",
     "output_type": "stream",
     "text": [
      "Removing outliers\n",
      "----\n",
      "Number of records =  6362620\n",
      "Number of outliers from amount analysis: 117\n",
      "Number of outliers from oldbalanceOrig analysis: 1289\n",
      "Number of outliers from newbalanceOrig analysis: 103\n",
      "Number of outliers from oldbalanceDest analysis: 331\n",
      "Number of outliers from newbalanceDest analysis: 406\n",
      "Total outliers removed 1765\n",
      "---\n",
      "fraction of data points that remain after removing outliers 0.9997225985521687\n"
     ]
    }
   ],
   "source": [
    "print (\"Removing outliers\")\n",
    "print (\"----\")\n",
    "frame_with_outliers_removed = outlier_treatment(df)\n",
    "print(\"fraction of data points that remain after removing outliers\", float(len(frame_with_outliers_removed))/len(df))"
   ]
  },
  {
   "cell_type": "code",
   "execution_count": 86,
   "id": "163d56dc",
   "metadata": {
    "colab": {
     "base_uri": "https://localhost:8080/",
     "height": 250
    },
    "id": "163d56dc",
    "outputId": "b5fcf05f-e2fa-4ad5-ede2-3d49898d4fe0"
   },
   "outputs": [
    {
     "data": {
      "text/html": [
       "\n",
       "  <div id=\"df-03a77f8b-3f2c-4cfb-a6a5-af7b9d1e55a9\">\n",
       "    <div class=\"colab-df-container\">\n",
       "      <div>\n",
       "<style scoped>\n",
       "    .dataframe tbody tr th:only-of-type {\n",
       "        vertical-align: middle;\n",
       "    }\n",
       "\n",
       "    .dataframe tbody tr th {\n",
       "        vertical-align: top;\n",
       "    }\n",
       "\n",
       "    .dataframe thead th {\n",
       "        text-align: right;\n",
       "    }\n",
       "</style>\n",
       "<table border=\"1\" class=\"dataframe\">\n",
       "  <thead>\n",
       "    <tr style=\"text-align: right;\">\n",
       "      <th></th>\n",
       "      <th>step</th>\n",
       "      <th>type</th>\n",
       "      <th>amount</th>\n",
       "      <th>nameOrig</th>\n",
       "      <th>oldbalanceOrig</th>\n",
       "      <th>newbalanceOrig</th>\n",
       "      <th>nameDest</th>\n",
       "      <th>oldbalanceDest</th>\n",
       "      <th>newbalanceDest</th>\n",
       "      <th>isFraud</th>\n",
       "      <th>isFlaggedFraud</th>\n",
       "    </tr>\n",
       "  </thead>\n",
       "  <tbody>\n",
       "    <tr>\n",
       "      <th>0</th>\n",
       "      <td>1</td>\n",
       "      <td>PAYMENT</td>\n",
       "      <td>9839.64</td>\n",
       "      <td>C1231006815</td>\n",
       "      <td>170136.0</td>\n",
       "      <td>160296.36</td>\n",
       "      <td>M1979787155</td>\n",
       "      <td>0.0</td>\n",
       "      <td>0.0</td>\n",
       "      <td>0</td>\n",
       "      <td>0</td>\n",
       "    </tr>\n",
       "    <tr>\n",
       "      <th>1</th>\n",
       "      <td>1</td>\n",
       "      <td>PAYMENT</td>\n",
       "      <td>1864.28</td>\n",
       "      <td>C1666544295</td>\n",
       "      <td>21249.0</td>\n",
       "      <td>19384.72</td>\n",
       "      <td>M2044282225</td>\n",
       "      <td>0.0</td>\n",
       "      <td>0.0</td>\n",
       "      <td>0</td>\n",
       "      <td>0</td>\n",
       "    </tr>\n",
       "    <tr>\n",
       "      <th>2</th>\n",
       "      <td>1</td>\n",
       "      <td>TRANSFER</td>\n",
       "      <td>181.00</td>\n",
       "      <td>C1305486145</td>\n",
       "      <td>181.0</td>\n",
       "      <td>0.00</td>\n",
       "      <td>C553264065</td>\n",
       "      <td>0.0</td>\n",
       "      <td>0.0</td>\n",
       "      <td>1</td>\n",
       "      <td>0</td>\n",
       "    </tr>\n",
       "    <tr>\n",
       "      <th>3</th>\n",
       "      <td>1</td>\n",
       "      <td>CASH_OUT</td>\n",
       "      <td>181.00</td>\n",
       "      <td>C840083671</td>\n",
       "      <td>181.0</td>\n",
       "      <td>0.00</td>\n",
       "      <td>C38997010</td>\n",
       "      <td>21182.0</td>\n",
       "      <td>0.0</td>\n",
       "      <td>1</td>\n",
       "      <td>0</td>\n",
       "    </tr>\n",
       "    <tr>\n",
       "      <th>4</th>\n",
       "      <td>1</td>\n",
       "      <td>PAYMENT</td>\n",
       "      <td>11668.14</td>\n",
       "      <td>C2048537720</td>\n",
       "      <td>41554.0</td>\n",
       "      <td>29885.86</td>\n",
       "      <td>M1230701703</td>\n",
       "      <td>0.0</td>\n",
       "      <td>0.0</td>\n",
       "      <td>0</td>\n",
       "      <td>0</td>\n",
       "    </tr>\n",
       "  </tbody>\n",
       "</table>\n",
       "</div>\n",
       "      <button class=\"colab-df-convert\" onclick=\"convertToInteractive('df-03a77f8b-3f2c-4cfb-a6a5-af7b9d1e55a9')\"\n",
       "              title=\"Convert this dataframe to an interactive table.\"\n",
       "              style=\"display:none;\">\n",
       "        \n",
       "  <svg xmlns=\"http://www.w3.org/2000/svg\" height=\"24px\"viewBox=\"0 0 24 24\"\n",
       "       width=\"24px\">\n",
       "    <path d=\"M0 0h24v24H0V0z\" fill=\"none\"/>\n",
       "    <path d=\"M18.56 5.44l.94 2.06.94-2.06 2.06-.94-2.06-.94-.94-2.06-.94 2.06-2.06.94zm-11 1L8.5 8.5l.94-2.06 2.06-.94-2.06-.94L8.5 2.5l-.94 2.06-2.06.94zm10 10l.94 2.06.94-2.06 2.06-.94-2.06-.94-.94-2.06-.94 2.06-2.06.94z\"/><path d=\"M17.41 7.96l-1.37-1.37c-.4-.4-.92-.59-1.43-.59-.52 0-1.04.2-1.43.59L10.3 9.45l-7.72 7.72c-.78.78-.78 2.05 0 2.83L4 21.41c.39.39.9.59 1.41.59.51 0 1.02-.2 1.41-.59l7.78-7.78 2.81-2.81c.8-.78.8-2.07 0-2.86zM5.41 20L4 18.59l7.72-7.72 1.47 1.35L5.41 20z\"/>\n",
       "  </svg>\n",
       "      </button>\n",
       "      \n",
       "  <style>\n",
       "    .colab-df-container {\n",
       "      display:flex;\n",
       "      flex-wrap:wrap;\n",
       "      gap: 12px;\n",
       "    }\n",
       "\n",
       "    .colab-df-convert {\n",
       "      background-color: #E8F0FE;\n",
       "      border: none;\n",
       "      border-radius: 50%;\n",
       "      cursor: pointer;\n",
       "      display: none;\n",
       "      fill: #1967D2;\n",
       "      height: 32px;\n",
       "      padding: 0 0 0 0;\n",
       "      width: 32px;\n",
       "    }\n",
       "\n",
       "    .colab-df-convert:hover {\n",
       "      background-color: #E2EBFA;\n",
       "      box-shadow: 0px 1px 2px rgba(60, 64, 67, 0.3), 0px 1px 3px 1px rgba(60, 64, 67, 0.15);\n",
       "      fill: #174EA6;\n",
       "    }\n",
       "\n",
       "    [theme=dark] .colab-df-convert {\n",
       "      background-color: #3B4455;\n",
       "      fill: #D2E3FC;\n",
       "    }\n",
       "\n",
       "    [theme=dark] .colab-df-convert:hover {\n",
       "      background-color: #434B5C;\n",
       "      box-shadow: 0px 1px 3px 1px rgba(0, 0, 0, 0.15);\n",
       "      filter: drop-shadow(0px 1px 2px rgba(0, 0, 0, 0.3));\n",
       "      fill: #FFFFFF;\n",
       "    }\n",
       "  </style>\n",
       "\n",
       "      <script>\n",
       "        const buttonEl =\n",
       "          document.querySelector('#df-03a77f8b-3f2c-4cfb-a6a5-af7b9d1e55a9 button.colab-df-convert');\n",
       "        buttonEl.style.display =\n",
       "          google.colab.kernel.accessAllowed ? 'block' : 'none';\n",
       "\n",
       "        async function convertToInteractive(key) {\n",
       "          const element = document.querySelector('#df-03a77f8b-3f2c-4cfb-a6a5-af7b9d1e55a9');\n",
       "          const dataTable =\n",
       "            await google.colab.kernel.invokeFunction('convertToInteractive',\n",
       "                                                     [key], {});\n",
       "          if (!dataTable) return;\n",
       "\n",
       "          const docLinkHtml = 'Like what you see? Visit the ' +\n",
       "            '<a target=\"_blank\" href=https://colab.research.google.com/notebooks/data_table.ipynb>data table notebook</a>'\n",
       "            + ' to learn more about interactive tables.';\n",
       "          element.innerHTML = '';\n",
       "          dataTable['output_type'] = 'display_data';\n",
       "          await google.colab.output.renderOutput(dataTable, element);\n",
       "          const docLink = document.createElement('div');\n",
       "          docLink.innerHTML = docLinkHtml;\n",
       "          element.appendChild(docLink);\n",
       "        }\n",
       "      </script>\n",
       "    </div>\n",
       "  </div>\n",
       "  "
      ],
      "text/plain": [
       "   step      type    amount     nameOrig  oldbalanceOrig  newbalanceOrig  \\\n",
       "0     1   PAYMENT   9839.64  C1231006815        170136.0       160296.36   \n",
       "1     1   PAYMENT   1864.28  C1666544295         21249.0        19384.72   \n",
       "2     1  TRANSFER    181.00  C1305486145           181.0            0.00   \n",
       "3     1  CASH_OUT    181.00   C840083671           181.0            0.00   \n",
       "4     1   PAYMENT  11668.14  C2048537720         41554.0        29885.86   \n",
       "\n",
       "      nameDest  oldbalanceDest  newbalanceDest  isFraud  isFlaggedFraud  \n",
       "0  M1979787155             0.0             0.0        0               0  \n",
       "1  M2044282225             0.0             0.0        0               0  \n",
       "2   C553264065             0.0             0.0        1               0  \n",
       "3    C38997010         21182.0             0.0        1               0  \n",
       "4  M1230701703             0.0             0.0        0               0  "
      ]
     },
     "execution_count": 86,
     "metadata": {},
     "output_type": "execute_result"
    }
   ],
   "source": [
    "frame_with_outliers_removed.head()"
   ]
  },
  {
   "cell_type": "markdown",
   "id": "2628d9a4",
   "metadata": {
    "id": "2628d9a4"
   },
   "source": [
    "## 5. Feature engineering"
   ]
  },
  {
   "cell_type": "code",
   "execution_count": 87,
   "id": "f7212394",
   "metadata": {
    "colab": {
     "base_uri": "https://localhost:8080/",
     "height": 1000
    },
    "id": "f7212394",
    "outputId": "6409fd73-4fe0-4122-9af2-c4f9bcdf6220"
   },
   "outputs": [
    {
     "data": {
      "text/html": [
       "\n",
       "  <div id=\"df-387da1cd-0d28-4b67-a15c-8ec2f5bbf135\">\n",
       "    <div class=\"colab-df-container\">\n",
       "      <div>\n",
       "<style scoped>\n",
       "    .dataframe tbody tr th:only-of-type {\n",
       "        vertical-align: middle;\n",
       "    }\n",
       "\n",
       "    .dataframe tbody tr th {\n",
       "        vertical-align: top;\n",
       "    }\n",
       "\n",
       "    .dataframe thead th {\n",
       "        text-align: right;\n",
       "    }\n",
       "</style>\n",
       "<table border=\"1\" class=\"dataframe\">\n",
       "  <thead>\n",
       "    <tr style=\"text-align: right;\">\n",
       "      <th></th>\n",
       "      <th>step</th>\n",
       "      <th>type</th>\n",
       "      <th>amount</th>\n",
       "      <th>nameOrig</th>\n",
       "      <th>oldbalanceOrig</th>\n",
       "      <th>newbalanceOrig</th>\n",
       "      <th>nameDest</th>\n",
       "      <th>oldbalanceDest</th>\n",
       "      <th>newbalanceDest</th>\n",
       "      <th>isFraud</th>\n",
       "      <th>isFlaggedFraud</th>\n",
       "    </tr>\n",
       "  </thead>\n",
       "  <tbody>\n",
       "    <tr>\n",
       "      <th>2</th>\n",
       "      <td>1</td>\n",
       "      <td>TRANSFER</td>\n",
       "      <td>181.00</td>\n",
       "      <td>C1305486145</td>\n",
       "      <td>181.00</td>\n",
       "      <td>0.00</td>\n",
       "      <td>C553264065</td>\n",
       "      <td>0.00</td>\n",
       "      <td>0.00</td>\n",
       "      <td>1</td>\n",
       "      <td>0</td>\n",
       "    </tr>\n",
       "    <tr>\n",
       "      <th>3</th>\n",
       "      <td>1</td>\n",
       "      <td>CASH_OUT</td>\n",
       "      <td>181.00</td>\n",
       "      <td>C840083671</td>\n",
       "      <td>181.00</td>\n",
       "      <td>0.00</td>\n",
       "      <td>C38997010</td>\n",
       "      <td>21182.00</td>\n",
       "      <td>0.00</td>\n",
       "      <td>1</td>\n",
       "      <td>0</td>\n",
       "    </tr>\n",
       "    <tr>\n",
       "      <th>251</th>\n",
       "      <td>1</td>\n",
       "      <td>TRANSFER</td>\n",
       "      <td>2806.00</td>\n",
       "      <td>C1420196421</td>\n",
       "      <td>2806.00</td>\n",
       "      <td>0.00</td>\n",
       "      <td>C972765878</td>\n",
       "      <td>0.00</td>\n",
       "      <td>0.00</td>\n",
       "      <td>1</td>\n",
       "      <td>0</td>\n",
       "    </tr>\n",
       "    <tr>\n",
       "      <th>252</th>\n",
       "      <td>1</td>\n",
       "      <td>CASH_OUT</td>\n",
       "      <td>2806.00</td>\n",
       "      <td>C2101527076</td>\n",
       "      <td>2806.00</td>\n",
       "      <td>0.00</td>\n",
       "      <td>C1007251739</td>\n",
       "      <td>26202.00</td>\n",
       "      <td>0.00</td>\n",
       "      <td>1</td>\n",
       "      <td>0</td>\n",
       "    </tr>\n",
       "    <tr>\n",
       "      <th>680</th>\n",
       "      <td>1</td>\n",
       "      <td>TRANSFER</td>\n",
       "      <td>20128.00</td>\n",
       "      <td>C137533655</td>\n",
       "      <td>20128.00</td>\n",
       "      <td>0.00</td>\n",
       "      <td>C1848415041</td>\n",
       "      <td>0.00</td>\n",
       "      <td>0.00</td>\n",
       "      <td>1</td>\n",
       "      <td>0</td>\n",
       "    </tr>\n",
       "    <tr>\n",
       "      <th>681</th>\n",
       "      <td>1</td>\n",
       "      <td>CASH_OUT</td>\n",
       "      <td>20128.00</td>\n",
       "      <td>C1118430673</td>\n",
       "      <td>20128.00</td>\n",
       "      <td>0.00</td>\n",
       "      <td>C339924917</td>\n",
       "      <td>6268.00</td>\n",
       "      <td>12145.85</td>\n",
       "      <td>1</td>\n",
       "      <td>0</td>\n",
       "    </tr>\n",
       "    <tr>\n",
       "      <th>724</th>\n",
       "      <td>1</td>\n",
       "      <td>CASH_OUT</td>\n",
       "      <td>416001.33</td>\n",
       "      <td>C749981943</td>\n",
       "      <td>0.00</td>\n",
       "      <td>0.00</td>\n",
       "      <td>C667346055</td>\n",
       "      <td>102.00</td>\n",
       "      <td>9291619.62</td>\n",
       "      <td>1</td>\n",
       "      <td>0</td>\n",
       "    </tr>\n",
       "    <tr>\n",
       "      <th>969</th>\n",
       "      <td>1</td>\n",
       "      <td>TRANSFER</td>\n",
       "      <td>1277212.77</td>\n",
       "      <td>C1334405552</td>\n",
       "      <td>1277212.77</td>\n",
       "      <td>0.00</td>\n",
       "      <td>C431687661</td>\n",
       "      <td>0.00</td>\n",
       "      <td>0.00</td>\n",
       "      <td>1</td>\n",
       "      <td>0</td>\n",
       "    </tr>\n",
       "    <tr>\n",
       "      <th>970</th>\n",
       "      <td>1</td>\n",
       "      <td>CASH_OUT</td>\n",
       "      <td>1277212.77</td>\n",
       "      <td>C467632528</td>\n",
       "      <td>1277212.77</td>\n",
       "      <td>0.00</td>\n",
       "      <td>C716083600</td>\n",
       "      <td>0.00</td>\n",
       "      <td>2444985.19</td>\n",
       "      <td>1</td>\n",
       "      <td>0</td>\n",
       "    </tr>\n",
       "    <tr>\n",
       "      <th>1115</th>\n",
       "      <td>1</td>\n",
       "      <td>TRANSFER</td>\n",
       "      <td>35063.63</td>\n",
       "      <td>C1364127192</td>\n",
       "      <td>35063.63</td>\n",
       "      <td>0.00</td>\n",
       "      <td>C1136419747</td>\n",
       "      <td>0.00</td>\n",
       "      <td>0.00</td>\n",
       "      <td>1</td>\n",
       "      <td>0</td>\n",
       "    </tr>\n",
       "    <tr>\n",
       "      <th>1116</th>\n",
       "      <td>1</td>\n",
       "      <td>CASH_OUT</td>\n",
       "      <td>35063.63</td>\n",
       "      <td>C1635772897</td>\n",
       "      <td>35063.63</td>\n",
       "      <td>0.00</td>\n",
       "      <td>C1983025922</td>\n",
       "      <td>31140.00</td>\n",
       "      <td>7550.03</td>\n",
       "      <td>1</td>\n",
       "      <td>0</td>\n",
       "    </tr>\n",
       "    <tr>\n",
       "      <th>1869</th>\n",
       "      <td>1</td>\n",
       "      <td>TRANSFER</td>\n",
       "      <td>25071.46</td>\n",
       "      <td>C669700766</td>\n",
       "      <td>25071.46</td>\n",
       "      <td>0.00</td>\n",
       "      <td>C1384210339</td>\n",
       "      <td>0.00</td>\n",
       "      <td>0.00</td>\n",
       "      <td>1</td>\n",
       "      <td>0</td>\n",
       "    </tr>\n",
       "    <tr>\n",
       "      <th>1870</th>\n",
       "      <td>1</td>\n",
       "      <td>CASH_OUT</td>\n",
       "      <td>25071.46</td>\n",
       "      <td>C1275464847</td>\n",
       "      <td>25071.46</td>\n",
       "      <td>0.00</td>\n",
       "      <td>C1364913072</td>\n",
       "      <td>9083.76</td>\n",
       "      <td>34155.22</td>\n",
       "      <td>1</td>\n",
       "      <td>0</td>\n",
       "    </tr>\n",
       "    <tr>\n",
       "      <th>1911</th>\n",
       "      <td>1</td>\n",
       "      <td>CASH_OUT</td>\n",
       "      <td>132842.64</td>\n",
       "      <td>C13692003</td>\n",
       "      <td>4499.08</td>\n",
       "      <td>0.00</td>\n",
       "      <td>C297927961</td>\n",
       "      <td>0.00</td>\n",
       "      <td>132842.64</td>\n",
       "      <td>1</td>\n",
       "      <td>0</td>\n",
       "    </tr>\n",
       "    <tr>\n",
       "      <th>2301</th>\n",
       "      <td>1</td>\n",
       "      <td>TRANSFER</td>\n",
       "      <td>235238.66</td>\n",
       "      <td>C1872047468</td>\n",
       "      <td>235238.66</td>\n",
       "      <td>0.00</td>\n",
       "      <td>C116289363</td>\n",
       "      <td>0.00</td>\n",
       "      <td>0.00</td>\n",
       "      <td>1</td>\n",
       "      <td>0</td>\n",
       "    </tr>\n",
       "    <tr>\n",
       "      <th>2302</th>\n",
       "      <td>1</td>\n",
       "      <td>CASH_OUT</td>\n",
       "      <td>235238.66</td>\n",
       "      <td>C1499825229</td>\n",
       "      <td>235238.66</td>\n",
       "      <td>0.00</td>\n",
       "      <td>C2100440237</td>\n",
       "      <td>0.00</td>\n",
       "      <td>235238.66</td>\n",
       "      <td>1</td>\n",
       "      <td>0</td>\n",
       "    </tr>\n",
       "    <tr>\n",
       "      <th>3059</th>\n",
       "      <td>2</td>\n",
       "      <td>TRANSFER</td>\n",
       "      <td>1096187.24</td>\n",
       "      <td>C1093223281</td>\n",
       "      <td>1096187.24</td>\n",
       "      <td>0.00</td>\n",
       "      <td>C2063275841</td>\n",
       "      <td>0.00</td>\n",
       "      <td>0.00</td>\n",
       "      <td>1</td>\n",
       "      <td>0</td>\n",
       "    </tr>\n",
       "    <tr>\n",
       "      <th>3060</th>\n",
       "      <td>2</td>\n",
       "      <td>CASH_OUT</td>\n",
       "      <td>1096187.24</td>\n",
       "      <td>C77163673</td>\n",
       "      <td>1096187.24</td>\n",
       "      <td>0.00</td>\n",
       "      <td>C644345897</td>\n",
       "      <td>0.00</td>\n",
       "      <td>1096187.24</td>\n",
       "      <td>1</td>\n",
       "      <td>0</td>\n",
       "    </tr>\n",
       "    <tr>\n",
       "      <th>3162</th>\n",
       "      <td>2</td>\n",
       "      <td>TRANSFER</td>\n",
       "      <td>963532.14</td>\n",
       "      <td>C1440057381</td>\n",
       "      <td>963532.14</td>\n",
       "      <td>0.00</td>\n",
       "      <td>C268086000</td>\n",
       "      <td>0.00</td>\n",
       "      <td>0.00</td>\n",
       "      <td>1</td>\n",
       "      <td>0</td>\n",
       "    </tr>\n",
       "    <tr>\n",
       "      <th>3163</th>\n",
       "      <td>2</td>\n",
       "      <td>CASH_OUT</td>\n",
       "      <td>963532.14</td>\n",
       "      <td>C430329518</td>\n",
       "      <td>963532.14</td>\n",
       "      <td>0.00</td>\n",
       "      <td>C991505714</td>\n",
       "      <td>132382.57</td>\n",
       "      <td>1095914.71</td>\n",
       "      <td>1</td>\n",
       "      <td>0</td>\n",
       "    </tr>\n",
       "    <tr>\n",
       "      <th>3271</th>\n",
       "      <td>2</td>\n",
       "      <td>TRANSFER</td>\n",
       "      <td>14949.84</td>\n",
       "      <td>C140702728</td>\n",
       "      <td>14949.84</td>\n",
       "      <td>0.00</td>\n",
       "      <td>C634210724</td>\n",
       "      <td>0.00</td>\n",
       "      <td>0.00</td>\n",
       "      <td>1</td>\n",
       "      <td>0</td>\n",
       "    </tr>\n",
       "    <tr>\n",
       "      <th>3272</th>\n",
       "      <td>2</td>\n",
       "      <td>CASH_OUT</td>\n",
       "      <td>14949.84</td>\n",
       "      <td>C395257482</td>\n",
       "      <td>14949.84</td>\n",
       "      <td>0.00</td>\n",
       "      <td>C1032986144</td>\n",
       "      <td>18161.79</td>\n",
       "      <td>33111.63</td>\n",
       "      <td>1</td>\n",
       "      <td>0</td>\n",
       "    </tr>\n",
       "    <tr>\n",
       "      <th>3683</th>\n",
       "      <td>2</td>\n",
       "      <td>TRANSFER</td>\n",
       "      <td>18627.02</td>\n",
       "      <td>C1375503918</td>\n",
       "      <td>18627.02</td>\n",
       "      <td>0.00</td>\n",
       "      <td>C234430897</td>\n",
       "      <td>0.00</td>\n",
       "      <td>0.00</td>\n",
       "      <td>1</td>\n",
       "      <td>0</td>\n",
       "    </tr>\n",
       "    <tr>\n",
       "      <th>3684</th>\n",
       "      <td>2</td>\n",
       "      <td>CASH_OUT</td>\n",
       "      <td>18627.02</td>\n",
       "      <td>C175961135</td>\n",
       "      <td>18627.02</td>\n",
       "      <td>0.00</td>\n",
       "      <td>C1711105800</td>\n",
       "      <td>147251.58</td>\n",
       "      <td>165878.60</td>\n",
       "      <td>1</td>\n",
       "      <td>0</td>\n",
       "    </tr>\n",
       "    <tr>\n",
       "      <th>4103</th>\n",
       "      <td>3</td>\n",
       "      <td>TRANSFER</td>\n",
       "      <td>10539.37</td>\n",
       "      <td>C1134864869</td>\n",
       "      <td>10539.37</td>\n",
       "      <td>0.00</td>\n",
       "      <td>C118648358</td>\n",
       "      <td>0.00</td>\n",
       "      <td>0.00</td>\n",
       "      <td>1</td>\n",
       "      <td>0</td>\n",
       "    </tr>\n",
       "    <tr>\n",
       "      <th>4104</th>\n",
       "      <td>3</td>\n",
       "      <td>CASH_OUT</td>\n",
       "      <td>10539.37</td>\n",
       "      <td>C1984954272</td>\n",
       "      <td>10539.37</td>\n",
       "      <td>0.00</td>\n",
       "      <td>C124540047</td>\n",
       "      <td>0.00</td>\n",
       "      <td>10539.37</td>\n",
       "      <td>1</td>\n",
       "      <td>0</td>\n",
       "    </tr>\n",
       "    <tr>\n",
       "      <th>4260</th>\n",
       "      <td>3</td>\n",
       "      <td>TRANSFER</td>\n",
       "      <td>22877.00</td>\n",
       "      <td>C1247938090</td>\n",
       "      <td>22877.00</td>\n",
       "      <td>0.00</td>\n",
       "      <td>C1002031672</td>\n",
       "      <td>0.00</td>\n",
       "      <td>0.00</td>\n",
       "      <td>1</td>\n",
       "      <td>0</td>\n",
       "    </tr>\n",
       "    <tr>\n",
       "      <th>4261</th>\n",
       "      <td>3</td>\n",
       "      <td>CASH_OUT</td>\n",
       "      <td>22877.00</td>\n",
       "      <td>C2126545173</td>\n",
       "      <td>22877.00</td>\n",
       "      <td>0.00</td>\n",
       "      <td>C573200870</td>\n",
       "      <td>0.00</td>\n",
       "      <td>22877.00</td>\n",
       "      <td>1</td>\n",
       "      <td>0</td>\n",
       "    </tr>\n",
       "    <tr>\n",
       "      <th>4440</th>\n",
       "      <td>4</td>\n",
       "      <td>TRANSFER</td>\n",
       "      <td>10000000.00</td>\n",
       "      <td>C7162498</td>\n",
       "      <td>12930418.44</td>\n",
       "      <td>2930418.44</td>\n",
       "      <td>C945327594</td>\n",
       "      <td>0.00</td>\n",
       "      <td>0.00</td>\n",
       "      <td>1</td>\n",
       "      <td>0</td>\n",
       "    </tr>\n",
       "    <tr>\n",
       "      <th>4441</th>\n",
       "      <td>4</td>\n",
       "      <td>CASH_OUT</td>\n",
       "      <td>10000000.00</td>\n",
       "      <td>C351297720</td>\n",
       "      <td>10000000.00</td>\n",
       "      <td>0.00</td>\n",
       "      <td>C766681183</td>\n",
       "      <td>0.00</td>\n",
       "      <td>9941904.21</td>\n",
       "      <td>1</td>\n",
       "      <td>0</td>\n",
       "    </tr>\n",
       "  </tbody>\n",
       "</table>\n",
       "</div>\n",
       "      <button class=\"colab-df-convert\" onclick=\"convertToInteractive('df-387da1cd-0d28-4b67-a15c-8ec2f5bbf135')\"\n",
       "              title=\"Convert this dataframe to an interactive table.\"\n",
       "              style=\"display:none;\">\n",
       "        \n",
       "  <svg xmlns=\"http://www.w3.org/2000/svg\" height=\"24px\"viewBox=\"0 0 24 24\"\n",
       "       width=\"24px\">\n",
       "    <path d=\"M0 0h24v24H0V0z\" fill=\"none\"/>\n",
       "    <path d=\"M18.56 5.44l.94 2.06.94-2.06 2.06-.94-2.06-.94-.94-2.06-.94 2.06-2.06.94zm-11 1L8.5 8.5l.94-2.06 2.06-.94-2.06-.94L8.5 2.5l-.94 2.06-2.06.94zm10 10l.94 2.06.94-2.06 2.06-.94-2.06-.94-.94-2.06-.94 2.06-2.06.94z\"/><path d=\"M17.41 7.96l-1.37-1.37c-.4-.4-.92-.59-1.43-.59-.52 0-1.04.2-1.43.59L10.3 9.45l-7.72 7.72c-.78.78-.78 2.05 0 2.83L4 21.41c.39.39.9.59 1.41.59.51 0 1.02-.2 1.41-.59l7.78-7.78 2.81-2.81c.8-.78.8-2.07 0-2.86zM5.41 20L4 18.59l7.72-7.72 1.47 1.35L5.41 20z\"/>\n",
       "  </svg>\n",
       "      </button>\n",
       "      \n",
       "  <style>\n",
       "    .colab-df-container {\n",
       "      display:flex;\n",
       "      flex-wrap:wrap;\n",
       "      gap: 12px;\n",
       "    }\n",
       "\n",
       "    .colab-df-convert {\n",
       "      background-color: #E8F0FE;\n",
       "      border: none;\n",
       "      border-radius: 50%;\n",
       "      cursor: pointer;\n",
       "      display: none;\n",
       "      fill: #1967D2;\n",
       "      height: 32px;\n",
       "      padding: 0 0 0 0;\n",
       "      width: 32px;\n",
       "    }\n",
       "\n",
       "    .colab-df-convert:hover {\n",
       "      background-color: #E2EBFA;\n",
       "      box-shadow: 0px 1px 2px rgba(60, 64, 67, 0.3), 0px 1px 3px 1px rgba(60, 64, 67, 0.15);\n",
       "      fill: #174EA6;\n",
       "    }\n",
       "\n",
       "    [theme=dark] .colab-df-convert {\n",
       "      background-color: #3B4455;\n",
       "      fill: #D2E3FC;\n",
       "    }\n",
       "\n",
       "    [theme=dark] .colab-df-convert:hover {\n",
       "      background-color: #434B5C;\n",
       "      box-shadow: 0px 1px 3px 1px rgba(0, 0, 0, 0.15);\n",
       "      filter: drop-shadow(0px 1px 2px rgba(0, 0, 0, 0.3));\n",
       "      fill: #FFFFFF;\n",
       "    }\n",
       "  </style>\n",
       "\n",
       "      <script>\n",
       "        const buttonEl =\n",
       "          document.querySelector('#df-387da1cd-0d28-4b67-a15c-8ec2f5bbf135 button.colab-df-convert');\n",
       "        buttonEl.style.display =\n",
       "          google.colab.kernel.accessAllowed ? 'block' : 'none';\n",
       "\n",
       "        async function convertToInteractive(key) {\n",
       "          const element = document.querySelector('#df-387da1cd-0d28-4b67-a15c-8ec2f5bbf135');\n",
       "          const dataTable =\n",
       "            await google.colab.kernel.invokeFunction('convertToInteractive',\n",
       "                                                     [key], {});\n",
       "          if (!dataTable) return;\n",
       "\n",
       "          const docLinkHtml = 'Like what you see? Visit the ' +\n",
       "            '<a target=\"_blank\" href=https://colab.research.google.com/notebooks/data_table.ipynb>data table notebook</a>'\n",
       "            + ' to learn more about interactive tables.';\n",
       "          element.innerHTML = '';\n",
       "          dataTable['output_type'] = 'display_data';\n",
       "          await google.colab.output.renderOutput(dataTable, element);\n",
       "          const docLink = document.createElement('div');\n",
       "          docLink.innerHTML = docLinkHtml;\n",
       "          element.appendChild(docLink);\n",
       "        }\n",
       "      </script>\n",
       "    </div>\n",
       "  </div>\n",
       "  "
      ],
      "text/plain": [
       "      step      type       amount     nameOrig  oldbalanceOrig  \\\n",
       "2        1  TRANSFER       181.00  C1305486145          181.00   \n",
       "3        1  CASH_OUT       181.00   C840083671          181.00   \n",
       "251      1  TRANSFER      2806.00  C1420196421         2806.00   \n",
       "252      1  CASH_OUT      2806.00  C2101527076         2806.00   \n",
       "680      1  TRANSFER     20128.00   C137533655        20128.00   \n",
       "681      1  CASH_OUT     20128.00  C1118430673        20128.00   \n",
       "724      1  CASH_OUT    416001.33   C749981943            0.00   \n",
       "969      1  TRANSFER   1277212.77  C1334405552      1277212.77   \n",
       "970      1  CASH_OUT   1277212.77   C467632528      1277212.77   \n",
       "1115     1  TRANSFER     35063.63  C1364127192        35063.63   \n",
       "1116     1  CASH_OUT     35063.63  C1635772897        35063.63   \n",
       "1869     1  TRANSFER     25071.46   C669700766        25071.46   \n",
       "1870     1  CASH_OUT     25071.46  C1275464847        25071.46   \n",
       "1911     1  CASH_OUT    132842.64    C13692003         4499.08   \n",
       "2301     1  TRANSFER    235238.66  C1872047468       235238.66   \n",
       "2302     1  CASH_OUT    235238.66  C1499825229       235238.66   \n",
       "3059     2  TRANSFER   1096187.24  C1093223281      1096187.24   \n",
       "3060     2  CASH_OUT   1096187.24    C77163673      1096187.24   \n",
       "3162     2  TRANSFER    963532.14  C1440057381       963532.14   \n",
       "3163     2  CASH_OUT    963532.14   C430329518       963532.14   \n",
       "3271     2  TRANSFER     14949.84   C140702728        14949.84   \n",
       "3272     2  CASH_OUT     14949.84   C395257482        14949.84   \n",
       "3683     2  TRANSFER     18627.02  C1375503918        18627.02   \n",
       "3684     2  CASH_OUT     18627.02   C175961135        18627.02   \n",
       "4103     3  TRANSFER     10539.37  C1134864869        10539.37   \n",
       "4104     3  CASH_OUT     10539.37  C1984954272        10539.37   \n",
       "4260     3  TRANSFER     22877.00  C1247938090        22877.00   \n",
       "4261     3  CASH_OUT     22877.00  C2126545173        22877.00   \n",
       "4440     4  TRANSFER  10000000.00     C7162498     12930418.44   \n",
       "4441     4  CASH_OUT  10000000.00   C351297720     10000000.00   \n",
       "\n",
       "      newbalanceOrig     nameDest  oldbalanceDest  newbalanceDest  isFraud  \\\n",
       "2               0.00   C553264065            0.00            0.00        1   \n",
       "3               0.00    C38997010        21182.00            0.00        1   \n",
       "251             0.00   C972765878            0.00            0.00        1   \n",
       "252             0.00  C1007251739        26202.00            0.00        1   \n",
       "680             0.00  C1848415041            0.00            0.00        1   \n",
       "681             0.00   C339924917         6268.00        12145.85        1   \n",
       "724             0.00   C667346055          102.00      9291619.62        1   \n",
       "969             0.00   C431687661            0.00            0.00        1   \n",
       "970             0.00   C716083600            0.00      2444985.19        1   \n",
       "1115            0.00  C1136419747            0.00            0.00        1   \n",
       "1116            0.00  C1983025922        31140.00         7550.03        1   \n",
       "1869            0.00  C1384210339            0.00            0.00        1   \n",
       "1870            0.00  C1364913072         9083.76        34155.22        1   \n",
       "1911            0.00   C297927961            0.00       132842.64        1   \n",
       "2301            0.00   C116289363            0.00            0.00        1   \n",
       "2302            0.00  C2100440237            0.00       235238.66        1   \n",
       "3059            0.00  C2063275841            0.00            0.00        1   \n",
       "3060            0.00   C644345897            0.00      1096187.24        1   \n",
       "3162            0.00   C268086000            0.00            0.00        1   \n",
       "3163            0.00   C991505714       132382.57      1095914.71        1   \n",
       "3271            0.00   C634210724            0.00            0.00        1   \n",
       "3272            0.00  C1032986144        18161.79        33111.63        1   \n",
       "3683            0.00   C234430897            0.00            0.00        1   \n",
       "3684            0.00  C1711105800       147251.58       165878.60        1   \n",
       "4103            0.00   C118648358            0.00            0.00        1   \n",
       "4104            0.00   C124540047            0.00        10539.37        1   \n",
       "4260            0.00  C1002031672            0.00            0.00        1   \n",
       "4261            0.00   C573200870            0.00        22877.00        1   \n",
       "4440      2930418.44   C945327594            0.00            0.00        1   \n",
       "4441            0.00   C766681183            0.00      9941904.21        1   \n",
       "\n",
       "      isFlaggedFraud  \n",
       "2                  0  \n",
       "3                  0  \n",
       "251                0  \n",
       "252                0  \n",
       "680                0  \n",
       "681                0  \n",
       "724                0  \n",
       "969                0  \n",
       "970                0  \n",
       "1115               0  \n",
       "1116               0  \n",
       "1869               0  \n",
       "1870               0  \n",
       "1911               0  \n",
       "2301               0  \n",
       "2302               0  \n",
       "3059               0  \n",
       "3060               0  \n",
       "3162               0  \n",
       "3163               0  \n",
       "3271               0  \n",
       "3272               0  \n",
       "3683               0  \n",
       "3684               0  \n",
       "4103               0  \n",
       "4104               0  \n",
       "4260               0  \n",
       "4261               0  \n",
       "4440               0  \n",
       "4441               0  "
      ]
     },
     "execution_count": 87,
     "metadata": {},
     "output_type": "execute_result"
    }
   ],
   "source": [
    "# check clearly where the exact fraud has happened\n",
    "\n",
    "(frame_with_outliers_removed[frame_with_outliers_removed['isFraud'] == 1]).head(30)"
   ]
  },
  {
   "cell_type": "markdown",
   "id": "zZAhMNwb159p",
   "metadata": {
    "id": "zZAhMNwb159p"
   },
   "source": [
    "> <b>Here we can see that some nameOrig has less amount on his/her oldbalanceOrg than amount that want to transfer(e.g row number 724, 1911)</b>"
   ]
  },
  {
   "cell_type": "code",
   "execution_count": 133,
   "id": "SjxhbjO9XLpJ",
   "metadata": {
    "id": "SjxhbjO9XLpJ"
   },
   "outputs": [],
   "source": [
    "def addFeatures(frame):\n",
    "    frame['amount_deduct_from_Orig'] = frame['oldbalanceOrig'] - frame['newbalanceOrig']\n",
    "    frame['amount_expect_after_successful_transfer'] = frame['oldbalanceDest'] + frame['amount']\n",
    "\n",
    "    return frame\n"
   ]
  },
  {
   "cell_type": "code",
   "execution_count": 134,
   "id": "pFXkmeyTXL7W",
   "metadata": {
    "colab": {
     "base_uri": "https://localhost:8080/",
     "height": 270
    },
    "id": "pFXkmeyTXL7W",
    "outputId": "82ae36f4-2e6a-4d9e-ebd3-707023b90153"
   },
   "outputs": [
    {
     "data": {
      "text/html": [
       "\n",
       "  <div id=\"df-70a942fe-c808-4fe1-bc7c-b7e1466d19ac\">\n",
       "    <div class=\"colab-df-container\">\n",
       "      <div>\n",
       "<style scoped>\n",
       "    .dataframe tbody tr th:only-of-type {\n",
       "        vertical-align: middle;\n",
       "    }\n",
       "\n",
       "    .dataframe tbody tr th {\n",
       "        vertical-align: top;\n",
       "    }\n",
       "\n",
       "    .dataframe thead th {\n",
       "        text-align: right;\n",
       "    }\n",
       "</style>\n",
       "<table border=\"1\" class=\"dataframe\">\n",
       "  <thead>\n",
       "    <tr style=\"text-align: right;\">\n",
       "      <th></th>\n",
       "      <th>step</th>\n",
       "      <th>type</th>\n",
       "      <th>amount</th>\n",
       "      <th>nameOrig</th>\n",
       "      <th>oldbalanceOrig</th>\n",
       "      <th>newbalanceOrig</th>\n",
       "      <th>nameDest</th>\n",
       "      <th>oldbalanceDest</th>\n",
       "      <th>newbalanceDest</th>\n",
       "      <th>isFraud</th>\n",
       "      <th>isFlaggedFraud</th>\n",
       "      <th>amount_deduct_from_Orig</th>\n",
       "      <th>amount_expect_after_successful_transfer</th>\n",
       "    </tr>\n",
       "  </thead>\n",
       "  <tbody>\n",
       "    <tr>\n",
       "      <th>0</th>\n",
       "      <td>1</td>\n",
       "      <td>PAYMENT</td>\n",
       "      <td>9839.64</td>\n",
       "      <td>C1231006815</td>\n",
       "      <td>170136.0</td>\n",
       "      <td>160296.36</td>\n",
       "      <td>M1979787155</td>\n",
       "      <td>0.0</td>\n",
       "      <td>0.0</td>\n",
       "      <td>0</td>\n",
       "      <td>0</td>\n",
       "      <td>9839.64</td>\n",
       "      <td>9839.64</td>\n",
       "    </tr>\n",
       "    <tr>\n",
       "      <th>1</th>\n",
       "      <td>1</td>\n",
       "      <td>PAYMENT</td>\n",
       "      <td>1864.28</td>\n",
       "      <td>C1666544295</td>\n",
       "      <td>21249.0</td>\n",
       "      <td>19384.72</td>\n",
       "      <td>M2044282225</td>\n",
       "      <td>0.0</td>\n",
       "      <td>0.0</td>\n",
       "      <td>0</td>\n",
       "      <td>0</td>\n",
       "      <td>1864.28</td>\n",
       "      <td>1864.28</td>\n",
       "    </tr>\n",
       "    <tr>\n",
       "      <th>2</th>\n",
       "      <td>1</td>\n",
       "      <td>TRANSFER</td>\n",
       "      <td>181.00</td>\n",
       "      <td>C1305486145</td>\n",
       "      <td>181.0</td>\n",
       "      <td>0.00</td>\n",
       "      <td>C553264065</td>\n",
       "      <td>0.0</td>\n",
       "      <td>0.0</td>\n",
       "      <td>1</td>\n",
       "      <td>0</td>\n",
       "      <td>181.00</td>\n",
       "      <td>181.00</td>\n",
       "    </tr>\n",
       "    <tr>\n",
       "      <th>3</th>\n",
       "      <td>1</td>\n",
       "      <td>CASH_OUT</td>\n",
       "      <td>181.00</td>\n",
       "      <td>C840083671</td>\n",
       "      <td>181.0</td>\n",
       "      <td>0.00</td>\n",
       "      <td>C38997010</td>\n",
       "      <td>21182.0</td>\n",
       "      <td>0.0</td>\n",
       "      <td>1</td>\n",
       "      <td>0</td>\n",
       "      <td>181.00</td>\n",
       "      <td>21363.00</td>\n",
       "    </tr>\n",
       "    <tr>\n",
       "      <th>4</th>\n",
       "      <td>1</td>\n",
       "      <td>PAYMENT</td>\n",
       "      <td>11668.14</td>\n",
       "      <td>C2048537720</td>\n",
       "      <td>41554.0</td>\n",
       "      <td>29885.86</td>\n",
       "      <td>M1230701703</td>\n",
       "      <td>0.0</td>\n",
       "      <td>0.0</td>\n",
       "      <td>0</td>\n",
       "      <td>0</td>\n",
       "      <td>11668.14</td>\n",
       "      <td>11668.14</td>\n",
       "    </tr>\n",
       "  </tbody>\n",
       "</table>\n",
       "</div>\n",
       "      <button class=\"colab-df-convert\" onclick=\"convertToInteractive('df-70a942fe-c808-4fe1-bc7c-b7e1466d19ac')\"\n",
       "              title=\"Convert this dataframe to an interactive table.\"\n",
       "              style=\"display:none;\">\n",
       "        \n",
       "  <svg xmlns=\"http://www.w3.org/2000/svg\" height=\"24px\"viewBox=\"0 0 24 24\"\n",
       "       width=\"24px\">\n",
       "    <path d=\"M0 0h24v24H0V0z\" fill=\"none\"/>\n",
       "    <path d=\"M18.56 5.44l.94 2.06.94-2.06 2.06-.94-2.06-.94-.94-2.06-.94 2.06-2.06.94zm-11 1L8.5 8.5l.94-2.06 2.06-.94-2.06-.94L8.5 2.5l-.94 2.06-2.06.94zm10 10l.94 2.06.94-2.06 2.06-.94-2.06-.94-.94-2.06-.94 2.06-2.06.94z\"/><path d=\"M17.41 7.96l-1.37-1.37c-.4-.4-.92-.59-1.43-.59-.52 0-1.04.2-1.43.59L10.3 9.45l-7.72 7.72c-.78.78-.78 2.05 0 2.83L4 21.41c.39.39.9.59 1.41.59.51 0 1.02-.2 1.41-.59l7.78-7.78 2.81-2.81c.8-.78.8-2.07 0-2.86zM5.41 20L4 18.59l7.72-7.72 1.47 1.35L5.41 20z\"/>\n",
       "  </svg>\n",
       "      </button>\n",
       "      \n",
       "  <style>\n",
       "    .colab-df-container {\n",
       "      display:flex;\n",
       "      flex-wrap:wrap;\n",
       "      gap: 12px;\n",
       "    }\n",
       "\n",
       "    .colab-df-convert {\n",
       "      background-color: #E8F0FE;\n",
       "      border: none;\n",
       "      border-radius: 50%;\n",
       "      cursor: pointer;\n",
       "      display: none;\n",
       "      fill: #1967D2;\n",
       "      height: 32px;\n",
       "      padding: 0 0 0 0;\n",
       "      width: 32px;\n",
       "    }\n",
       "\n",
       "    .colab-df-convert:hover {\n",
       "      background-color: #E2EBFA;\n",
       "      box-shadow: 0px 1px 2px rgba(60, 64, 67, 0.3), 0px 1px 3px 1px rgba(60, 64, 67, 0.15);\n",
       "      fill: #174EA6;\n",
       "    }\n",
       "\n",
       "    [theme=dark] .colab-df-convert {\n",
       "      background-color: #3B4455;\n",
       "      fill: #D2E3FC;\n",
       "    }\n",
       "\n",
       "    [theme=dark] .colab-df-convert:hover {\n",
       "      background-color: #434B5C;\n",
       "      box-shadow: 0px 1px 3px 1px rgba(0, 0, 0, 0.15);\n",
       "      filter: drop-shadow(0px 1px 2px rgba(0, 0, 0, 0.3));\n",
       "      fill: #FFFFFF;\n",
       "    }\n",
       "  </style>\n",
       "\n",
       "      <script>\n",
       "        const buttonEl =\n",
       "          document.querySelector('#df-70a942fe-c808-4fe1-bc7c-b7e1466d19ac button.colab-df-convert');\n",
       "        buttonEl.style.display =\n",
       "          google.colab.kernel.accessAllowed ? 'block' : 'none';\n",
       "\n",
       "        async function convertToInteractive(key) {\n",
       "          const element = document.querySelector('#df-70a942fe-c808-4fe1-bc7c-b7e1466d19ac');\n",
       "          const dataTable =\n",
       "            await google.colab.kernel.invokeFunction('convertToInteractive',\n",
       "                                                     [key], {});\n",
       "          if (!dataTable) return;\n",
       "\n",
       "          const docLinkHtml = 'Like what you see? Visit the ' +\n",
       "            '<a target=\"_blank\" href=https://colab.research.google.com/notebooks/data_table.ipynb>data table notebook</a>'\n",
       "            + ' to learn more about interactive tables.';\n",
       "          element.innerHTML = '';\n",
       "          dataTable['output_type'] = 'display_data';\n",
       "          await google.colab.output.renderOutput(dataTable, element);\n",
       "          const docLink = document.createElement('div');\n",
       "          docLink.innerHTML = docLinkHtml;\n",
       "          element.appendChild(docLink);\n",
       "        }\n",
       "      </script>\n",
       "    </div>\n",
       "  </div>\n",
       "  "
      ],
      "text/plain": [
       "   step      type    amount     nameOrig  oldbalanceOrig  newbalanceOrig  \\\n",
       "0     1   PAYMENT   9839.64  C1231006815        170136.0       160296.36   \n",
       "1     1   PAYMENT   1864.28  C1666544295         21249.0        19384.72   \n",
       "2     1  TRANSFER    181.00  C1305486145           181.0            0.00   \n",
       "3     1  CASH_OUT    181.00   C840083671           181.0            0.00   \n",
       "4     1   PAYMENT  11668.14  C2048537720         41554.0        29885.86   \n",
       "\n",
       "      nameDest  oldbalanceDest  newbalanceDest  isFraud  isFlaggedFraud  \\\n",
       "0  M1979787155             0.0             0.0        0               0   \n",
       "1  M2044282225             0.0             0.0        0               0   \n",
       "2   C553264065             0.0             0.0        1               0   \n",
       "3    C38997010         21182.0             0.0        1               0   \n",
       "4  M1230701703             0.0             0.0        0               0   \n",
       "\n",
       "   amount_deduct_from_Orig  amount_expect_after_successful_transfer  \n",
       "0                  9839.64                                  9839.64  \n",
       "1                  1864.28                                  1864.28  \n",
       "2                   181.00                                   181.00  \n",
       "3                   181.00                                 21363.00  \n",
       "4                 11668.14                                 11668.14  "
      ]
     },
     "execution_count": 134,
     "metadata": {},
     "output_type": "execute_result"
    }
   ],
   "source": [
    "featurization_df = addFeatures(frame_with_outliers_removed)\n",
    "featurization_df.head()"
   ]
  },
  {
   "cell_type": "code",
   "execution_count": 135,
   "id": "8ShlOZumuRdk",
   "metadata": {
    "colab": {
     "base_uri": "https://localhost:8080/",
     "height": 270
    },
    "id": "8ShlOZumuRdk",
    "outputId": "502a22d4-d79a-49ca-f2fd-583dc7fbacee"
   },
   "outputs": [
    {
     "data": {
      "text/html": [
       "\n",
       "  <div id=\"df-ea0252b5-9bbb-4f9e-b705-851a640549c2\">\n",
       "    <div class=\"colab-df-container\">\n",
       "      <div>\n",
       "<style scoped>\n",
       "    .dataframe tbody tr th:only-of-type {\n",
       "        vertical-align: middle;\n",
       "    }\n",
       "\n",
       "    .dataframe tbody tr th {\n",
       "        vertical-align: top;\n",
       "    }\n",
       "\n",
       "    .dataframe thead th {\n",
       "        text-align: right;\n",
       "    }\n",
       "</style>\n",
       "<table border=\"1\" class=\"dataframe\">\n",
       "  <thead>\n",
       "    <tr style=\"text-align: right;\">\n",
       "      <th></th>\n",
       "      <th>step</th>\n",
       "      <th>type</th>\n",
       "      <th>amount</th>\n",
       "      <th>nameOrig</th>\n",
       "      <th>oldbalanceOrig</th>\n",
       "      <th>newbalanceOrig</th>\n",
       "      <th>nameDest</th>\n",
       "      <th>oldbalanceDest</th>\n",
       "      <th>newbalanceDest</th>\n",
       "      <th>isFraud</th>\n",
       "      <th>isFlaggedFraud</th>\n",
       "      <th>amount_deduct_from_Orig</th>\n",
       "      <th>amount_expect_after_successful_transfer</th>\n",
       "    </tr>\n",
       "  </thead>\n",
       "  <tbody>\n",
       "    <tr>\n",
       "      <th>2736446</th>\n",
       "      <td>212</td>\n",
       "      <td>TRANSFER</td>\n",
       "      <td>4953893.08</td>\n",
       "      <td>C728984460</td>\n",
       "      <td>4953893.08</td>\n",
       "      <td>4953893.08</td>\n",
       "      <td>C639921569</td>\n",
       "      <td>0.0</td>\n",
       "      <td>0.0</td>\n",
       "      <td>1</td>\n",
       "      <td>1</td>\n",
       "      <td>0.0</td>\n",
       "      <td>4953893.08</td>\n",
       "    </tr>\n",
       "    <tr>\n",
       "      <th>3247297</th>\n",
       "      <td>250</td>\n",
       "      <td>TRANSFER</td>\n",
       "      <td>1343002.08</td>\n",
       "      <td>C1100582606</td>\n",
       "      <td>1343002.08</td>\n",
       "      <td>1343002.08</td>\n",
       "      <td>C1147517658</td>\n",
       "      <td>0.0</td>\n",
       "      <td>0.0</td>\n",
       "      <td>1</td>\n",
       "      <td>1</td>\n",
       "      <td>0.0</td>\n",
       "      <td>1343002.08</td>\n",
       "    </tr>\n",
       "    <tr>\n",
       "      <th>3760288</th>\n",
       "      <td>279</td>\n",
       "      <td>TRANSFER</td>\n",
       "      <td>536624.41</td>\n",
       "      <td>C1035541766</td>\n",
       "      <td>536624.41</td>\n",
       "      <td>536624.41</td>\n",
       "      <td>C1100697970</td>\n",
       "      <td>0.0</td>\n",
       "      <td>0.0</td>\n",
       "      <td>1</td>\n",
       "      <td>1</td>\n",
       "      <td>0.0</td>\n",
       "      <td>536624.41</td>\n",
       "    </tr>\n",
       "    <tr>\n",
       "      <th>5563713</th>\n",
       "      <td>387</td>\n",
       "      <td>TRANSFER</td>\n",
       "      <td>4892193.09</td>\n",
       "      <td>C908544136</td>\n",
       "      <td>4892193.09</td>\n",
       "      <td>4892193.09</td>\n",
       "      <td>C891140444</td>\n",
       "      <td>0.0</td>\n",
       "      <td>0.0</td>\n",
       "      <td>1</td>\n",
       "      <td>1</td>\n",
       "      <td>0.0</td>\n",
       "      <td>4892193.09</td>\n",
       "    </tr>\n",
       "    <tr>\n",
       "      <th>5996407</th>\n",
       "      <td>425</td>\n",
       "      <td>TRANSFER</td>\n",
       "      <td>10000000.00</td>\n",
       "      <td>C689608084</td>\n",
       "      <td>19585040.37</td>\n",
       "      <td>19585040.37</td>\n",
       "      <td>C1392803603</td>\n",
       "      <td>0.0</td>\n",
       "      <td>0.0</td>\n",
       "      <td>1</td>\n",
       "      <td>1</td>\n",
       "      <td>0.0</td>\n",
       "      <td>10000000.00</td>\n",
       "    </tr>\n",
       "  </tbody>\n",
       "</table>\n",
       "</div>\n",
       "      <button class=\"colab-df-convert\" onclick=\"convertToInteractive('df-ea0252b5-9bbb-4f9e-b705-851a640549c2')\"\n",
       "              title=\"Convert this dataframe to an interactive table.\"\n",
       "              style=\"display:none;\">\n",
       "        \n",
       "  <svg xmlns=\"http://www.w3.org/2000/svg\" height=\"24px\"viewBox=\"0 0 24 24\"\n",
       "       width=\"24px\">\n",
       "    <path d=\"M0 0h24v24H0V0z\" fill=\"none\"/>\n",
       "    <path d=\"M18.56 5.44l.94 2.06.94-2.06 2.06-.94-2.06-.94-.94-2.06-.94 2.06-2.06.94zm-11 1L8.5 8.5l.94-2.06 2.06-.94-2.06-.94L8.5 2.5l-.94 2.06-2.06.94zm10 10l.94 2.06.94-2.06 2.06-.94-2.06-.94-.94-2.06-.94 2.06-2.06.94z\"/><path d=\"M17.41 7.96l-1.37-1.37c-.4-.4-.92-.59-1.43-.59-.52 0-1.04.2-1.43.59L10.3 9.45l-7.72 7.72c-.78.78-.78 2.05 0 2.83L4 21.41c.39.39.9.59 1.41.59.51 0 1.02-.2 1.41-.59l7.78-7.78 2.81-2.81c.8-.78.8-2.07 0-2.86zM5.41 20L4 18.59l7.72-7.72 1.47 1.35L5.41 20z\"/>\n",
       "  </svg>\n",
       "      </button>\n",
       "      \n",
       "  <style>\n",
       "    .colab-df-container {\n",
       "      display:flex;\n",
       "      flex-wrap:wrap;\n",
       "      gap: 12px;\n",
       "    }\n",
       "\n",
       "    .colab-df-convert {\n",
       "      background-color: #E8F0FE;\n",
       "      border: none;\n",
       "      border-radius: 50%;\n",
       "      cursor: pointer;\n",
       "      display: none;\n",
       "      fill: #1967D2;\n",
       "      height: 32px;\n",
       "      padding: 0 0 0 0;\n",
       "      width: 32px;\n",
       "    }\n",
       "\n",
       "    .colab-df-convert:hover {\n",
       "      background-color: #E2EBFA;\n",
       "      box-shadow: 0px 1px 2px rgba(60, 64, 67, 0.3), 0px 1px 3px 1px rgba(60, 64, 67, 0.15);\n",
       "      fill: #174EA6;\n",
       "    }\n",
       "\n",
       "    [theme=dark] .colab-df-convert {\n",
       "      background-color: #3B4455;\n",
       "      fill: #D2E3FC;\n",
       "    }\n",
       "\n",
       "    [theme=dark] .colab-df-convert:hover {\n",
       "      background-color: #434B5C;\n",
       "      box-shadow: 0px 1px 3px 1px rgba(0, 0, 0, 0.15);\n",
       "      filter: drop-shadow(0px 1px 2px rgba(0, 0, 0, 0.3));\n",
       "      fill: #FFFFFF;\n",
       "    }\n",
       "  </style>\n",
       "\n",
       "      <script>\n",
       "        const buttonEl =\n",
       "          document.querySelector('#df-ea0252b5-9bbb-4f9e-b705-851a640549c2 button.colab-df-convert');\n",
       "        buttonEl.style.display =\n",
       "          google.colab.kernel.accessAllowed ? 'block' : 'none';\n",
       "\n",
       "        async function convertToInteractive(key) {\n",
       "          const element = document.querySelector('#df-ea0252b5-9bbb-4f9e-b705-851a640549c2');\n",
       "          const dataTable =\n",
       "            await google.colab.kernel.invokeFunction('convertToInteractive',\n",
       "                                                     [key], {});\n",
       "          if (!dataTable) return;\n",
       "\n",
       "          const docLinkHtml = 'Like what you see? Visit the ' +\n",
       "            '<a target=\"_blank\" href=https://colab.research.google.com/notebooks/data_table.ipynb>data table notebook</a>'\n",
       "            + ' to learn more about interactive tables.';\n",
       "          element.innerHTML = '';\n",
       "          dataTable['output_type'] = 'display_data';\n",
       "          await google.colab.output.renderOutput(dataTable, element);\n",
       "          const docLink = document.createElement('div');\n",
       "          docLink.innerHTML = docLinkHtml;\n",
       "          element.appendChild(docLink);\n",
       "        }\n",
       "      </script>\n",
       "    </div>\n",
       "  </div>\n",
       "  "
      ],
      "text/plain": [
       "         step      type       amount     nameOrig  oldbalanceOrig  \\\n",
       "2736446   212  TRANSFER   4953893.08   C728984460      4953893.08   \n",
       "3247297   250  TRANSFER   1343002.08  C1100582606      1343002.08   \n",
       "3760288   279  TRANSFER    536624.41  C1035541766       536624.41   \n",
       "5563713   387  TRANSFER   4892193.09   C908544136      4892193.09   \n",
       "5996407   425  TRANSFER  10000000.00   C689608084     19585040.37   \n",
       "\n",
       "         newbalanceOrig     nameDest  oldbalanceDest  newbalanceDest  isFraud  \\\n",
       "2736446      4953893.08   C639921569             0.0             0.0        1   \n",
       "3247297      1343002.08  C1147517658             0.0             0.0        1   \n",
       "3760288       536624.41  C1100697970             0.0             0.0        1   \n",
       "5563713      4892193.09   C891140444             0.0             0.0        1   \n",
       "5996407     19585040.37  C1392803603             0.0             0.0        1   \n",
       "\n",
       "         isFlaggedFraud  amount_deduct_from_Orig  \\\n",
       "2736446               1                      0.0   \n",
       "3247297               1                      0.0   \n",
       "3760288               1                      0.0   \n",
       "5563713               1                      0.0   \n",
       "5996407               1                      0.0   \n",
       "\n",
       "         amount_expect_after_successful_transfer  \n",
       "2736446                               4953893.08  \n",
       "3247297                               1343002.08  \n",
       "3760288                                536624.41  \n",
       "5563713                               4892193.09  \n",
       "5996407                              10000000.00  "
      ]
     },
     "execution_count": 135,
     "metadata": {},
     "output_type": "execute_result"
    }
   ],
   "source": [
    "(featurization_df.loc[(featurization_df['isFraud']==1) & (featurization_df['isFlaggedFraud']==1)]).head()"
   ]
  },
  {
   "cell_type": "code",
   "execution_count": 136,
   "id": "-hdPGpm3vYNM",
   "metadata": {
    "colab": {
     "base_uri": "https://localhost:8080/",
     "height": 615
    },
    "id": "-hdPGpm3vYNM",
    "outputId": "b4503d25-8551-4bd6-a7f5-3caab8d20466"
   },
   "outputs": [
    {
     "data": {
      "text/html": [
       "\n",
       "  <div id=\"df-e00473a9-f7c4-4a0e-92b9-f2c1cdeb10a6\">\n",
       "    <div class=\"colab-df-container\">\n",
       "      <div>\n",
       "<style scoped>\n",
       "    .dataframe tbody tr th:only-of-type {\n",
       "        vertical-align: middle;\n",
       "    }\n",
       "\n",
       "    .dataframe tbody tr th {\n",
       "        vertical-align: top;\n",
       "    }\n",
       "\n",
       "    .dataframe thead th {\n",
       "        text-align: right;\n",
       "    }\n",
       "</style>\n",
       "<table border=\"1\" class=\"dataframe\">\n",
       "  <thead>\n",
       "    <tr style=\"text-align: right;\">\n",
       "      <th></th>\n",
       "      <th>step</th>\n",
       "      <th>type</th>\n",
       "      <th>amount</th>\n",
       "      <th>nameOrig</th>\n",
       "      <th>oldbalanceOrig</th>\n",
       "      <th>newbalanceOrig</th>\n",
       "      <th>nameDest</th>\n",
       "      <th>oldbalanceDest</th>\n",
       "      <th>newbalanceDest</th>\n",
       "      <th>isFraud</th>\n",
       "      <th>isFlaggedFraud</th>\n",
       "      <th>amount_deduct_from_Orig</th>\n",
       "      <th>amount_expect_after_successful_transfer</th>\n",
       "    </tr>\n",
       "  </thead>\n",
       "  <tbody>\n",
       "    <tr>\n",
       "      <th>2736446</th>\n",
       "      <td>212</td>\n",
       "      <td>TRANSFER</td>\n",
       "      <td>4953893.08</td>\n",
       "      <td>C728984460</td>\n",
       "      <td>4953893.08</td>\n",
       "      <td>4953893.08</td>\n",
       "      <td>C639921569</td>\n",
       "      <td>0.0</td>\n",
       "      <td>0.0</td>\n",
       "      <td>1</td>\n",
       "      <td>1</td>\n",
       "      <td>0.0</td>\n",
       "      <td>4953893.08</td>\n",
       "    </tr>\n",
       "    <tr>\n",
       "      <th>3247297</th>\n",
       "      <td>250</td>\n",
       "      <td>TRANSFER</td>\n",
       "      <td>1343002.08</td>\n",
       "      <td>C1100582606</td>\n",
       "      <td>1343002.08</td>\n",
       "      <td>1343002.08</td>\n",
       "      <td>C1147517658</td>\n",
       "      <td>0.0</td>\n",
       "      <td>0.0</td>\n",
       "      <td>1</td>\n",
       "      <td>1</td>\n",
       "      <td>0.0</td>\n",
       "      <td>1343002.08</td>\n",
       "    </tr>\n",
       "    <tr>\n",
       "      <th>3760288</th>\n",
       "      <td>279</td>\n",
       "      <td>TRANSFER</td>\n",
       "      <td>536624.41</td>\n",
       "      <td>C1035541766</td>\n",
       "      <td>536624.41</td>\n",
       "      <td>536624.41</td>\n",
       "      <td>C1100697970</td>\n",
       "      <td>0.0</td>\n",
       "      <td>0.0</td>\n",
       "      <td>1</td>\n",
       "      <td>1</td>\n",
       "      <td>0.0</td>\n",
       "      <td>536624.41</td>\n",
       "    </tr>\n",
       "    <tr>\n",
       "      <th>5563713</th>\n",
       "      <td>387</td>\n",
       "      <td>TRANSFER</td>\n",
       "      <td>4892193.09</td>\n",
       "      <td>C908544136</td>\n",
       "      <td>4892193.09</td>\n",
       "      <td>4892193.09</td>\n",
       "      <td>C891140444</td>\n",
       "      <td>0.0</td>\n",
       "      <td>0.0</td>\n",
       "      <td>1</td>\n",
       "      <td>1</td>\n",
       "      <td>0.0</td>\n",
       "      <td>4892193.09</td>\n",
       "    </tr>\n",
       "    <tr>\n",
       "      <th>5996407</th>\n",
       "      <td>425</td>\n",
       "      <td>TRANSFER</td>\n",
       "      <td>10000000.00</td>\n",
       "      <td>C689608084</td>\n",
       "      <td>19585040.37</td>\n",
       "      <td>19585040.37</td>\n",
       "      <td>C1392803603</td>\n",
       "      <td>0.0</td>\n",
       "      <td>0.0</td>\n",
       "      <td>1</td>\n",
       "      <td>1</td>\n",
       "      <td>0.0</td>\n",
       "      <td>10000000.00</td>\n",
       "    </tr>\n",
       "    <tr>\n",
       "      <th>5996409</th>\n",
       "      <td>425</td>\n",
       "      <td>TRANSFER</td>\n",
       "      <td>9585040.37</td>\n",
       "      <td>C452586515</td>\n",
       "      <td>19585040.37</td>\n",
       "      <td>19585040.37</td>\n",
       "      <td>C1109166882</td>\n",
       "      <td>0.0</td>\n",
       "      <td>0.0</td>\n",
       "      <td>1</td>\n",
       "      <td>1</td>\n",
       "      <td>0.0</td>\n",
       "      <td>9585040.37</td>\n",
       "    </tr>\n",
       "    <tr>\n",
       "      <th>6168499</th>\n",
       "      <td>554</td>\n",
       "      <td>TRANSFER</td>\n",
       "      <td>3576297.10</td>\n",
       "      <td>C193696150</td>\n",
       "      <td>3576297.10</td>\n",
       "      <td>3576297.10</td>\n",
       "      <td>C484597480</td>\n",
       "      <td>0.0</td>\n",
       "      <td>0.0</td>\n",
       "      <td>1</td>\n",
       "      <td>1</td>\n",
       "      <td>0.0</td>\n",
       "      <td>3576297.10</td>\n",
       "    </tr>\n",
       "    <tr>\n",
       "      <th>6205439</th>\n",
       "      <td>586</td>\n",
       "      <td>TRANSFER</td>\n",
       "      <td>353874.22</td>\n",
       "      <td>C1684585475</td>\n",
       "      <td>353874.22</td>\n",
       "      <td>353874.22</td>\n",
       "      <td>C1770418982</td>\n",
       "      <td>0.0</td>\n",
       "      <td>0.0</td>\n",
       "      <td>1</td>\n",
       "      <td>1</td>\n",
       "      <td>0.0</td>\n",
       "      <td>353874.22</td>\n",
       "    </tr>\n",
       "    <tr>\n",
       "      <th>6266413</th>\n",
       "      <td>617</td>\n",
       "      <td>TRANSFER</td>\n",
       "      <td>2542664.27</td>\n",
       "      <td>C786455622</td>\n",
       "      <td>2542664.27</td>\n",
       "      <td>2542664.27</td>\n",
       "      <td>C661958277</td>\n",
       "      <td>0.0</td>\n",
       "      <td>0.0</td>\n",
       "      <td>1</td>\n",
       "      <td>1</td>\n",
       "      <td>0.0</td>\n",
       "      <td>2542664.27</td>\n",
       "    </tr>\n",
       "    <tr>\n",
       "      <th>6281482</th>\n",
       "      <td>646</td>\n",
       "      <td>TRANSFER</td>\n",
       "      <td>10000000.00</td>\n",
       "      <td>C19004745</td>\n",
       "      <td>10399045.08</td>\n",
       "      <td>10399045.08</td>\n",
       "      <td>C1806199534</td>\n",
       "      <td>0.0</td>\n",
       "      <td>0.0</td>\n",
       "      <td>1</td>\n",
       "      <td>1</td>\n",
       "      <td>0.0</td>\n",
       "      <td>10000000.00</td>\n",
       "    </tr>\n",
       "    <tr>\n",
       "      <th>6281484</th>\n",
       "      <td>646</td>\n",
       "      <td>TRANSFER</td>\n",
       "      <td>399045.08</td>\n",
       "      <td>C724693370</td>\n",
       "      <td>10399045.08</td>\n",
       "      <td>10399045.08</td>\n",
       "      <td>C1909486199</td>\n",
       "      <td>0.0</td>\n",
       "      <td>0.0</td>\n",
       "      <td>1</td>\n",
       "      <td>1</td>\n",
       "      <td>0.0</td>\n",
       "      <td>399045.08</td>\n",
       "    </tr>\n",
       "    <tr>\n",
       "      <th>6296014</th>\n",
       "      <td>671</td>\n",
       "      <td>TRANSFER</td>\n",
       "      <td>3441041.46</td>\n",
       "      <td>C917414431</td>\n",
       "      <td>3441041.46</td>\n",
       "      <td>3441041.46</td>\n",
       "      <td>C1082139865</td>\n",
       "      <td>0.0</td>\n",
       "      <td>0.0</td>\n",
       "      <td>1</td>\n",
       "      <td>1</td>\n",
       "      <td>0.0</td>\n",
       "      <td>3441041.46</td>\n",
       "    </tr>\n",
       "    <tr>\n",
       "      <th>6351225</th>\n",
       "      <td>702</td>\n",
       "      <td>TRANSFER</td>\n",
       "      <td>3171085.59</td>\n",
       "      <td>C1892216157</td>\n",
       "      <td>3171085.59</td>\n",
       "      <td>3171085.59</td>\n",
       "      <td>C1308068787</td>\n",
       "      <td>0.0</td>\n",
       "      <td>0.0</td>\n",
       "      <td>1</td>\n",
       "      <td>1</td>\n",
       "      <td>0.0</td>\n",
       "      <td>3171085.59</td>\n",
       "    </tr>\n",
       "    <tr>\n",
       "      <th>6362460</th>\n",
       "      <td>730</td>\n",
       "      <td>TRANSFER</td>\n",
       "      <td>10000000.00</td>\n",
       "      <td>C2140038573</td>\n",
       "      <td>17316255.05</td>\n",
       "      <td>17316255.05</td>\n",
       "      <td>C1395467927</td>\n",
       "      <td>0.0</td>\n",
       "      <td>0.0</td>\n",
       "      <td>1</td>\n",
       "      <td>1</td>\n",
       "      <td>0.0</td>\n",
       "      <td>10000000.00</td>\n",
       "    </tr>\n",
       "    <tr>\n",
       "      <th>6362462</th>\n",
       "      <td>730</td>\n",
       "      <td>TRANSFER</td>\n",
       "      <td>7316255.05</td>\n",
       "      <td>C1869569059</td>\n",
       "      <td>17316255.05</td>\n",
       "      <td>17316255.05</td>\n",
       "      <td>C1861208726</td>\n",
       "      <td>0.0</td>\n",
       "      <td>0.0</td>\n",
       "      <td>1</td>\n",
       "      <td>1</td>\n",
       "      <td>0.0</td>\n",
       "      <td>7316255.05</td>\n",
       "    </tr>\n",
       "    <tr>\n",
       "      <th>6362584</th>\n",
       "      <td>741</td>\n",
       "      <td>TRANSFER</td>\n",
       "      <td>5674547.89</td>\n",
       "      <td>C992223106</td>\n",
       "      <td>5674547.89</td>\n",
       "      <td>5674547.89</td>\n",
       "      <td>C1366804249</td>\n",
       "      <td>0.0</td>\n",
       "      <td>0.0</td>\n",
       "      <td>1</td>\n",
       "      <td>1</td>\n",
       "      <td>0.0</td>\n",
       "      <td>5674547.89</td>\n",
       "    </tr>\n",
       "  </tbody>\n",
       "</table>\n",
       "</div>\n",
       "      <button class=\"colab-df-convert\" onclick=\"convertToInteractive('df-e00473a9-f7c4-4a0e-92b9-f2c1cdeb10a6')\"\n",
       "              title=\"Convert this dataframe to an interactive table.\"\n",
       "              style=\"display:none;\">\n",
       "        \n",
       "  <svg xmlns=\"http://www.w3.org/2000/svg\" height=\"24px\"viewBox=\"0 0 24 24\"\n",
       "       width=\"24px\">\n",
       "    <path d=\"M0 0h24v24H0V0z\" fill=\"none\"/>\n",
       "    <path d=\"M18.56 5.44l.94 2.06.94-2.06 2.06-.94-2.06-.94-.94-2.06-.94 2.06-2.06.94zm-11 1L8.5 8.5l.94-2.06 2.06-.94-2.06-.94L8.5 2.5l-.94 2.06-2.06.94zm10 10l.94 2.06.94-2.06 2.06-.94-2.06-.94-.94-2.06-.94 2.06-2.06.94z\"/><path d=\"M17.41 7.96l-1.37-1.37c-.4-.4-.92-.59-1.43-.59-.52 0-1.04.2-1.43.59L10.3 9.45l-7.72 7.72c-.78.78-.78 2.05 0 2.83L4 21.41c.39.39.9.59 1.41.59.51 0 1.02-.2 1.41-.59l7.78-7.78 2.81-2.81c.8-.78.8-2.07 0-2.86zM5.41 20L4 18.59l7.72-7.72 1.47 1.35L5.41 20z\"/>\n",
       "  </svg>\n",
       "      </button>\n",
       "      \n",
       "  <style>\n",
       "    .colab-df-container {\n",
       "      display:flex;\n",
       "      flex-wrap:wrap;\n",
       "      gap: 12px;\n",
       "    }\n",
       "\n",
       "    .colab-df-convert {\n",
       "      background-color: #E8F0FE;\n",
       "      border: none;\n",
       "      border-radius: 50%;\n",
       "      cursor: pointer;\n",
       "      display: none;\n",
       "      fill: #1967D2;\n",
       "      height: 32px;\n",
       "      padding: 0 0 0 0;\n",
       "      width: 32px;\n",
       "    }\n",
       "\n",
       "    .colab-df-convert:hover {\n",
       "      background-color: #E2EBFA;\n",
       "      box-shadow: 0px 1px 2px rgba(60, 64, 67, 0.3), 0px 1px 3px 1px rgba(60, 64, 67, 0.15);\n",
       "      fill: #174EA6;\n",
       "    }\n",
       "\n",
       "    [theme=dark] .colab-df-convert {\n",
       "      background-color: #3B4455;\n",
       "      fill: #D2E3FC;\n",
       "    }\n",
       "\n",
       "    [theme=dark] .colab-df-convert:hover {\n",
       "      background-color: #434B5C;\n",
       "      box-shadow: 0px 1px 3px 1px rgba(0, 0, 0, 0.15);\n",
       "      filter: drop-shadow(0px 1px 2px rgba(0, 0, 0, 0.3));\n",
       "      fill: #FFFFFF;\n",
       "    }\n",
       "  </style>\n",
       "\n",
       "      <script>\n",
       "        const buttonEl =\n",
       "          document.querySelector('#df-e00473a9-f7c4-4a0e-92b9-f2c1cdeb10a6 button.colab-df-convert');\n",
       "        buttonEl.style.display =\n",
       "          google.colab.kernel.accessAllowed ? 'block' : 'none';\n",
       "\n",
       "        async function convertToInteractive(key) {\n",
       "          const element = document.querySelector('#df-e00473a9-f7c4-4a0e-92b9-f2c1cdeb10a6');\n",
       "          const dataTable =\n",
       "            await google.colab.kernel.invokeFunction('convertToInteractive',\n",
       "                                                     [key], {});\n",
       "          if (!dataTable) return;\n",
       "\n",
       "          const docLinkHtml = 'Like what you see? Visit the ' +\n",
       "            '<a target=\"_blank\" href=https://colab.research.google.com/notebooks/data_table.ipynb>data table notebook</a>'\n",
       "            + ' to learn more about interactive tables.';\n",
       "          element.innerHTML = '';\n",
       "          dataTable['output_type'] = 'display_data';\n",
       "          await google.colab.output.renderOutput(dataTable, element);\n",
       "          const docLink = document.createElement('div');\n",
       "          docLink.innerHTML = docLinkHtml;\n",
       "          element.appendChild(docLink);\n",
       "        }\n",
       "      </script>\n",
       "    </div>\n",
       "  </div>\n",
       "  "
      ],
      "text/plain": [
       "         step      type       amount     nameOrig  oldbalanceOrig  \\\n",
       "2736446   212  TRANSFER   4953893.08   C728984460      4953893.08   \n",
       "3247297   250  TRANSFER   1343002.08  C1100582606      1343002.08   \n",
       "3760288   279  TRANSFER    536624.41  C1035541766       536624.41   \n",
       "5563713   387  TRANSFER   4892193.09   C908544136      4892193.09   \n",
       "5996407   425  TRANSFER  10000000.00   C689608084     19585040.37   \n",
       "5996409   425  TRANSFER   9585040.37   C452586515     19585040.37   \n",
       "6168499   554  TRANSFER   3576297.10   C193696150      3576297.10   \n",
       "6205439   586  TRANSFER    353874.22  C1684585475       353874.22   \n",
       "6266413   617  TRANSFER   2542664.27   C786455622      2542664.27   \n",
       "6281482   646  TRANSFER  10000000.00    C19004745     10399045.08   \n",
       "6281484   646  TRANSFER    399045.08   C724693370     10399045.08   \n",
       "6296014   671  TRANSFER   3441041.46   C917414431      3441041.46   \n",
       "6351225   702  TRANSFER   3171085.59  C1892216157      3171085.59   \n",
       "6362460   730  TRANSFER  10000000.00  C2140038573     17316255.05   \n",
       "6362462   730  TRANSFER   7316255.05  C1869569059     17316255.05   \n",
       "6362584   741  TRANSFER   5674547.89   C992223106      5674547.89   \n",
       "\n",
       "         newbalanceOrig     nameDest  oldbalanceDest  newbalanceDest  isFraud  \\\n",
       "2736446      4953893.08   C639921569             0.0             0.0        1   \n",
       "3247297      1343002.08  C1147517658             0.0             0.0        1   \n",
       "3760288       536624.41  C1100697970             0.0             0.0        1   \n",
       "5563713      4892193.09   C891140444             0.0             0.0        1   \n",
       "5996407     19585040.37  C1392803603             0.0             0.0        1   \n",
       "5996409     19585040.37  C1109166882             0.0             0.0        1   \n",
       "6168499      3576297.10   C484597480             0.0             0.0        1   \n",
       "6205439       353874.22  C1770418982             0.0             0.0        1   \n",
       "6266413      2542664.27   C661958277             0.0             0.0        1   \n",
       "6281482     10399045.08  C1806199534             0.0             0.0        1   \n",
       "6281484     10399045.08  C1909486199             0.0             0.0        1   \n",
       "6296014      3441041.46  C1082139865             0.0             0.0        1   \n",
       "6351225      3171085.59  C1308068787             0.0             0.0        1   \n",
       "6362460     17316255.05  C1395467927             0.0             0.0        1   \n",
       "6362462     17316255.05  C1861208726             0.0             0.0        1   \n",
       "6362584      5674547.89  C1366804249             0.0             0.0        1   \n",
       "\n",
       "         isFlaggedFraud  amount_deduct_from_Orig  \\\n",
       "2736446               1                      0.0   \n",
       "3247297               1                      0.0   \n",
       "3760288               1                      0.0   \n",
       "5563713               1                      0.0   \n",
       "5996407               1                      0.0   \n",
       "5996409               1                      0.0   \n",
       "6168499               1                      0.0   \n",
       "6205439               1                      0.0   \n",
       "6266413               1                      0.0   \n",
       "6281482               1                      0.0   \n",
       "6281484               1                      0.0   \n",
       "6296014               1                      0.0   \n",
       "6351225               1                      0.0   \n",
       "6362460               1                      0.0   \n",
       "6362462               1                      0.0   \n",
       "6362584               1                      0.0   \n",
       "\n",
       "         amount_expect_after_successful_transfer  \n",
       "2736446                               4953893.08  \n",
       "3247297                               1343002.08  \n",
       "3760288                                536624.41  \n",
       "5563713                               4892193.09  \n",
       "5996407                              10000000.00  \n",
       "5996409                               9585040.37  \n",
       "6168499                               3576297.10  \n",
       "6205439                                353874.22  \n",
       "6266413                               2542664.27  \n",
       "6281482                              10000000.00  \n",
       "6281484                                399045.08  \n",
       "6296014                               3441041.46  \n",
       "6351225                               3171085.59  \n",
       "6362460                              10000000.00  \n",
       "6362462                               7316255.05  \n",
       "6362584                               5674547.89  "
      ]
     },
     "execution_count": 136,
     "metadata": {},
     "output_type": "execute_result"
    }
   ],
   "source": [
    "featurization_df[featurization_df['isFlaggedFraud']==1]"
   ]
  },
  {
   "cell_type": "code",
   "execution_count": 137,
   "id": "7-FCtkmxvFdk",
   "metadata": {
    "colab": {
     "base_uri": "https://localhost:8080/"
    },
    "id": "7-FCtkmxvFdk",
    "outputId": "eaf770ce-b239-4044-a696-ea19804d138b"
   },
   "outputs": [
    {
     "data": {
      "text/plain": [
       "16"
      ]
     },
     "execution_count": 137,
     "metadata": {},
     "output_type": "execute_result"
    }
   ],
   "source": [
    "(featurization_df[featurization_df['isFlaggedFraud']==1]).value_counts().sum()"
   ]
  },
  {
   "cell_type": "markdown",
   "id": "fn11oEBitakJ",
   "metadata": {
    "id": "fn11oEBitakJ"
   },
   "source": [
    "## 6. Splitting data into Train and cross validation and test: Stratified Sampling"
   ]
  },
  {
   "cell_type": "code",
   "execution_count": 210,
   "id": "mH1gWt-o6qox",
   "metadata": {
    "id": "mH1gWt-o6qox"
   },
   "outputs": [],
   "source": [
    "# for training and evaluating purpose I am taking 3% from total given data\n",
    "# .sample randomly select a specified fraction of the total number of rows\n",
    "\n",
    "featurization_df_sample = featurization_df.sample(frac= 0.03)"
   ]
  },
  {
   "cell_type": "code",
   "execution_count": 211,
   "id": "qZzMErqn6xP4",
   "metadata": {
    "colab": {
     "base_uri": "https://localhost:8080/"
    },
    "id": "qZzMErqn6xP4",
    "outputId": "33a08805-15b6-4dcd-b4fd-2aa840f3d534"
   },
   "outputs": [
    {
     "data": {
      "text/plain": [
       "(190826, 13)"
      ]
     },
     "execution_count": 211,
     "metadata": {},
     "output_type": "execute_result"
    }
   ],
   "source": [
    "featurization_df_sample.shape"
   ]
  },
  {
   "cell_type": "code",
   "execution_count": 212,
   "id": "b5938204",
   "metadata": {
    "colab": {
     "base_uri": "https://localhost:8080/",
     "height": 176
    },
    "id": "b5938204",
    "outputId": "83ac5194-b263-42aa-be70-053d00d62233"
   },
   "outputs": [
    {
     "data": {
      "text/html": [
       "\n",
       "  <div id=\"df-75e04c95-2049-4a10-a861-035a6f9581b7\">\n",
       "    <div class=\"colab-df-container\">\n",
       "      <div>\n",
       "<style scoped>\n",
       "    .dataframe tbody tr th:only-of-type {\n",
       "        vertical-align: middle;\n",
       "    }\n",
       "\n",
       "    .dataframe tbody tr th {\n",
       "        vertical-align: top;\n",
       "    }\n",
       "\n",
       "    .dataframe thead th {\n",
       "        text-align: right;\n",
       "    }\n",
       "</style>\n",
       "<table border=\"1\" class=\"dataframe\">\n",
       "  <thead>\n",
       "    <tr style=\"text-align: right;\">\n",
       "      <th></th>\n",
       "      <th>step</th>\n",
       "      <th>type</th>\n",
       "      <th>amount</th>\n",
       "      <th>nameOrig</th>\n",
       "      <th>oldbalanceOrig</th>\n",
       "      <th>newbalanceOrig</th>\n",
       "      <th>nameDest</th>\n",
       "      <th>oldbalanceDest</th>\n",
       "      <th>newbalanceDest</th>\n",
       "      <th>isFlaggedFraud</th>\n",
       "      <th>amount_deduct_from_Orig</th>\n",
       "      <th>amount_expect_after_successful_transfer</th>\n",
       "    </tr>\n",
       "  </thead>\n",
       "  <tbody>\n",
       "    <tr>\n",
       "      <th>5186663</th>\n",
       "      <td>361</td>\n",
       "      <td>PAYMENT</td>\n",
       "      <td>7382.65</td>\n",
       "      <td>C1962485247</td>\n",
       "      <td>0.00</td>\n",
       "      <td>0.00</td>\n",
       "      <td>M1153601540</td>\n",
       "      <td>0.0</td>\n",
       "      <td>0.0</td>\n",
       "      <td>0</td>\n",
       "      <td>0.0</td>\n",
       "      <td>7382.65</td>\n",
       "    </tr>\n",
       "    <tr>\n",
       "      <th>2625844</th>\n",
       "      <td>209</td>\n",
       "      <td>PAYMENT</td>\n",
       "      <td>8203.70</td>\n",
       "      <td>C806565516</td>\n",
       "      <td>97568.31</td>\n",
       "      <td>89364.61</td>\n",
       "      <td>M1375953172</td>\n",
       "      <td>0.0</td>\n",
       "      <td>0.0</td>\n",
       "      <td>0</td>\n",
       "      <td>8203.7</td>\n",
       "      <td>8203.70</td>\n",
       "    </tr>\n",
       "  </tbody>\n",
       "</table>\n",
       "</div>\n",
       "      <button class=\"colab-df-convert\" onclick=\"convertToInteractive('df-75e04c95-2049-4a10-a861-035a6f9581b7')\"\n",
       "              title=\"Convert this dataframe to an interactive table.\"\n",
       "              style=\"display:none;\">\n",
       "        \n",
       "  <svg xmlns=\"http://www.w3.org/2000/svg\" height=\"24px\"viewBox=\"0 0 24 24\"\n",
       "       width=\"24px\">\n",
       "    <path d=\"M0 0h24v24H0V0z\" fill=\"none\"/>\n",
       "    <path d=\"M18.56 5.44l.94 2.06.94-2.06 2.06-.94-2.06-.94-.94-2.06-.94 2.06-2.06.94zm-11 1L8.5 8.5l.94-2.06 2.06-.94-2.06-.94L8.5 2.5l-.94 2.06-2.06.94zm10 10l.94 2.06.94-2.06 2.06-.94-2.06-.94-.94-2.06-.94 2.06-2.06.94z\"/><path d=\"M17.41 7.96l-1.37-1.37c-.4-.4-.92-.59-1.43-.59-.52 0-1.04.2-1.43.59L10.3 9.45l-7.72 7.72c-.78.78-.78 2.05 0 2.83L4 21.41c.39.39.9.59 1.41.59.51 0 1.02-.2 1.41-.59l7.78-7.78 2.81-2.81c.8-.78.8-2.07 0-2.86zM5.41 20L4 18.59l7.72-7.72 1.47 1.35L5.41 20z\"/>\n",
       "  </svg>\n",
       "      </button>\n",
       "      \n",
       "  <style>\n",
       "    .colab-df-container {\n",
       "      display:flex;\n",
       "      flex-wrap:wrap;\n",
       "      gap: 12px;\n",
       "    }\n",
       "\n",
       "    .colab-df-convert {\n",
       "      background-color: #E8F0FE;\n",
       "      border: none;\n",
       "      border-radius: 50%;\n",
       "      cursor: pointer;\n",
       "      display: none;\n",
       "      fill: #1967D2;\n",
       "      height: 32px;\n",
       "      padding: 0 0 0 0;\n",
       "      width: 32px;\n",
       "    }\n",
       "\n",
       "    .colab-df-convert:hover {\n",
       "      background-color: #E2EBFA;\n",
       "      box-shadow: 0px 1px 2px rgba(60, 64, 67, 0.3), 0px 1px 3px 1px rgba(60, 64, 67, 0.15);\n",
       "      fill: #174EA6;\n",
       "    }\n",
       "\n",
       "    [theme=dark] .colab-df-convert {\n",
       "      background-color: #3B4455;\n",
       "      fill: #D2E3FC;\n",
       "    }\n",
       "\n",
       "    [theme=dark] .colab-df-convert:hover {\n",
       "      background-color: #434B5C;\n",
       "      box-shadow: 0px 1px 3px 1px rgba(0, 0, 0, 0.15);\n",
       "      filter: drop-shadow(0px 1px 2px rgba(0, 0, 0, 0.3));\n",
       "      fill: #FFFFFF;\n",
       "    }\n",
       "  </style>\n",
       "\n",
       "      <script>\n",
       "        const buttonEl =\n",
       "          document.querySelector('#df-75e04c95-2049-4a10-a861-035a6f9581b7 button.colab-df-convert');\n",
       "        buttonEl.style.display =\n",
       "          google.colab.kernel.accessAllowed ? 'block' : 'none';\n",
       "\n",
       "        async function convertToInteractive(key) {\n",
       "          const element = document.querySelector('#df-75e04c95-2049-4a10-a861-035a6f9581b7');\n",
       "          const dataTable =\n",
       "            await google.colab.kernel.invokeFunction('convertToInteractive',\n",
       "                                                     [key], {});\n",
       "          if (!dataTable) return;\n",
       "\n",
       "          const docLinkHtml = 'Like what you see? Visit the ' +\n",
       "            '<a target=\"_blank\" href=https://colab.research.google.com/notebooks/data_table.ipynb>data table notebook</a>'\n",
       "            + ' to learn more about interactive tables.';\n",
       "          element.innerHTML = '';\n",
       "          dataTable['output_type'] = 'display_data';\n",
       "          await google.colab.output.renderOutput(dataTable, element);\n",
       "          const docLink = document.createElement('div');\n",
       "          docLink.innerHTML = docLinkHtml;\n",
       "          element.appendChild(docLink);\n",
       "        }\n",
       "      </script>\n",
       "    </div>\n",
       "  </div>\n",
       "  "
      ],
      "text/plain": [
       "         step     type   amount     nameOrig  oldbalanceOrig  newbalanceOrig  \\\n",
       "5186663   361  PAYMENT  7382.65  C1962485247            0.00            0.00   \n",
       "2625844   209  PAYMENT  8203.70   C806565516        97568.31        89364.61   \n",
       "\n",
       "            nameDest  oldbalanceDest  newbalanceDest  isFlaggedFraud  \\\n",
       "5186663  M1153601540             0.0             0.0               0   \n",
       "2625844  M1375953172             0.0             0.0               0   \n",
       "\n",
       "         amount_deduct_from_Orig  amount_expect_after_successful_transfer  \n",
       "5186663                      0.0                                  7382.65  \n",
       "2625844                   8203.7                                  8203.70  "
      ]
     },
     "execution_count": 212,
     "metadata": {},
     "output_type": "execute_result"
    }
   ],
   "source": [
    "y = featurization_df_sample['isFraud'].values\n",
    "X = featurization_df_sample.drop(['isFraud'], axis=1)\n",
    "X.head(2)"
   ]
  },
  {
   "cell_type": "code",
   "execution_count": 213,
   "id": "wxDUaK29wsIV",
   "metadata": {
    "id": "wxDUaK29wsIV"
   },
   "outputs": [],
   "source": [
    "# train test split\n",
    "from sklearn.model_selection import train_test_split\n",
    "X_train, X_test, y_train, y_test = train_test_split(X, y, test_size=0.33, stratify=y)\n",
    "X_train, X_cv, y_train, y_cv = train_test_split(X_train, y_train, test_size=0.33, stratify=y_train)"
   ]
  },
  {
   "cell_type": "code",
   "execution_count": 214,
   "id": "fjhDwWIhwsL5",
   "metadata": {
    "colab": {
     "base_uri": "https://localhost:8080/"
    },
    "id": "fjhDwWIhwsL5",
    "outputId": "1aa3c252-ac51-4852-df8b-a1ff8f229150"
   },
   "outputs": [
    {
     "name": "stdout",
     "output_type": "stream",
     "text": [
      "Train data  (85661, 12) (85661,)\n",
      "CV data     (42192, 12) (42192,)\n",
      "Test data   (62973, 12) (62973,)\n"
     ]
    }
   ],
   "source": [
    "print(\"Train data \",X_train.shape, y_train.shape)\n",
    "print(\"CV data    \",X_cv.shape, y_cv.shape)\n",
    "print(\"Test data  \",X_test.shape, y_test.shape)"
   ]
  },
  {
   "cell_type": "markdown",
   "id": "u-PzFCONw9pk",
   "metadata": {
    "id": "u-PzFCONw9pk"
   },
   "source": [
    "## 7. Make Data Model Ready: encoding numerical, categorical features"
   ]
  },
  {
   "cell_type": "code",
   "execution_count": 215,
   "id": "Jhry7CAUxG8k",
   "metadata": {
    "colab": {
     "base_uri": "https://localhost:8080/"
    },
    "id": "Jhry7CAUxG8k",
    "outputId": "b6bd64f2-66ce-4173-f063-d04eca8b2080"
   },
   "outputs": [
    {
     "data": {
      "text/plain": [
       "step                                         int64\n",
       "type                                        object\n",
       "amount                                     float64\n",
       "nameOrig                                    object\n",
       "oldbalanceOrig                             float64\n",
       "newbalanceOrig                             float64\n",
       "nameDest                                    object\n",
       "oldbalanceDest                             float64\n",
       "newbalanceDest                             float64\n",
       "isFlaggedFraud                               int64\n",
       "amount_deduct_from_Orig                    float64\n",
       "amount_expect_after_successful_transfer    float64\n",
       "dtype: object"
      ]
     },
     "execution_count": 215,
     "metadata": {},
     "output_type": "execute_result"
    }
   ],
   "source": [
    "X_train.dtypes"
   ]
  },
  {
   "cell_type": "markdown",
   "id": "xBRLME61xELD",
   "metadata": {
    "id": "xBRLME61xELD"
   },
   "source": [
    "### 7.1 encoding categorical features: type"
   ]
  },
  {
   "cell_type": "code",
   "execution_count": 216,
   "id": "hqig5tnjwsQC",
   "metadata": {
    "id": "hqig5tnjwsQC"
   },
   "outputs": [],
   "source": [
    "from sklearn.feature_extraction.text import CountVectorizer"
   ]
  },
  {
   "cell_type": "code",
   "execution_count": 217,
   "id": "DpIEKpUmw8mg",
   "metadata": {
    "colab": {
     "base_uri": "https://localhost:8080/"
    },
    "id": "DpIEKpUmw8mg",
    "outputId": "172bbabe-a725-42b9-980d-44756af6883f"
   },
   "outputs": [
    {
     "data": {
      "text/plain": [
       "CASH_OUT    30237\n",
       "PAYMENT     28993\n",
       "CASH_IN     18727\n",
       "TRANSFER     7101\n",
       "DEBIT         603\n",
       "Name: type, dtype: int64"
      ]
     },
     "execution_count": 217,
     "metadata": {},
     "output_type": "execute_result"
    }
   ],
   "source": [
    "X_train['type'].value_counts()"
   ]
  },
  {
   "cell_type": "code",
   "execution_count": 218,
   "id": "THXCMLhsw8pd",
   "metadata": {
    "colab": {
     "base_uri": "https://localhost:8080/"
    },
    "id": "THXCMLhsw8pd",
    "outputId": "f5e82cd3-e117-45e9-c089-f2cb7993fd49"
   },
   "outputs": [
    {
     "name": "stdout",
     "output_type": "stream",
     "text": [
      "After vectorizations\n",
      "(85661, 5) (85661,)\n",
      "(42192, 5) (42192,)\n",
      "(62973, 5) (62973,)\n",
      "['cash_in', 'cash_out', 'debit', 'payment', 'transfer']\n",
      "====================================================================================================\n"
     ]
    }
   ],
   "source": [
    "vectorizer = CountVectorizer()\n",
    "v = vectorizer.fit(X_train['type'].values) # fit has to happen only on train data\n",
    "#print(type(v))\n",
    "\n",
    "\n",
    "# we use the fitted CountVectorizer to convert the text to vector\n",
    "X_train_type_ohe = vectorizer.transform(X_train['type'].values)\n",
    "X_cv_type_ohe = vectorizer.transform(X_cv['type'].values)\n",
    "X_test_type_ohe = vectorizer.transform(X_test['type'].values)\n",
    "\n",
    "print(\"After vectorizations\")\n",
    "print(X_train_type_ohe.shape, y_train.shape)\n",
    "print(X_cv_type_ohe.shape, y_cv.shape)\n",
    "print(X_test_type_ohe.shape, y_test.shape)\n",
    "print(vectorizer.get_feature_names())\n",
    "print(\"=\"*100)\n"
   ]
  },
  {
   "cell_type": "markdown",
   "id": "0o8mUvsIx_6L",
   "metadata": {
    "id": "0o8mUvsIx_6L"
   },
   "source": [
    "### 7.2 encoding categorical features: nameOrig"
   ]
  },
  {
   "cell_type": "markdown",
   "id": "E-_V-3GXy-Po",
   "metadata": {
    "id": "E-_V-3GXy-Po"
   },
   "source": [
    "#### Response Coding: Example"
   ]
  },
  {
   "cell_type": "markdown",
   "id": "yA7QMONBzC8b",
   "metadata": {
    "id": "yA7QMONBzC8b"
   },
   "source": [
    "<img src='http://i.imgur.com/TufZptV.jpg' width=700px>\n",
    "\n",
    "> The response tabel is built only on train dataset.\n",
    "> For a category which is not there in train data and present in test data, we will encode them with default values\n",
    "Ex: in our test data if have State: D then we encode it as [0.5, 0.05]"
   ]
  },
  {
   "cell_type": "code",
   "execution_count": 220,
   "id": "ow7Nj0CbxlP-",
   "metadata": {
    "id": "ow7Nj0CbxlP-"
   },
   "outputs": [],
   "source": [
    "# https://stackoverflow.com/questions/66122577/response-coding-for-categorical-data\n",
    "from prettytable import PrettyTable\n",
    "from tqdm import tqdm\n",
    "\n",
    "def response_coding(xtrain, ytrain, feature):\n",
    "    \n",
    "    dictionary = dict()\n",
    "    x = PrettyTable()\n",
    "    x = PrettyTable([feature, 'class 1', 'class 0'])\n",
    "\n",
    "    unique_cat_labels = np.unique(xtrain[feature])\n",
    "\n",
    "    for i in tqdm(range(len(unique_cat_labels))):\n",
    "        total_count = xtrain.loc[:,feature][(xtrain[feature] == unique_cat_labels[i])].count()\n",
    "        p_0 = xtrain.loc[:, feature][((xtrain[feature] == unique_cat_labels[i]) & (ytrain==0))].count()\n",
    "        p_1 = xtrain.loc[:, feature][((xtrain[feature] == unique_cat_labels[i]) & (ytrain==1))].count()\n",
    "\n",
    "        dictionary[unique_cat_labels[i]] = [p_1/total_count, p_0/total_count]\n",
    "\n",
    "        row = []\n",
    "        row.append(unique_cat_labels[i])\n",
    "        row.append(p_1/total_count)\n",
    "        row.append(p_0/total_count)\n",
    "        x.add_row(row)\n",
    "    #print(x)\n",
    "    #print(x)[![enter image description here][1]][1]\n",
    "    return dictionary"
   ]
  },
  {
   "cell_type": "code",
   "execution_count": 156,
   "id": "1tnsgzpi2lHT",
   "metadata": {
    "id": "1tnsgzpi2lHT"
   },
   "outputs": [],
   "source": [
    "import os\n",
    "import pickle"
   ]
  },
  {
   "cell_type": "code",
   "execution_count": 194,
   "id": "CFixzm9VkeQl",
   "metadata": {
    "id": "CFixzm9VkeQl"
   },
   "outputs": [],
   "source": [
    "# creating sample data for response coding, othrewose to train with arount 28Million datapoint it will take too longer time\n",
    "\n",
    "#featurization_df_sample = featurization_df.sample(n=10000, replace=False)\n",
    "#sample_X = featurization_df_sample.drop(['isFraud'], axis=1)\n",
    "#sample_y = featurization_df_sample['isFraud'].values"
   ]
  },
  {
   "cell_type": "code",
   "execution_count": 221,
   "id": "la_2ckQVzjhE",
   "metadata": {
    "colab": {
     "base_uri": "https://localhost:8080/"
    },
    "id": "la_2ckQVzjhE",
    "outputId": "31e45d70-1fe8-4930-ee70-4d7dca893808"
   },
   "outputs": [
    {
     "name": "stderr",
     "output_type": "stream",
     "text": [
      "100%|██████████| 85657/85657 [1:40:04<00:00, 14.26it/s]\n"
     ]
    }
   ],
   "source": [
    "if not os.path.isfile('/content/drive/MyDrive/Internship Task/nameOrig.pickle'):\n",
    "    nameOrig_response=response_coding(X_train, y_train, 'nameOrig')\n",
    "\n",
    "    # Store data\n",
    "    with open('/content/drive/MyDrive/Internship Task/nameOrig.pickle', 'wb') as handle:\n",
    "        pickle.dump(nameOrig_response, handle, protocol=pickle.HIGHEST_PROTOCOL)\n",
    "\n",
    "\n",
    "else:\n",
    "    \n",
    "    with open('/content/drive/MyDrive/Internship Task/nameOrig.pickle', 'rb') as handle:\n",
    "        nameOrig_response = pickle.load(handle)\n"
   ]
  },
  {
   "cell_type": "code",
   "execution_count": 222,
   "id": "iNN7m_JZ2DLS",
   "metadata": {
    "colab": {
     "base_uri": "https://localhost:8080/"
    },
    "id": "iNN7m_JZ2DLS",
    "outputId": "7bca0389-163c-4b99-855e-06039aae0b24"
   },
   "outputs": [
    {
     "name": "stderr",
     "output_type": "stream",
     "text": [
      "100%|██████████| 85661/85661 [35:56<00:00, 39.72it/s]\n",
      "100%|██████████| 42192/42192 [18:50<00:00, 37.34it/s]\n",
      "100%|██████████| 62973/62973 [26:54<00:00, 39.00it/s]\n"
     ]
    }
   ],
   "source": [
    "# response coding on X_train\n",
    "\n",
    "nameOrig_tr_class1 = []\n",
    "nameOrig_tr_class0 = []\n",
    "for row_X_train in tqdm(X_train['nameOrig']):\n",
    "    for row_dict in nameOrig_response:\n",
    "        if row_X_train == row_dict:\n",
    "            nameOrig_tr_class1.append(nameOrig_response[row_dict][0])\n",
    "            nameOrig_tr_class0.append(nameOrig_response[row_dict][1])\n",
    "                \n",
    "#print(len(nameOrig_tr_class1))\n",
    "#print(len(nameOrig_tr_class0))\n",
    "#print(len(X_train))\n",
    "\n",
    "\n",
    "# response coding on X_cv\n",
    "\n",
    "nameOrig_cv_class1 = []\n",
    "nameOrig_cv_class0 = []\n",
    "for row_X_cv in tqdm(X_cv['nameOrig']):\n",
    "    s=0\n",
    "    for row_dict in nameOrig_response:\n",
    "        if row_X_cv == row_dict:\n",
    "            nameOrig_cv_class1.append(nameOrig_response[row_dict][0])\n",
    "            nameOrig_cv_class0.append(nameOrig_response[row_dict][1])\n",
    "            s=1\n",
    "                \n",
    "    if s!=1:\n",
    "        nameOrig_cv_class1.append(0.5)\n",
    "        nameOrig_cv_class0.append(0.5)\n",
    "                \n",
    "#print(len(nameOrig_cv_class1))\n",
    "#print(len(nameOrig_cv_class0))\n",
    "#print(len(X_cv))\n",
    "\n",
    "\n",
    "\n",
    "# response coding on X_test\n",
    "\n",
    "nameOrig_te_class1 = []\n",
    "nameOrig_te_class0 = []\n",
    "for row_X_test in tqdm(X_test['nameOrig']):\n",
    "    s=0\n",
    "    for row_dict in nameOrig_response:\n",
    "        if row_X_test == row_dict:\n",
    "            nameOrig_te_class1.append(nameOrig_response[row_dict][0])\n",
    "            nameOrig_te_class0.append(nameOrig_response[row_dict][1])\n",
    "            s=1\n",
    "                \n",
    "    if s!=1:\n",
    "        nameOrig_te_class1.append(0.5)\n",
    "        nameOrig_te_class0.append(0.5)\n",
    "                \n",
    "#print(len(nameOrig_te_class1))\n",
    "#print(len(nameOrig_te_class0))\n",
    "#print(len(X_test))\n",
    "\n",
    "\n"
   ]
  },
  {
   "cell_type": "code",
   "execution_count": 226,
   "id": "YS5yBJG9F7U-",
   "metadata": {
    "colab": {
     "base_uri": "https://localhost:8080/"
    },
    "id": "YS5yBJG9F7U-",
    "outputId": "e06962fa-dbb8-4cb0-87ee-81b415e56f4a"
   },
   "outputs": [
    {
     "data": {
      "text/plain": [
       "42192"
      ]
     },
     "execution_count": 226,
     "metadata": {},
     "output_type": "execute_result"
    }
   ],
   "source": [
    "len(nameOrig_cv_class0)"
   ]
  },
  {
   "cell_type": "markdown",
   "id": "SmHFSAWOH5MW",
   "metadata": {
    "id": "SmHFSAWOH5MW"
   },
   "source": [
    "### 7.3 encoding categorical features: nameDest"
   ]
  },
  {
   "cell_type": "code",
   "execution_count": 232,
   "id": "bc1d4356",
   "metadata": {
    "colab": {
     "base_uri": "https://localhost:8080/"
    },
    "id": "bc1d4356",
    "outputId": "2869ed70-f985-4c36-9c21-2af10dae7b3f"
   },
   "outputs": [
    {
     "name": "stderr",
     "output_type": "stream",
     "text": [
      "100%|██████████| 80238/80238 [1:29:38<00:00, 14.92it/s]\n"
     ]
    }
   ],
   "source": [
    "if not os.path.isfile('/content/drive/MyDrive/Internship Task/nameDest.pickle'):\n",
    "    nameDest_response=response_coding(X_train, y_train, 'nameDest')\n",
    "\n",
    "    # Store data\n",
    "    with open('/content/drive/MyDrive/Internship Task/nameDest.pickle', 'wb') as handle:\n",
    "        pickle.dump(nameDest_response, handle, protocol=pickle.HIGHEST_PROTOCOL)\n",
    "\n",
    "\n",
    "else:\n",
    "    \n",
    "    with open('/content/drive/MyDrive/Internship Task/nameDest.pickle', 'rb') as handle:\n",
    "        nameDest_response = pickle.load(handle)\n"
   ]
  },
  {
   "cell_type": "code",
   "execution_count": 234,
   "id": "965e7232",
   "metadata": {
    "colab": {
     "base_uri": "https://localhost:8080/"
    },
    "id": "965e7232",
    "outputId": "f3eb7bd2-45e8-464b-fd7f-9134a58048cb"
   },
   "outputs": [
    {
     "name": "stderr",
     "output_type": "stream",
     "text": [
      "100%|██████████| 85661/85661 [32:40<00:00, 43.68it/s]\n",
      "100%|██████████| 42192/42192 [15:58<00:00, 44.01it/s]\n",
      "100%|██████████| 62973/62973 [24:19<00:00, 43.16it/s]\n"
     ]
    }
   ],
   "source": [
    "# response coding on X_train\n",
    "\n",
    "nameDest_tr_class1 = []\n",
    "nameDest_tr_class0 = []\n",
    "for row_X_train in tqdm(X_train['nameDest']):\n",
    "    for row_dict in nameDest_response:\n",
    "        if row_X_train == row_dict:\n",
    "            nameDest_tr_class1.append(nameDest_response[row_dict][0])\n",
    "            nameDest_tr_class0.append(nameDest_response[row_dict][1])\n",
    "            \n",
    "#print(len(nameDest_tr_class1))\n",
    "#print(len(nameDest_tr_class0))\n",
    "#print(len(X_train))\n",
    "\n",
    "\n",
    "# response coding on X_cv\n",
    "\n",
    "nameDest_cv_class1 = []\n",
    "nameDest_cv_class0 = []\n",
    "for row_X_cv in tqdm(X_cv['nameDest']):\n",
    "    s=0\n",
    "    for row_dict in nameDest_response:\n",
    "        if row_X_cv == row_dict:\n",
    "            nameDest_cv_class1.append(nameDest_response[row_dict][0])\n",
    "            nameDest_cv_class0.append(nameDest_response[row_dict][1])\n",
    "            s=1\n",
    "            \n",
    "    if s!=1:\n",
    "        nameDest_cv_class1.append(0.5)\n",
    "        nameDest_cv_class0.append(0.5)\n",
    "            \n",
    "#print(len(nameDest_cv_class1))\n",
    "#print(len(nameDest_cv_class0))\n",
    "#print(len(X_cv))\n",
    "\n",
    "\n",
    "\n",
    "# response coding on X_test\n",
    "\n",
    "nameDest_te_class1 = []\n",
    "nameDest_te_class0 = []\n",
    "for row_X_test in tqdm(X_test['nameDest']):\n",
    "    s=0\n",
    "    for row_dict in nameDest_response:\n",
    "        if row_X_test == row_dict:\n",
    "            nameDest_te_class1.append(nameDest_response[row_dict][0])\n",
    "            nameDest_te_class0.append(nameDest_response[row_dict][1])\n",
    "            s=1\n",
    "            \n",
    "    if s!=1:\n",
    "        nameDest_te_class1.append(0.5)\n",
    "        nameDest_te_class0.append(0.5)\n",
    "            \n",
    "#print(len(nameDest_te_class1))\n",
    "#print(len(nameDest_te_class0))\n",
    "#print(len(X_test))"
   ]
  },
  {
   "cell_type": "code",
   "execution_count": 235,
   "id": "kgKj7JrBJ3c-",
   "metadata": {
    "colab": {
     "base_uri": "https://localhost:8080/"
    },
    "id": "kgKj7JrBJ3c-",
    "outputId": "5eee4a55-3358-4a7e-ccea-bc720c9c2fbf"
   },
   "outputs": [
    {
     "data": {
      "text/plain": [
       "42192"
      ]
     },
     "execution_count": 235,
     "metadata": {},
     "output_type": "execute_result"
    }
   ],
   "source": [
    "len(nameDest_cv_class0)"
   ]
  },
  {
   "cell_type": "markdown",
   "id": "8Yh9JyG0Ki4C",
   "metadata": {
    "id": "8Yh9JyG0Ki4C"
   },
   "source": [
    "### 7.4 encoding numerical features: amount"
   ]
  },
  {
   "cell_type": "code",
   "execution_count": 236,
   "id": "_8ZthzGWJ3fb",
   "metadata": {
    "colab": {
     "base_uri": "https://localhost:8080/"
    },
    "id": "_8ZthzGWJ3fb",
    "outputId": "fd123776-884e-4257-84e4-b18665fe219c"
   },
   "outputs": [
    {
     "name": "stdout",
     "output_type": "stream",
     "text": [
      "After vectorizations\n",
      "(85661, 1) (85661,)\n",
      "(42192, 1) (42192,)\n",
      "(62973, 1) (62973,)\n",
      "====================================================================================================\n"
     ]
    }
   ],
   "source": [
    "from sklearn.preprocessing import Normalizer\n",
    "norm = Normalizer()\n",
    "\n",
    "norm.fit(X_train['amount'].values.reshape(-1,1))\n",
    "\n",
    "X_train_amount_norm = norm.transform(X_train['amount'].values.reshape(-1,1))\n",
    "X_cv_amount_norm = norm.transform(X_cv['amount'].values.reshape(-1,1))\n",
    "X_test_amount_norm = norm.transform(X_test['amount'].values.reshape(-1,1))\n",
    "\n",
    "print(\"After vectorizations\")\n",
    "print(X_train_amount_norm.shape, y_train.shape)\n",
    "print(X_cv_amount_norm.shape, y_cv.shape)\n",
    "print(X_test_amount_norm.shape, y_test.shape)\n",
    "print(\"=\"*100)"
   ]
  },
  {
   "cell_type": "markdown",
   "id": "o_taKyQYLIiN",
   "metadata": {
    "id": "o_taKyQYLIiN"
   },
   "source": [
    "### 7.5 encoding numerical features: oldbalanceOrig"
   ]
  },
  {
   "cell_type": "code",
   "execution_count": 237,
   "id": "uKQInp8nJ3iH",
   "metadata": {
    "colab": {
     "base_uri": "https://localhost:8080/"
    },
    "id": "uKQInp8nJ3iH",
    "outputId": "8e6de0b3-341f-4bc6-c5a3-32b2b3120ab8"
   },
   "outputs": [
    {
     "name": "stdout",
     "output_type": "stream",
     "text": [
      "After vectorizations\n",
      "(85661, 1) (85661,)\n",
      "(42192, 1) (42192,)\n",
      "(62973, 1) (62973,)\n",
      "====================================================================================================\n"
     ]
    }
   ],
   "source": [
    "norm = Normalizer()\n",
    "\n",
    "norm.fit(X_train['oldbalanceOrig'].values.reshape(-1,1))\n",
    "\n",
    "X_train_oldbalanceOrig_norm = norm.transform(X_train['oldbalanceOrig'].values.reshape(-1,1))\n",
    "X_cv_oldbalanceOrig_norm = norm.transform(X_cv['oldbalanceOrig'].values.reshape(-1,1))\n",
    "X_test_oldbalanceOrig_norm = norm.transform(X_test['oldbalanceOrig'].values.reshape(-1,1))\n",
    "\n",
    "print(\"After vectorizations\")\n",
    "print(X_train_oldbalanceOrig_norm.shape, y_train.shape)\n",
    "print(X_cv_oldbalanceOrig_norm.shape, y_cv.shape)\n",
    "print(X_test_oldbalanceOrig_norm.shape, y_test.shape)\n",
    "print(\"=\"*100)"
   ]
  },
  {
   "cell_type": "markdown",
   "id": "c5_koIxGLrc_",
   "metadata": {
    "id": "c5_koIxGLrc_"
   },
   "source": [
    "### 7.6 encoding numerical features: newbalanceOrig"
   ]
  },
  {
   "cell_type": "code",
   "execution_count": 238,
   "id": "Huf65584LHXq",
   "metadata": {
    "colab": {
     "base_uri": "https://localhost:8080/"
    },
    "id": "Huf65584LHXq",
    "outputId": "64933ef9-dd76-4a29-d5c1-09b08b5d2280"
   },
   "outputs": [
    {
     "name": "stdout",
     "output_type": "stream",
     "text": [
      "After vectorizations\n",
      "(85661, 1) (85661,)\n",
      "(42192, 1) (42192,)\n",
      "(62973, 1) (62973,)\n",
      "====================================================================================================\n"
     ]
    }
   ],
   "source": [
    "norm = Normalizer()\n",
    "\n",
    "norm.fit(X_train['newbalanceOrig'].values.reshape(-1,1))\n",
    "\n",
    "X_train_newbalanceOrig_norm = norm.transform(X_train['newbalanceOrig'].values.reshape(-1,1))\n",
    "X_cv_newbalanceOrig_norm = norm.transform(X_cv['newbalanceOrig'].values.reshape(-1,1))\n",
    "X_test_newbalanceOrig_norm = norm.transform(X_test['newbalanceOrig'].values.reshape(-1,1))\n",
    "\n",
    "print(\"After vectorizations\")\n",
    "print(X_train_newbalanceOrig_norm.shape, y_train.shape)\n",
    "print(X_cv_newbalanceOrig_norm.shape, y_cv.shape)\n",
    "print(X_test_newbalanceOrig_norm.shape, y_test.shape)\n",
    "print(\"=\"*100)"
   ]
  },
  {
   "cell_type": "markdown",
   "id": "oLQ6vlXoMSjc",
   "metadata": {
    "id": "oLQ6vlXoMSjc"
   },
   "source": [
    "### 7.7 encoding numerical features: oldbalanceDest"
   ]
  },
  {
   "cell_type": "code",
   "execution_count": 239,
   "id": "syusZcrDLHac",
   "metadata": {
    "colab": {
     "base_uri": "https://localhost:8080/"
    },
    "id": "syusZcrDLHac",
    "outputId": "15639b27-6e36-48b6-bbe1-f694e25d5814"
   },
   "outputs": [
    {
     "name": "stdout",
     "output_type": "stream",
     "text": [
      "After vectorizations\n",
      "(85661, 1) (85661,)\n",
      "(42192, 1) (42192,)\n",
      "(62973, 1) (62973,)\n",
      "====================================================================================================\n"
     ]
    }
   ],
   "source": [
    "norm = Normalizer()\n",
    "\n",
    "norm.fit(X_train['oldbalanceDest'].values.reshape(-1,1))\n",
    "\n",
    "X_train_oldbalanceDest_norm = norm.transform(X_train['oldbalanceDest'].values.reshape(-1,1))\n",
    "X_cv_oldbalanceDest_norm = norm.transform(X_cv['oldbalanceDest'].values.reshape(-1,1))\n",
    "X_test_oldbalanceDest_norm = norm.transform(X_test['oldbalanceDest'].values.reshape(-1,1))\n",
    "\n",
    "print(\"After vectorizations\")\n",
    "print(X_train_oldbalanceDest_norm.shape, y_train.shape)\n",
    "print(X_cv_oldbalanceDest_norm.shape, y_cv.shape)\n",
    "print(X_test_oldbalanceDest_norm.shape, y_test.shape)\n",
    "print(\"=\"*100)"
   ]
  },
  {
   "cell_type": "markdown",
   "id": "5DjC-xqhMzCd",
   "metadata": {
    "id": "5DjC-xqhMzCd"
   },
   "source": [
    "### 7.8 encoding numerical features: newbalanceDest "
   ]
  },
  {
   "cell_type": "code",
   "execution_count": 240,
   "id": "lcNRr21QLHdm",
   "metadata": {
    "colab": {
     "base_uri": "https://localhost:8080/"
    },
    "id": "lcNRr21QLHdm",
    "outputId": "38fc79ca-9001-43f6-e8fd-0b58c99ba25b"
   },
   "outputs": [
    {
     "name": "stdout",
     "output_type": "stream",
     "text": [
      "After vectorizations\n",
      "(85661, 1) (85661,)\n",
      "(42192, 1) (42192,)\n",
      "(62973, 1) (62973,)\n",
      "====================================================================================================\n"
     ]
    }
   ],
   "source": [
    "norm = Normalizer()\n",
    "\n",
    "norm.fit(X_train['newbalanceDest'].values.reshape(-1,1))\n",
    "\n",
    "X_train_newbalanceDest_norm = norm.transform(X_train['newbalanceDest'].values.reshape(-1,1))\n",
    "X_cv_newbalanceDest_norm = norm.transform(X_cv['newbalanceDest'].values.reshape(-1,1))\n",
    "X_test_newbalanceDest_norm = norm.transform(X_test['newbalanceDest'].values.reshape(-1,1))\n",
    "\n",
    "print(\"After vectorizations\")\n",
    "print(X_train_newbalanceDest_norm.shape, y_train.shape)\n",
    "print(X_cv_newbalanceDest_norm.shape, y_cv.shape)\n",
    "print(X_test_newbalanceDest_norm.shape, y_test.shape)\n",
    "print(\"=\"*100)"
   ]
  },
  {
   "cell_type": "markdown",
   "id": "znHaYnayNVmI",
   "metadata": {
    "id": "znHaYnayNVmI"
   },
   "source": [
    "### 7.9 encoding numerical features: amount_deduct_from_Orig\n",
    "\n",
    "\n"
   ]
  },
  {
   "cell_type": "code",
   "execution_count": 241,
   "id": "yee34V6TNN6s",
   "metadata": {
    "colab": {
     "base_uri": "https://localhost:8080/"
    },
    "id": "yee34V6TNN6s",
    "outputId": "5c12b6aa-9a3e-4aa3-f5cf-bd6e4ce9f814"
   },
   "outputs": [
    {
     "name": "stdout",
     "output_type": "stream",
     "text": [
      "After vectorizations\n",
      "(85661, 1) (85661,)\n",
      "(42192, 1) (42192,)\n",
      "(62973, 1) (62973,)\n",
      "====================================================================================================\n"
     ]
    }
   ],
   "source": [
    "norm = Normalizer()\n",
    "\n",
    "norm.fit(X_train['amount_deduct_from_Orig'].values.reshape(-1,1))\n",
    "\n",
    "X_train_amount_deduct_from_Orig_norm = norm.transform(X_train['amount_deduct_from_Orig'].values.reshape(-1,1))\n",
    "X_cv_amount_deduct_from_Orig_norm = norm.transform(X_cv['amount_deduct_from_Orig'].values.reshape(-1,1))\n",
    "X_test_amount_deduct_from_Orig_norm = norm.transform(X_test['amount_deduct_from_Orig'].values.reshape(-1,1))\n",
    "\n",
    "print(\"After vectorizations\")\n",
    "print(X_train_amount_deduct_from_Orig_norm.shape, y_train.shape)\n",
    "print(X_cv_amount_deduct_from_Orig_norm.shape, y_cv.shape)\n",
    "print(X_test_amount_deduct_from_Orig_norm.shape, y_test.shape)\n",
    "print(\"=\"*100)"
   ]
  },
  {
   "cell_type": "markdown",
   "id": "sSYkqxezORxz",
   "metadata": {
    "id": "sSYkqxezORxz"
   },
   "source": [
    "### 7.10 encoding numerical features: amount_expect_after_successful_transfer\n",
    "\n",
    "\n"
   ]
  },
  {
   "cell_type": "code",
   "execution_count": 242,
   "id": "JjWgIE6aNODt",
   "metadata": {
    "colab": {
     "base_uri": "https://localhost:8080/"
    },
    "id": "JjWgIE6aNODt",
    "outputId": "870c5f59-95c1-4af3-ad92-8cfd38a48cbb"
   },
   "outputs": [
    {
     "name": "stdout",
     "output_type": "stream",
     "text": [
      "After vectorizations\n",
      "(85661, 1) (85661,)\n",
      "(42192, 1) (42192,)\n",
      "(62973, 1) (62973,)\n",
      "====================================================================================================\n"
     ]
    }
   ],
   "source": [
    "norm = Normalizer()\n",
    "\n",
    "norm.fit(X_train['amount_expect_after_successful_transfer'].values.reshape(-1,1))\n",
    "\n",
    "X_train_amount_expect_after_successful_transfer_norm = norm.transform(X_train['amount_expect_after_successful_transfer'].values.reshape(-1,1))\n",
    "X_cv_amount_expect_after_successful_transfer_norm = norm.transform(X_cv['amount_expect_after_successful_transfer'].values.reshape(-1,1))\n",
    "X_test_amount_expect_after_successful_transfer_norm = norm.transform(X_test['amount_expect_after_successful_transfer'].values.reshape(-1,1))\n",
    "\n",
    "print(\"After vectorizations\")\n",
    "print(X_train_amount_expect_after_successful_transfer_norm.shape, y_train.shape)\n",
    "print(X_cv_amount_expect_after_successful_transfer_norm.shape, y_cv.shape)\n",
    "print(X_test_amount_expect_after_successful_transfer_norm.shape, y_test.shape)\n",
    "print(\"=\"*100)"
   ]
  },
  {
   "cell_type": "markdown",
   "id": "d0tYxaRSO7uE",
   "metadata": {
    "id": "d0tYxaRSO7uE"
   },
   "source": [
    "## 8. Concatinating all the features(categorical, numerical features)"
   ]
  },
  {
   "cell_type": "code",
   "execution_count": 243,
   "id": "WKCsRLsENOH3",
   "metadata": {
    "colab": {
     "base_uri": "https://localhost:8080/"
    },
    "id": "WKCsRLsENOH3",
    "outputId": "91a21ace-8726-4ffe-aa7d-8a54b98e1cf1"
   },
   "outputs": [
    {
     "name": "stdout",
     "output_type": "stream",
     "text": [
      "Final Data matrix\n",
      "(85661, 18) (85661,)\n",
      "(42192, 18) (42192,)\n",
      "(62973, 18) (62973,)\n",
      "====================================================================================================\n"
     ]
    }
   ],
   "source": [
    "# merge two sparse matrices: https://stackoverflow.com/a/19710648/4084039\n",
    "\n",
    "from scipy.sparse import hstack\n",
    "X_tr = hstack((np.array(X_train['step']).reshape(-1,1), X_train_type_ohe, X_train_amount_norm, np.array(nameOrig_tr_class1).reshape(-1,1), \n",
    "              np.array(nameOrig_tr_class0).reshape(-1,1), X_train_oldbalanceOrig_norm, X_train_newbalanceOrig_norm,\n",
    "              np.array(nameDest_tr_class1).reshape(-1,1), np.array(nameOrig_tr_class0).reshape(-1,1),\n",
    "              X_train_oldbalanceDest_norm, X_train_newbalanceDest_norm, np.array(X_train['isFlaggedFraud']).reshape(-1,1), X_train_amount_deduct_from_Orig_norm,\n",
    "              X_train_amount_expect_after_successful_transfer_norm)).tocsr()\n",
    "\n",
    "\n",
    "X_cr = hstack((np.array(X_cv['step']).reshape(-1,1), X_cv_type_ohe, X_cv_amount_norm, np.array(nameOrig_cv_class1).reshape(-1,1), \n",
    "              np.array(nameOrig_cv_class0).reshape(-1,1), X_cv_oldbalanceOrig_norm, X_cv_newbalanceOrig_norm,\n",
    "              np.array(nameDest_cv_class1).reshape(-1,1), np.array(nameOrig_cv_class0).reshape(-1,1),\n",
    "              X_cv_oldbalanceDest_norm, X_cv_newbalanceDest_norm, np.array(X_cv['isFlaggedFraud']).reshape(-1,1), X_cv_amount_deduct_from_Orig_norm,\n",
    "              X_cv_amount_expect_after_successful_transfer_norm)).tocsr()\n",
    "              \n",
    "\n",
    "X_te = hstack((np.array(X_test['step']).reshape(-1,1), X_test_type_ohe, X_test_amount_norm, np.array(nameOrig_te_class1).reshape(-1,1), \n",
    "              np.array(nameOrig_te_class0).reshape(-1,1), X_test_oldbalanceOrig_norm, X_test_newbalanceOrig_norm,\n",
    "              np.array(nameDest_te_class1).reshape(-1,1), np.array(nameOrig_te_class0).reshape(-1,1),\n",
    "              X_test_oldbalanceDest_norm, X_test_newbalanceDest_norm, np.array(X_test['isFlaggedFraud']).reshape(-1,1), X_test_amount_deduct_from_Orig_norm,\n",
    "              X_test_amount_expect_after_successful_transfer_norm)).tocsr()\n",
    "              \n",
    "\n",
    "print(\"Final Data matrix\")\n",
    "print(X_tr.shape, y_train.shape)\n",
    "print(X_cr.shape, y_cv.shape)\n",
    "print(X_te.shape, y_test.shape)\n",
    "print(\"=\"*100)"
   ]
  },
  {
   "cell_type": "markdown",
   "id": "DFV1TzP9bffL",
   "metadata": {
    "id": "DFV1TzP9bffL"
   },
   "source": [
    "## 9. Applying Machine Learning models"
   ]
  },
  {
   "cell_type": "markdown",
   "id": "scM8uPYsboXO",
   "metadata": {
    "id": "scM8uPYsboXO"
   },
   "source": [
    "### 9.1 Appling Logistic Regression"
   ]
  },
  {
   "cell_type": "markdown",
   "id": "Y82xidSebsWf",
   "metadata": {
    "id": "Y82xidSebsWf"
   },
   "source": [
    "#### Hyper parameter Tuning"
   ]
  },
  {
   "cell_type": "code",
   "execution_count": 244,
   "id": "4M7pVyTeb3ph",
   "metadata": {
    "id": "4M7pVyTeb3ph"
   },
   "outputs": [],
   "source": [
    "def batch_predict(clf, data):\n",
    "    # roc_auc_score(y_true, y_score) the 2nd parameter should be probability estimates of the positive class\n",
    "    # not the predicted outputs\n",
    "\n",
    "    y_data_pred = []\n",
    "    tr_loop = data.shape[0] - data.shape[0]%1000\n",
    "    # consider you X_tr shape is 49041, then your tr_loop will be 49041 - 49041%1000 = 49000\n",
    "    # in this for loop we will iterate unti the last 1000 multiplier\n",
    "    for i in range(0, tr_loop, 1000):\n",
    "        y_data_pred.extend(clf.predict_proba(data[i:i+1000])[:,1])\n",
    "    # we will be predicting for the last data points\n",
    "    if data.shape[0]%1000 !=0:\n",
    "        y_data_pred.extend(clf.predict_proba(data[tr_loop:])[:,1])\n",
    "    \n",
    "    return y_data_pred"
   ]
  },
  {
   "cell_type": "code",
   "execution_count": 245,
   "id": "06Ss2PiBNOLQ",
   "metadata": {
    "colab": {
     "base_uri": "https://localhost:8080/",
     "height": 336
    },
    "id": "06Ss2PiBNOLQ",
    "outputId": "fb955eca-b87b-49b7-8e9a-c909a0e4105c"
   },
   "outputs": [
    {
     "name": "stderr",
     "output_type": "stream",
     "text": [
      "100%|██████████| 12/12 [01:27<00:00,  7.33s/it]\n"
     ]
    },
    {
     "name": "stdout",
     "output_type": "stream",
     "text": [
      "C:  0.01\n"
     ]
    },
    {
     "data": {
      "image/png": "[encoded data removed]",
      "text/plain": [
       "<Figure size 432x288 with 1 Axes>"
      ]
     },
     "metadata": {
      "needs_background": "light"
     },
     "output_type": "display_data"
    }
   ],
   "source": [
    "train_auc = []\n",
    "cv_auc = []\n",
    "C=[0.001,0.05,0.01,0.1,0.5,1,5,10,50, 65, 75, 100]\n",
    "for i in tqdm(C):\n",
    "    lr = LogisticRegression(C=i, penalty='l2', class_weight='balanced')\n",
    "    lr.fit(X_tr, y_train)\n",
    "    \n",
    "    sig_clf = CalibratedClassifierCV(lr, method=\"sigmoid\")\n",
    "    sig_clf.fit(X_tr, y_train)\n",
    "    #y_train_pred=sig_clf.predict_proba(X_tr)\n",
    "    #y_cv_pred=sig_clf.predict_proba(X_cr)\n",
    "    \n",
    "    y_train_pred = batch_predict(sig_clf, X_tr)   \n",
    "    #print(len(y_train_pred))\n",
    "    y_cv_pred = batch_predict(sig_clf, X_cr)\n",
    "    #print(len(y_cv_pred))\n",
    "    \n",
    "    # roc_auc_score(y_true, y_score) the 2nd parameter should be probability estimates of the positive class\n",
    "    # not the predicted outputs\n",
    "    train_auc.append(roc_auc_score(y_train,y_train_pred))\n",
    "    cv_auc.append(roc_auc_score(y_cv, y_cv_pred))\n",
    "    \n",
    "best_C = C[np.argmax(cv_auc)]\n",
    "print(\"C: \", best_C)\n",
    "plt.semilogx(C, train_auc, label='Train AUC')\n",
    "plt.semilogx(C, cv_auc, label='CV AUC')\n",
    "\n",
    "plt.scatter(C, train_auc, label='Train AUC points')\n",
    "plt.scatter(C, cv_auc, label='CV AUC points')\n",
    "\n",
    "plt.legend()\n",
    "plt.xlabel(\"C: hyperparameter\")\n",
    "plt.ylabel(\"AUC\")\n",
    "plt.title(\"ERROR PLOTS\")\n",
    "plt.grid()\n",
    "plt.show()"
   ]
  },
  {
   "cell_type": "markdown",
   "id": "rn1aQlTGcAXB",
   "metadata": {
    "id": "rn1aQlTGcAXB"
   },
   "source": [
    "#### tested on best hyperparameter on LogisticRegression\n"
   ]
  },
  {
   "cell_type": "code",
   "execution_count": 246,
   "id": "NzBTmmNGbd_Z",
   "metadata": {
    "colab": {
     "base_uri": "https://localhost:8080/"
    },
    "id": "NzBTmmNGbd_Z",
    "outputId": "0840f29f-5fa5-45ad-f18a-7c475e3e3a6b"
   },
   "outputs": [
    {
     "name": "stdout",
     "output_type": "stream",
     "text": [
      "train f1_score:  1.0\n",
      "cv f1_score:  0.9979384704777803\n",
      "test f1_score:  0.9979281607889625\n"
     ]
    }
   ],
   "source": [
    "lr = LogisticRegression(C=best_C, penalty='l2', class_weight='balanced')\n",
    "lr.fit(X_tr, y_train)\n",
    "sig_clf = CalibratedClassifierCV(lr, method=\"sigmoid\")\n",
    "sig_clf.fit(X_tr, y_train)\n",
    "\n",
    "# f1_score for train data\n",
    "train_pred = sig_clf.predict(X_tr)\n",
    "train_f1_lr = f1_score(y_train, train_pred, average='weighted')\n",
    "print(\"train f1_score: \", train_f1_lr)\n",
    "\n",
    "# f1_score for cv data\n",
    "cv_pred = sig_clf.predict(X_cr)\n",
    "cv_f1_lr = f1_score(y_cv, cv_pred, average='weighted')\n",
    "print(\"cv f1_score: \", cv_f1_lr)\n",
    "\n",
    "# f1_score for test data\n",
    "test_pred = sig_clf.predict(X_te)\n",
    "test_f1_lr = f1_score(y_test, test_pred, average='weighted')\n",
    "print(\"test f1_score: \", test_f1_lr)"
   ]
  },
  {
   "cell_type": "markdown",
   "id": "wQjyhWUOog5c",
   "metadata": {
    "id": "wQjyhWUOog5c"
   },
   "source": [
    "#### Confusion matrix, precision matrix and recall matrix"
   ]
  },
  {
   "cell_type": "code",
   "execution_count": 247,
   "id": "dP0jwVj3beCf",
   "metadata": {
    "colab": {
     "base_uri": "https://localhost:8080/",
     "height": 881
    },
    "id": "dP0jwVj3beCf",
    "outputId": "fa74f81c-fcf5-4dec-9f8b-141dba867c63"
   },
   "outputs": [
    {
     "name": "stdout",
     "output_type": "stream",
     "text": [
      "-------------------- Confusion matrix --------------------\n"
     ]
    },
    {
     "name": "stderr",
     "output_type": "stream",
     "text": [
      "/usr/local/lib/python3.7/dist-packages/ipykernel_launcher.py:22: RuntimeWarning: invalid value encountered in true_divide\n"
     ]
    },
    {
     "data": {
      "image/png": "[encoded data removed]",
      "text/plain": [
       "<Figure size 360x288 with 2 Axes>"
      ]
     },
     "metadata": {
      "needs_background": "light"
     },
     "output_type": "display_data"
    },
    {
     "name": "stdout",
     "output_type": "stream",
     "text": [
      "-------------------- Precision matrix (Columm Sum=1) --------------------\n"
     ]
    },
    {
     "data": {
      "image/png": "[encoded data removed]",
      "text/plain": [
       "<Figure size 360x288 with 2 Axes>"
      ]
     },
     "metadata": {
      "needs_background": "light"
     },
     "output_type": "display_data"
    },
    {
     "name": "stdout",
     "output_type": "stream",
     "text": [
      "-------------------- Recall matrix (Row sum=1) --------------------\n"
     ]
    },
    {
     "data": {
      "image/png": "[encoded data removed]",
      "text/plain": [
       "<Figure size 360x288 with 2 Axes>"
      ]
     },
     "metadata": {
      "needs_background": "light"
     },
     "output_type": "display_data"
    }
   ],
   "source": [
    "# This function plots the confusion matrices given y_i, y_i_hat.\n",
    "def plot_confusion_matrix(test_y, predict_y):\n",
    "    C = confusion_matrix(test_y, predict_y)\n",
    "    # C = 9,9 matrix, each cell (i,j) represents number of points of class i are predicted class j\n",
    "    \n",
    "    A =(((C.T)/(C.sum(axis=1))).T)\n",
    "    #divid each element of the confusion matrix with the sum of elements in that column\n",
    "    \n",
    "    # C = [[1, 2],\n",
    "    #     [3, 4]]\n",
    "    # C.T = [[1, 3],\n",
    "    #        [2, 4]]\n",
    "    # C.sum(axis = 1)  axis=0 corresonds to columns and axis=1 corresponds to rows in two diamensional array\n",
    "    # C.sum(axix =1) = [[3, 7]]\n",
    "    # ((C.T)/(C.sum(axis=1))) = [[1/3, 3/7]\n",
    "    #                           [2/3, 4/7]]\n",
    "\n",
    "    # ((C.T)/(C.sum(axis=1))).T = [[1/3, 2/3]\n",
    "    #                           [3/7, 4/7]]\n",
    "    # sum of row elements = 1\n",
    "    \n",
    "    B =(C/C.sum(axis=0))\n",
    "    #divid each element of the confusion matrix with the sum of elements in that row\n",
    "    # C = [[1, 2],\n",
    "    #     [3, 4]]\n",
    "    # C.sum(axis = 0)  axis=0 corresonds to columns and axis=1 corresponds to rows in two diamensional array\n",
    "    # C.sum(axix =0) = [[4, 6]]\n",
    "    # (C/C.sum(axis=0)) = [[1/4, 2/6],\n",
    "    #                      [3/4, 4/6]] \n",
    "    \n",
    "    labels = [0,1]\n",
    "    # representing A in heatmap format\n",
    "    print(\"-\"*20, \"Confusion matrix\", \"-\"*20)\n",
    "    plt.figure(figsize=(5,4))\n",
    "    sns.heatmap(C, annot=True, cmap=\"YlGnBu\", fmt=\".3f\", xticklabels=labels, yticklabels=labels)\n",
    "    plt.xlabel('Predicted Class')\n",
    "    plt.ylabel('Original Class')\n",
    "    plt.show()\n",
    "\n",
    "    print(\"-\"*20, \"Precision matrix (Columm Sum=1)\", \"-\"*20)\n",
    "    plt.figure(figsize=(5,4))\n",
    "    sns.heatmap(B, annot=True, cmap=\"YlGnBu\", fmt=\".3f\", xticklabels=labels, yticklabels=labels)\n",
    "    plt.xlabel('Predicted Class')\n",
    "    plt.ylabel('Original Class')\n",
    "    plt.show()\n",
    "    \n",
    "    # representing B in heatmap format\n",
    "    print(\"-\"*20, \"Recall matrix (Row sum=1)\", \"-\"*20)\n",
    "    plt.figure(figsize=(5,4))\n",
    "    sns.heatmap(A, annot=True, cmap=\"YlGnBu\", fmt=\".3f\", xticklabels=labels, yticklabels=labels)\n",
    "    plt.xlabel('Predicted Class')\n",
    "    plt.ylabel('Original Class')\n",
    "    plt.show()\n",
    "    \n",
    "plot_confusion_matrix(y_test,test_pred)"
   ]
  },
  {
   "cell_type": "markdown",
   "id": "GqJi7aObbW9e",
   "metadata": {
    "id": "GqJi7aObbW9e"
   },
   "source": [
    "### 9.2 Appling Appling Multinomial Naive Bayes"
   ]
  },
  {
   "cell_type": "markdown",
   "id": "K8fYJ-8wbhyD",
   "metadata": {
    "id": "K8fYJ-8wbhyD"
   },
   "source": [
    "#### Hyper parameter Tuning"
   ]
  },
  {
   "cell_type": "code",
   "execution_count": 254,
   "id": "1QnlMFtzbLsc",
   "metadata": {
    "colab": {
     "base_uri": "https://localhost:8080/",
     "height": 354
    },
    "id": "1QnlMFtzbLsc",
    "outputId": "8ff05c4b-9a87-423b-c64f-712bcc08cbaa"
   },
   "outputs": [
    {
     "name": "stdout",
     "output_type": "stream",
     "text": [
      "Fitting 5 folds for each of 8 candidates, totalling 40 fits\n",
      "best alpha for given dataset 1e-05\n",
      "tested hyperparameter [1e-05 0.0001 0.001 0.1 1 10 100 1000]\n"
     ]
    },
    {
     "data": {
      "image/png": "[encoded data removed]",
      "text/plain": [
       "<Figure size 432x288 with 1 Axes>"
      ]
     },
     "metadata": {
      "needs_background": "light"
     },
     "output_type": "display_data"
    }
   ],
   "source": [
    "nb=MultinomialNB(fit_prior=True, class_prior= None)\n",
    "param_grid= {\"alpha\": [0.00001, 0.0001, 0.001, 0.1, 1, 10, 100,1000]}\n",
    "\n",
    "\n",
    "clf=GridSearchCV(nb, param_grid, cv=5, scoring='roc_auc', verbose=1, return_train_score=True)\n",
    "clf.fit(abs(X_tr), y_train)\n",
    "nb_hyp=clf.best_params_['alpha']\n",
    "print(\"best alpha for given dataset\",nb_hyp)\n",
    "train_auc=clf.cv_results_['mean_train_score']\n",
    "\n",
    "cv_auc=clf.cv_results_['mean_test_score'] \n",
    "\n",
    "alpha =  clf.cv_results_['param_alpha']\n",
    "print(\"tested hyperparameter\",alpha)\n",
    "\n",
    "#results = pd.DataFrame.from_dict(clf.cv_results_)\n",
    "#results = results.sort_values(['param_alpha'])\n",
    "\n",
    "plt.semilogx(alpha, train_auc, label='Train AUC')\n",
    "\n",
    "plt.semilogx(alpha, cv_auc, label='Test AUC')\n",
    "\n",
    "plt.scatter(alpha, train_auc, label='Train AUC points')\n",
    "plt.scatter(alpha, cv_auc, label='Test AUC points')\n",
    "\n",
    "plt.legend()\n",
    "plt.xlabel(\"alpha: hyperparameter\")\n",
    "plt.ylabel(\"AUC\")\n",
    "plt.title(\"Hyper parameter Vs AUC plot\")\n",
    "plt.grid()\n",
    "plt.show()"
   ]
  },
  {
   "cell_type": "markdown",
   "id": "UCgeO4oweJEL",
   "metadata": {
    "id": "UCgeO4oweJEL"
   },
   "source": [
    "#### tested on best hyperparameter on Multinomial Naive Bayes\n"
   ]
  },
  {
   "cell_type": "code",
   "execution_count": 257,
   "id": "ZhzMmQ14bLv3",
   "metadata": {
    "colab": {
     "base_uri": "https://localhost:8080/"
    },
    "id": "ZhzMmQ14bLv3",
    "outputId": "db65c12b-bb9f-47a8-d9f6-00d596b668bd"
   },
   "outputs": [
    {
     "name": "stdout",
     "output_type": "stream",
     "text": [
      "train f1_score:  1.0\n",
      "cv f1_score:  0.9979384704777803\n",
      "test f1_score:  0.9979281607889625\n"
     ]
    }
   ],
   "source": [
    "nb = MultinomialNB(fit_prior=True, class_prior= None, alpha= nb_hyp)\n",
    "nb.fit(abs(X_tr), y_train)\n",
    "sig_clf = CalibratedClassifierCV(nb, method=\"sigmoid\")\n",
    "sig_clf.fit(abs(X_tr), y_train)\n",
    "\n",
    "# f1_score for train data\n",
    "train_pred = sig_clf.predict(X_tr)\n",
    "train_f1_nb = f1_score(y_train, train_pred, average='weighted')\n",
    "print(\"train f1_score: \", train_f1_nb)\n",
    "\n",
    "# f1_score for cv data\n",
    "cv_pred = sig_clf.predict(X_cr)\n",
    "cv_f1_nb = f1_score(y_cv, cv_pred, average='weighted')\n",
    "print(\"cv f1_score: \", cv_f1_nb)\n",
    "\n",
    "# f1_score for test data\n",
    "test_pred = sig_clf.predict(X_te)\n",
    "test_f1_nb = f1_score(y_test, test_pred, average='weighted')\n",
    "print(\"test f1_score: \", test_f1_nb)"
   ]
  },
  {
   "cell_type": "markdown",
   "id": "9wp2WqKjefjk",
   "metadata": {
    "id": "9wp2WqKjefjk"
   },
   "source": [
    "#### Confusion matrix, precision matrix and recall matrix"
   ]
  },
  {
   "cell_type": "code",
   "execution_count": 258,
   "id": "RQJsloXZbLzq",
   "metadata": {
    "colab": {
     "base_uri": "https://localhost:8080/",
     "height": 881
    },
    "id": "RQJsloXZbLzq",
    "outputId": "383b1274-eb22-4879-b71b-2fb3cefee2ef"
   },
   "outputs": [
    {
     "name": "stderr",
     "output_type": "stream",
     "text": [
      "/usr/local/lib/python3.7/dist-packages/ipykernel_launcher.py:22: RuntimeWarning: invalid value encountered in true_divide\n"
     ]
    },
    {
     "name": "stdout",
     "output_type": "stream",
     "text": [
      "-------------------- Confusion matrix --------------------\n"
     ]
    },
    {
     "data": {
      "image/png": "[encoded data removed]",
      "text/plain": [
       "<Figure size 360x288 with 2 Axes>"
      ]
     },
     "metadata": {
      "needs_background": "light"
     },
     "output_type": "display_data"
    },
    {
     "name": "stdout",
     "output_type": "stream",
     "text": [
      "-------------------- Precision matrix (Columm Sum=1) --------------------\n"
     ]
    },
    {
     "data": {
      "image/png": "[encoded data removed]",
      "text/plain": [
       "<Figure size 360x288 with 2 Axes>"
      ]
     },
     "metadata": {
      "needs_background": "light"
     },
     "output_type": "display_data"
    },
    {
     "name": "stdout",
     "output_type": "stream",
     "text": [
      "-------------------- Recall matrix (Row sum=1) --------------------\n"
     ]
    },
    {
     "data": {
      "image/png": "[encoded data removed]",
      "text/plain": [
       "<Figure size 360x288 with 2 Axes>"
      ]
     },
     "metadata": {
      "needs_background": "light"
     },
     "output_type": "display_data"
    }
   ],
   "source": [
    "plot_confusion_matrix(y_test,test_pred)"
   ]
  },
  {
   "cell_type": "markdown",
   "id": "HDx1axiLfrJU",
   "metadata": {
    "id": "HDx1axiLfrJU"
   },
   "source": [
    "### 9.3 Appling Appling Random Forest Classifier"
   ]
  },
  {
   "cell_type": "markdown",
   "id": "ZTG9ex08fyfz",
   "metadata": {
    "id": "ZTG9ex08fyfz"
   },
   "source": [
    "#### Hyper parameter Tuning"
   ]
  },
  {
   "cell_type": "code",
   "execution_count": 264,
   "id": "TB2M2LyGfbq-",
   "metadata": {
    "colab": {
     "base_uri": "https://localhost:8080/",
     "height": 597
    },
    "id": "TB2M2LyGfbq-",
    "outputId": "a18ae43f-32ac-4406-9454-13b5933ad978"
   },
   "outputs": [
    {
     "name": "stdout",
     "output_type": "stream",
     "text": [
      "Fitting 9 folds for each of 12 candidates, totalling 108 fits\n",
      "best hyperparameter for given dataset {'max_depth': 5, 'n_estimators': 30}\n",
      "AUC Score on this hyperparameter:  1.0\n"
     ]
    },
    {
     "data": {
      "text/html": [
       "<html>\n",
       "<head><meta charset=\"utf-8\" /></head>\n",
       "<body>\n",
       "    <div>            <script src=\"https://cdnjs.cloudflare.com/ajax/libs/mathjax/2.7.5/MathJax.js?config=TeX-AMS-MML_SVG\"></script><script type=\"text/javascript\">if (window.MathJax) {MathJax.Hub.Config({SVG: {font: \"STIX-Web\"}});}</script>                <script type=\"text/javascript\">window.PlotlyConfig = {MathJaxConfig: 'local'};</script>\n",
       "        <script src=\"https://cdn.plot.ly/plotly-2.8.3.min.js\"></script>                <div id=\"2e4053d8-31c6-45eb-85e2-bcf71e02b2f5\" class=\"plotly-graph-div\" style=\"height:525px; width:100%;\"></div>            <script type=\"text/javascript\">                                    window.PLOTLYENV=window.PLOTLYENV || {};                                    if (document.getElementById(\"2e4053d8-31c6-45eb-85e2-bcf71e02b2f5\")) {                    Plotly.newPlot(                        \"2e4053d8-31c6-45eb-85e2-bcf71e02b2f5\",                        [{\"name\":\"train\",\"x\":[30,50,100,200],\"y\":[5,10,15],\"z\":[1.0,1.0,1.0,1.0,1.0,1.0,1.0,1.0,1.0,1.0,1.0,1.0],\"type\":\"scatter3d\"},{\"name\":\"test\",\"x\":[30,50,100,200],\"y\":[5,10,15],\"z\":[1.0,1.0,1.0,1.0,1.0,1.0,1.0,1.0,1.0,1.0,1.0,1.0],\"type\":\"scatter3d\"}],                        {\"scene\":{\"xaxis\":{\"title\":{\"text\":\"n_estimators\"}},\"yaxis\":{\"title\":{\"text\":\"max_depth\"}},\"zaxis\":{\"title\":{\"text\":\"AUC\"}}},\"template\":{\"data\":{\"barpolar\":[{\"marker\":{\"line\":{\"color\":\"#E5ECF6\",\"width\":0.5},\"pattern\":{\"fillmode\":\"overlay\",\"size\":10,\"solidity\":0.2}},\"type\":\"barpolar\"}],\"bar\":[{\"error_x\":{\"color\":\"#2a3f5f\"},\"error_y\":{\"color\":\"#2a3f5f\"},\"marker\":{\"line\":{\"color\":\"#E5ECF6\",\"width\":0.5},\"pattern\":{\"fillmode\":\"overlay\",\"size\":10,\"solidity\":0.2}},\"type\":\"bar\"}],\"carpet\":[{\"aaxis\":{\"endlinecolor\":\"#2a3f5f\",\"gridcolor\":\"white\",\"linecolor\":\"white\",\"minorgridcolor\":\"white\",\"startlinecolor\":\"#2a3f5f\"},\"baxis\":{\"endlinecolor\":\"#2a3f5f\",\"gridcolor\":\"white\",\"linecolor\":\"white\",\"minorgridcolor\":\"white\",\"startlinecolor\":\"#2a3f5f\"},\"type\":\"carpet\"}],\"choropleth\":[{\"colorbar\":{\"outlinewidth\":0,\"ticks\":\"\"},\"type\":\"choropleth\"}],\"contourcarpet\":[{\"colorbar\":{\"outlinewidth\":0,\"ticks\":\"\"},\"type\":\"contourcarpet\"}],\"contour\":[{\"colorbar\":{\"outlinewidth\":0,\"ticks\":\"\"},\"colorscale\":[[0.0,\"#0d0887\"],[0.1111111111111111,\"#46039f\"],[0.2222222222222222,\"#7201a8\"],[0.3333333333333333,\"#9c179e\"],[0.4444444444444444,\"#bd3786\"],[0.5555555555555556,\"#d8576b\"],[0.6666666666666666,\"#ed7953\"],[0.7777777777777778,\"#fb9f3a\"],[0.8888888888888888,\"#fdca26\"],[1.0,\"#f0f921\"]],\"type\":\"contour\"}],\"heatmapgl\":[{\"colorbar\":{\"outlinewidth\":0,\"ticks\":\"\"},\"colorscale\":[[0.0,\"#0d0887\"],[0.1111111111111111,\"#46039f\"],[0.2222222222222222,\"#7201a8\"],[0.3333333333333333,\"#9c179e\"],[0.4444444444444444,\"#bd3786\"],[0.5555555555555556,\"#d8576b\"],[0.6666666666666666,\"#ed7953\"],[0.7777777777777778,\"#fb9f3a\"],[0.8888888888888888,\"#fdca26\"],[1.0,\"#f0f921\"]],\"type\":\"heatmapgl\"}],\"heatmap\":[{\"colorbar\":{\"outlinewidth\":0,\"ticks\":\"\"},\"colorscale\":[[0.0,\"#0d0887\"],[0.1111111111111111,\"#46039f\"],[0.2222222222222222,\"#7201a8\"],[0.3333333333333333,\"#9c179e\"],[0.4444444444444444,\"#bd3786\"],[0.5555555555555556,\"#d8576b\"],[0.6666666666666666,\"#ed7953\"],[0.7777777777777778,\"#fb9f3a\"],[0.8888888888888888,\"#fdca26\"],[1.0,\"#f0f921\"]],\"type\":\"heatmap\"}],\"histogram2dcontour\":[{\"colorbar\":{\"outlinewidth\":0,\"ticks\":\"\"},\"colorscale\":[[0.0,\"#0d0887\"],[0.1111111111111111,\"#46039f\"],[0.2222222222222222,\"#7201a8\"],[0.3333333333333333,\"#9c179e\"],[0.4444444444444444,\"#bd3786\"],[0.5555555555555556,\"#d8576b\"],[0.6666666666666666,\"#ed7953\"],[0.7777777777777778,\"#fb9f3a\"],[0.8888888888888888,\"#fdca26\"],[1.0,\"#f0f921\"]],\"type\":\"histogram2dcontour\"}],\"histogram2d\":[{\"colorbar\":{\"outlinewidth\":0,\"ticks\":\"\"},\"colorscale\":[[0.0,\"#0d0887\"],[0.1111111111111111,\"#46039f\"],[0.2222222222222222,\"#7201a8\"],[0.3333333333333333,\"#9c179e\"],[0.4444444444444444,\"#bd3786\"],[0.5555555555555556,\"#d8576b\"],[0.6666666666666666,\"#ed7953\"],[0.7777777777777778,\"#fb9f3a\"],[0.8888888888888888,\"#fdca26\"],[1.0,\"#f0f921\"]],\"type\":\"histogram2d\"}],\"histogram\":[{\"marker\":{\"pattern\":{\"fillmode\":\"overlay\",\"size\":10,\"solidity\":0.2}},\"type\":\"histogram\"}],\"mesh3d\":[{\"colorbar\":{\"outlinewidth\":0,\"ticks\":\"\"},\"type\":\"mesh3d\"}],\"parcoords\":[{\"line\":{\"colorbar\":{\"outlinewidth\":0,\"ticks\":\"\"}},\"type\":\"parcoords\"}],\"pie\":[{\"automargin\":true,\"type\":\"pie\"}],\"scatter3d\":[{\"line\":{\"colorbar\":{\"outlinewidth\":0,\"ticks\":\"\"}},\"marker\":{\"colorbar\":{\"outlinewidth\":0,\"ticks\":\"\"}},\"type\":\"scatter3d\"}],\"scattercarpet\":[{\"marker\":{\"colorbar\":{\"outlinewidth\":0,\"ticks\":\"\"}},\"type\":\"scattercarpet\"}],\"scattergeo\":[{\"marker\":{\"colorbar\":{\"outlinewidth\":0,\"ticks\":\"\"}},\"type\":\"scattergeo\"}],\"scattergl\":[{\"marker\":{\"colorbar\":{\"outlinewidth\":0,\"ticks\":\"\"}},\"type\":\"scattergl\"}],\"scattermapbox\":[{\"marker\":{\"colorbar\":{\"outlinewidth\":0,\"ticks\":\"\"}},\"type\":\"scattermapbox\"}],\"scatterpolargl\":[{\"marker\":{\"colorbar\":{\"outlinewidth\":0,\"ticks\":\"\"}},\"type\":\"scatterpolargl\"}],\"scatterpolar\":[{\"marker\":{\"colorbar\":{\"outlinewidth\":0,\"ticks\":\"\"}},\"type\":\"scatterpolar\"}],\"scatter\":[{\"marker\":{\"colorbar\":{\"outlinewidth\":0,\"ticks\":\"\"}},\"type\":\"scatter\"}],\"scatterternary\":[{\"marker\":{\"colorbar\":{\"outlinewidth\":0,\"ticks\":\"\"}},\"type\":\"scatterternary\"}],\"surface\":[{\"colorbar\":{\"outlinewidth\":0,\"ticks\":\"\"},\"colorscale\":[[0.0,\"#0d0887\"],[0.1111111111111111,\"#46039f\"],[0.2222222222222222,\"#7201a8\"],[0.3333333333333333,\"#9c179e\"],[0.4444444444444444,\"#bd3786\"],[0.5555555555555556,\"#d8576b\"],[0.6666666666666666,\"#ed7953\"],[0.7777777777777778,\"#fb9f3a\"],[0.8888888888888888,\"#fdca26\"],[1.0,\"#f0f921\"]],\"type\":\"surface\"}],\"table\":[{\"cells\":{\"fill\":{\"color\":\"#EBF0F8\"},\"line\":{\"color\":\"white\"}},\"header\":{\"fill\":{\"color\":\"#C8D4E3\"},\"line\":{\"color\":\"white\"}},\"type\":\"table\"}]},\"layout\":{\"annotationdefaults\":{\"arrowcolor\":\"#2a3f5f\",\"arrowhead\":0,\"arrowwidth\":1},\"autotypenumbers\":\"strict\",\"coloraxis\":{\"colorbar\":{\"outlinewidth\":0,\"ticks\":\"\"}},\"colorscale\":{\"diverging\":[[0,\"#8e0152\"],[0.1,\"#c51b7d\"],[0.2,\"#de77ae\"],[0.3,\"#f1b6da\"],[0.4,\"#fde0ef\"],[0.5,\"#f7f7f7\"],[0.6,\"#e6f5d0\"],[0.7,\"#b8e186\"],[0.8,\"#7fbc41\"],[0.9,\"#4d9221\"],[1,\"#276419\"]],\"sequential\":[[0.0,\"#0d0887\"],[0.1111111111111111,\"#46039f\"],[0.2222222222222222,\"#7201a8\"],[0.3333333333333333,\"#9c179e\"],[0.4444444444444444,\"#bd3786\"],[0.5555555555555556,\"#d8576b\"],[0.6666666666666666,\"#ed7953\"],[0.7777777777777778,\"#fb9f3a\"],[0.8888888888888888,\"#fdca26\"],[1.0,\"#f0f921\"]],\"sequentialminus\":[[0.0,\"#0d0887\"],[0.1111111111111111,\"#46039f\"],[0.2222222222222222,\"#7201a8\"],[0.3333333333333333,\"#9c179e\"],[0.4444444444444444,\"#bd3786\"],[0.5555555555555556,\"#d8576b\"],[0.6666666666666666,\"#ed7953\"],[0.7777777777777778,\"#fb9f3a\"],[0.8888888888888888,\"#fdca26\"],[1.0,\"#f0f921\"]]},\"colorway\":[\"#636efa\",\"#EF553B\",\"#00cc96\",\"#ab63fa\",\"#FFA15A\",\"#19d3f3\",\"#FF6692\",\"#B6E880\",\"#FF97FF\",\"#FECB52\"],\"font\":{\"color\":\"#2a3f5f\"},\"geo\":{\"bgcolor\":\"white\",\"lakecolor\":\"white\",\"landcolor\":\"#E5ECF6\",\"showlakes\":true,\"showland\":true,\"subunitcolor\":\"white\"},\"hoverlabel\":{\"align\":\"left\"},\"hovermode\":\"closest\",\"mapbox\":{\"style\":\"light\"},\"paper_bgcolor\":\"white\",\"plot_bgcolor\":\"#E5ECF6\",\"polar\":{\"angularaxis\":{\"gridcolor\":\"white\",\"linecolor\":\"white\",\"ticks\":\"\"},\"bgcolor\":\"#E5ECF6\",\"radialaxis\":{\"gridcolor\":\"white\",\"linecolor\":\"white\",\"ticks\":\"\"}},\"scene\":{\"xaxis\":{\"backgroundcolor\":\"#E5ECF6\",\"gridcolor\":\"white\",\"gridwidth\":2,\"linecolor\":\"white\",\"showbackground\":true,\"ticks\":\"\",\"zerolinecolor\":\"white\"},\"yaxis\":{\"backgroundcolor\":\"#E5ECF6\",\"gridcolor\":\"white\",\"gridwidth\":2,\"linecolor\":\"white\",\"showbackground\":true,\"ticks\":\"\",\"zerolinecolor\":\"white\"},\"zaxis\":{\"backgroundcolor\":\"#E5ECF6\",\"gridcolor\":\"white\",\"gridwidth\":2,\"linecolor\":\"white\",\"showbackground\":true,\"ticks\":\"\",\"zerolinecolor\":\"white\"}},\"shapedefaults\":{\"line\":{\"color\":\"#2a3f5f\"}},\"ternary\":{\"aaxis\":{\"gridcolor\":\"white\",\"linecolor\":\"white\",\"ticks\":\"\"},\"baxis\":{\"gridcolor\":\"white\",\"linecolor\":\"white\",\"ticks\":\"\"},\"bgcolor\":\"#E5ECF6\",\"caxis\":{\"gridcolor\":\"white\",\"linecolor\":\"white\",\"ticks\":\"\"}},\"title\":{\"x\":0.05},\"xaxis\":{\"automargin\":true,\"gridcolor\":\"white\",\"linecolor\":\"white\",\"ticks\":\"\",\"title\":{\"standoff\":15},\"zerolinecolor\":\"white\",\"zerolinewidth\":2},\"yaxis\":{\"automargin\":true,\"gridcolor\":\"white\",\"linecolor\":\"white\",\"ticks\":\"\",\"title\":{\"standoff\":15},\"zerolinecolor\":\"white\",\"zerolinewidth\":2}}}},                        {\"responsive\": true}                    ).then(function(){\n",
       "                            \n",
       "var gd = document.getElementById('2e4053d8-31c6-45eb-85e2-bcf71e02b2f5');\n",
       "var x = new MutationObserver(function (mutations, observer) {{\n",
       "        var display = window.getComputedStyle(gd).display;\n",
       "        if (!display || display === 'none') {{\n",
       "            console.log([gd, 'removed!']);\n",
       "            Plotly.purge(gd);\n",
       "            observer.disconnect();\n",
       "        }}\n",
       "}});\n",
       "\n",
       "// Listen for the removal of the full notebook cells\n",
       "var notebookContainer = gd.closest('#notebook-container');\n",
       "if (notebookContainer) {{\n",
       "    x.observe(notebookContainer, {childList: true});\n",
       "}}\n",
       "\n",
       "// Listen for the clearing of the current output cell\n",
       "var outputEl = gd.closest('.output');\n",
       "if (outputEl) {{\n",
       "    x.observe(outputEl, {childList: true});\n",
       "}}\n",
       "\n",
       "                        })                };                            </script>        </div>\n",
       "</body>\n",
       "</html>"
      ]
     },
     "metadata": {},
     "output_type": "display_data"
    }
   ],
   "source": [
    "rf=RandomForestClassifier(criterion='gini', random_state=42, n_jobs=-1)\n",
    "param_grid= {'n_estimators': [30, 50, 100,200], 'max_depth': [5, 10, 15]}\n",
    "\n",
    "cv = RepeatedStratifiedKFold(n_splits=3, n_repeats=3, random_state=42)\n",
    "\n",
    "clf=GridSearchCV(rf, param_grid, scoring='roc_auc', cv=cv, verbose=1, return_train_score=True, n_jobs=-1)\n",
    "\n",
    "clf.fit(X_tr, y_train)\n",
    "\n",
    "best_hyperparameter = clf.best_params_\n",
    "rf_hyp = clf.best_params_\n",
    "\n",
    "print(\"best hyperparameter for given dataset\",best_hyperparameter)\n",
    "train_auc=clf.cv_results_['mean_train_score']\n",
    "\n",
    "cv_auc=clf.cv_results_['mean_test_score'] \n",
    "\n",
    "print(\"AUC Score on this hyperparameter: \" ,clf.best_score_)\n",
    "\n",
    "trace1 = go.Scatter3d(x=param_grid['n_estimators'] ,y=param_grid['max_depth'], z=train_auc, name = 'train')\n",
    "trace2 = go.Scatter3d(x=param_grid['n_estimators'] ,y=param_grid['max_depth'], z=cv_auc, name = 'test')\n",
    "data = [trace1, trace2]\n",
    "\n",
    "layout = go.Layout(scene = dict(\n",
    "        xaxis = dict(title='n_estimators'),\n",
    "        yaxis = dict(title='max_depth'),\n",
    "        zaxis = dict(title='AUC'),))\n",
    "\n",
    "fig = go.Figure(data=data, layout=layout)\n",
    "offline.iplot(fig, filename='3d-scatter-colorscale')\n",
    "plt.show()"
   ]
  },
  {
   "cell_type": "code",
   "execution_count": 265,
   "id": "XKXgBSssfbuE",
   "metadata": {
    "colab": {
     "base_uri": "https://localhost:8080/",
     "height": 510
    },
    "id": "XKXgBSssfbuE",
    "outputId": "8aa4c7ee-f821-4c47-9064-c6820b0a0859"
   },
   "outputs": [
    {
     "data": {
      "image/png": "[encoded data removed]",
      "text/plain": [
       "<Figure size 720x504 with 2 Axes>"
      ]
     },
     "metadata": {
      "needs_background": "light"
     },
     "output_type": "display_data"
    }
   ],
   "source": [
    "#from sklearn_evaluation import plot\n",
    "plt.figure(figsize=(10,7))\n",
    "plot.grid_search(clf.cv_results_, change=(\"n_estimators\", \"max_depth\"))\n",
    "plt.show()"
   ]
  },
  {
   "cell_type": "markdown",
   "id": "HfFBME-unZwk",
   "metadata": {
    "id": "HfFBME-unZwk"
   },
   "source": [
    "#### tested on best hyperparameter on Random Forest Classifier"
   ]
  },
  {
   "cell_type": "code",
   "execution_count": 266,
   "id": "_asemY_wfbxC",
   "metadata": {
    "colab": {
     "base_uri": "https://localhost:8080/"
    },
    "id": "_asemY_wfbxC",
    "outputId": "9d5eaff5-a7e6-4c86-8df4-12007fad5ecb"
   },
   "outputs": [
    {
     "name": "stdout",
     "output_type": "stream",
     "text": [
      "train f1_score:  1.0\n",
      "cv f1_score:  0.9979384704777803\n",
      "test f1_score:  0.9979281607889625\n"
     ]
    }
   ],
   "source": [
    "rf=RandomForestClassifier(criterion='gini', random_state=42, n_estimators=rf_hyp['n_estimators'],max_depth=rf_hyp['max_depth'], n_jobs=-1)\n",
    "rf.fit(X_tr, y_train)\n",
    "sig_clf = CalibratedClassifierCV(rf, method=\"sigmoid\")\n",
    "sig_clf.fit(X_tr, y_train)\n",
    "\n",
    "# f1_score for train data\n",
    "train_pred = sig_clf.predict(X_tr)\n",
    "train_f1_rf = f1_score(y_train, train_pred, average='weighted')\n",
    "print(\"train f1_score: \", train_f1_rf)\n",
    "\n",
    "# f1_score for cv data\n",
    "cv_pred = sig_clf.predict(X_cr)\n",
    "cv_f1_rf = f1_score(y_cv, cv_pred, average='weighted')\n",
    "print(\"cv f1_score: \", cv_f1_rf)\n",
    "\n",
    "# f1_score for test data\n",
    "test_pred = sig_clf.predict(X_te)\n",
    "test_f1_rf = f1_score(y_test, test_pred, average='weighted')\n",
    "print(\"test f1_score: \", test_f1_rf)"
   ]
  },
  {
   "cell_type": "code",
   "execution_count": 267,
   "id": "GGv9pR-fnmkB",
   "metadata": {
    "colab": {
     "base_uri": "https://localhost:8080/",
     "height": 936
    },
    "id": "GGv9pR-fnmkB",
    "outputId": "ebbcb594-c861-467e-9c51-7dee441bb5e2"
   },
   "outputs": [
    {
     "name": "stdout",
     "output_type": "stream",
     "text": [
      "-------------------- Confusion matrix --------------------\n"
     ]
    },
    {
     "name": "stderr",
     "output_type": "stream",
     "text": [
      "/usr/local/lib/python3.7/dist-packages/ipykernel_launcher.py:22: RuntimeWarning:\n",
      "\n",
      "invalid value encountered in true_divide\n",
      "\n"
     ]
    },
    {
     "data": {
      "image/png": "[encoded data removed]",
      "text/plain": [
       "<Figure size 360x288 with 2 Axes>"
      ]
     },
     "metadata": {
      "needs_background": "light"
     },
     "output_type": "display_data"
    },
    {
     "name": "stdout",
     "output_type": "stream",
     "text": [
      "-------------------- Precision matrix (Columm Sum=1) --------------------\n"
     ]
    },
    {
     "data": {
      "image/png": "[encoded data removed]",
      "text/plain": [
       "<Figure size 360x288 with 2 Axes>"
      ]
     },
     "metadata": {
      "needs_background": "light"
     },
     "output_type": "display_data"
    },
    {
     "name": "stdout",
     "output_type": "stream",
     "text": [
      "-------------------- Recall matrix (Row sum=1) --------------------\n"
     ]
    },
    {
     "data": {
      "image/png": "[encoded data removed]",
      "text/plain": [
       "<Figure size 360x288 with 2 Axes>"
      ]
     },
     "metadata": {
      "needs_background": "light"
     },
     "output_type": "display_data"
    }
   ],
   "source": [
    "plot_confusion_matrix(y_test,test_pred)"
   ]
  },
  {
   "cell_type": "code",
   "execution_count": 294,
   "id": "ISXyu25rssN9",
   "metadata": {
    "id": "ISXyu25rssN9"
   },
   "outputs": [],
   "source": [
    "# this feature structure has been used to assemble all features\n",
    "\n",
    "# X_tr = hstack((np.array(X_train['step']).reshape(-1,1), \n",
    "#               X_train_type_ohe, \n",
    "#               X_train_amount_norm, \n",
    "#               np.array(nameOrig_tr_class1).reshape(-1,1), \n",
    "#               np.array(nameOrig_tr_class0).reshape(-1,1), \n",
    "#               X_train_oldbalanceOrig_norm, \n",
    "#               X_train_newbalanceOrig_norm,\n",
    "#               np.array(nameDest_tr_class1).reshape(-1,1), \n",
    "#               np.array(nameOrig_tr_class0).reshape(-1,1),\n",
    "#               X_train_oldbalanceDest_norm, \n",
    "#               X_train_newbalanceDest_norm, \n",
    "#               np.array(X_train['isFlaggedFraud']).reshape(-1,1), \n",
    "#               X_train_amount_deduct_from_Orig_norm,\n",
    "#               X_train_amount_expect_after_successful_transfer_norm)).tocsr()"
   ]
  },
  {
   "cell_type": "code",
   "execution_count": 297,
   "id": "Q3av-sfjpFr-",
   "metadata": {
    "colab": {
     "base_uri": "https://localhost:8080/"
    },
    "id": "Q3av-sfjpFr-",
    "outputId": "897df2a5-67c6-4f86-ca30-1b2a02c9943c"
   },
   "outputs": [
    {
     "data": {
      "text/plain": [
       "array([ 7, 11,  8, 12, 16,  0,  1,  9,  3,  5, 10,  4, 13, 14, 15,  6,  2,\n",
       "       17])"
      ]
     },
     "execution_count": 297,
     "metadata": {},
     "output_type": "execute_result"
    }
   ],
   "source": [
    "# as we can see feature which is in 7th index is more important by RandomForestClassifier, which is nameDest_tr_class1\n",
    "\n",
    "(rf.feature_importances_).argsort()[::-1]"
   ]
  },
  {
   "cell_type": "code",
   "execution_count": 292,
   "id": "TQp58rsYbL64",
   "metadata": {
    "colab": {
     "base_uri": "https://localhost:8080/",
     "height": 730
    },
    "id": "TQp58rsYbL64",
    "outputId": "ecbb3c6b-8e56-4d90-94a4-7da002fada12"
   },
   "outputs": [
    {
     "data": {
      "image/png": "[encoded data removed]",
      "text/plain": [
       "<Figure size 720x864 with 1 Axes>"
      ]
     },
     "metadata": {
      "needs_background": "light"
     },
     "output_type": "display_data"
    }
   ],
   "source": [
    "#features = df_final_train.columns\n",
    "importances = rf.feature_importances_\n",
    "indices = (np.argsort(importances))[-18:]\n",
    "plt.figure(figsize=(10,12))\n",
    "plt.title('Feature Importances')\n",
    "plt.barh(range(len(indices)), importances[indices], color='r', align='center')\n",
    "#plt.yticks(range(len(indices)), [features[i] for i in indices])\n",
    "plt.xlabel('Relative Importance')\n",
    "plt.show()"
   ]
  },
  {
   "cell_type": "markdown",
   "id": "7NhRUpPbu4zr",
   "metadata": {
    "id": "7NhRUpPbu4zr"
   },
   "source": [
    "### 9.4 Appling XGBClassifier"
   ]
  },
  {
   "cell_type": "markdown",
   "id": "UyhhVv7hvP7Y",
   "metadata": {
    "id": "UyhhVv7hvP7Y"
   },
   "source": [
    "#### Hyper parameter Tuning"
   ]
  },
  {
   "cell_type": "code",
   "execution_count": 300,
   "id": "ljI_19FWwYUD",
   "metadata": {
    "id": "ljI_19FWwYUD"
   },
   "outputs": [],
   "source": [
    "import plotly.offline as offline\n",
    "import plotly.graph_objs as go"
   ]
  },
  {
   "cell_type": "code",
   "execution_count": 306,
   "id": "N9VrrWP8nvx1",
   "metadata": {
    "colab": {
     "base_uri": "https://localhost:8080/",
     "height": 579
    },
    "id": "N9VrrWP8nvx1",
    "outputId": "e0fb6358-b555-4fdf-af27-3363211038b8"
   },
   "outputs": [
    {
     "name": "stdout",
     "output_type": "stream",
     "text": [
      "best hyperparameter:  {'learning_rate': 0.001, 'n_estimators': 5}\n",
      "AUC Score on this hyperparameter:  1.0\n"
     ]
    },
    {
     "data": {
      "text/html": [
       "<html>\n",
       "<head><meta charset=\"utf-8\" /></head>\n",
       "<body>\n",
       "    <div>            <script src=\"https://cdnjs.cloudflare.com/ajax/libs/mathjax/2.7.5/MathJax.js?config=TeX-AMS-MML_SVG\"></script><script type=\"text/javascript\">if (window.MathJax) {MathJax.Hub.Config({SVG: {font: \"STIX-Web\"}});}</script>                <script type=\"text/javascript\">window.PlotlyConfig = {MathJaxConfig: 'local'};</script>\n",
       "        <script src=\"https://cdn.plot.ly/plotly-2.8.3.min.js\"></script>                <div id=\"fa0f5fb6-fe6f-49da-b96a-bbcab813c75e\" class=\"plotly-graph-div\" style=\"height:525px; width:100%;\"></div>            <script type=\"text/javascript\">                                    window.PLOTLYENV=window.PLOTLYENV || {};                                    if (document.getElementById(\"fa0f5fb6-fe6f-49da-b96a-bbcab813c75e\")) {                    Plotly.newPlot(                        \"fa0f5fb6-fe6f-49da-b96a-bbcab813c75e\",                        [{\"name\":\"train\",\"x\":[5,10,50,100,200],\"y\":[0.001,0.01,0.1,0.2,0.3],\"z\":[1.0,1.0,1.0,1.0,1.0,1.0,1.0,1.0,1.0,1.0,1.0,1.0,1.0,1.0,1.0,1.0,1.0,1.0,1.0,1.0,1.0,1.0,1.0,1.0,1.0],\"type\":\"scatter3d\"},{\"name\":\"Cross validation\",\"x\":[5,10,50,100,200],\"y\":[0.001,0.01,0.1,0.2,0.3],\"z\":[1.0,1.0,1.0,1.0,1.0,1.0,1.0,1.0,1.0,1.0,1.0,1.0,1.0,1.0,1.0,1.0,1.0,1.0,1.0,1.0,1.0,1.0,1.0,1.0,1.0],\"type\":\"scatter3d\"}],                        {\"scene\":{\"xaxis\":{\"title\":{\"text\":\"n_estimators\"}},\"yaxis\":{\"title\":{\"text\":\"learning_rate\"}},\"zaxis\":{\"title\":{\"text\":\"AUC\"}}},\"template\":{\"data\":{\"barpolar\":[{\"marker\":{\"line\":{\"color\":\"#E5ECF6\",\"width\":0.5},\"pattern\":{\"fillmode\":\"overlay\",\"size\":10,\"solidity\":0.2}},\"type\":\"barpolar\"}],\"bar\":[{\"error_x\":{\"color\":\"#2a3f5f\"},\"error_y\":{\"color\":\"#2a3f5f\"},\"marker\":{\"line\":{\"color\":\"#E5ECF6\",\"width\":0.5},\"pattern\":{\"fillmode\":\"overlay\",\"size\":10,\"solidity\":0.2}},\"type\":\"bar\"}],\"carpet\":[{\"aaxis\":{\"endlinecolor\":\"#2a3f5f\",\"gridcolor\":\"white\",\"linecolor\":\"white\",\"minorgridcolor\":\"white\",\"startlinecolor\":\"#2a3f5f\"},\"baxis\":{\"endlinecolor\":\"#2a3f5f\",\"gridcolor\":\"white\",\"linecolor\":\"white\",\"minorgridcolor\":\"white\",\"startlinecolor\":\"#2a3f5f\"},\"type\":\"carpet\"}],\"choropleth\":[{\"colorbar\":{\"outlinewidth\":0,\"ticks\":\"\"},\"type\":\"choropleth\"}],\"contourcarpet\":[{\"colorbar\":{\"outlinewidth\":0,\"ticks\":\"\"},\"type\":\"contourcarpet\"}],\"contour\":[{\"colorbar\":{\"outlinewidth\":0,\"ticks\":\"\"},\"colorscale\":[[0.0,\"#0d0887\"],[0.1111111111111111,\"#46039f\"],[0.2222222222222222,\"#7201a8\"],[0.3333333333333333,\"#9c179e\"],[0.4444444444444444,\"#bd3786\"],[0.5555555555555556,\"#d8576b\"],[0.6666666666666666,\"#ed7953\"],[0.7777777777777778,\"#fb9f3a\"],[0.8888888888888888,\"#fdca26\"],[1.0,\"#f0f921\"]],\"type\":\"contour\"}],\"heatmapgl\":[{\"colorbar\":{\"outlinewidth\":0,\"ticks\":\"\"},\"colorscale\":[[0.0,\"#0d0887\"],[0.1111111111111111,\"#46039f\"],[0.2222222222222222,\"#7201a8\"],[0.3333333333333333,\"#9c179e\"],[0.4444444444444444,\"#bd3786\"],[0.5555555555555556,\"#d8576b\"],[0.6666666666666666,\"#ed7953\"],[0.7777777777777778,\"#fb9f3a\"],[0.8888888888888888,\"#fdca26\"],[1.0,\"#f0f921\"]],\"type\":\"heatmapgl\"}],\"heatmap\":[{\"colorbar\":{\"outlinewidth\":0,\"ticks\":\"\"},\"colorscale\":[[0.0,\"#0d0887\"],[0.1111111111111111,\"#46039f\"],[0.2222222222222222,\"#7201a8\"],[0.3333333333333333,\"#9c179e\"],[0.4444444444444444,\"#bd3786\"],[0.5555555555555556,\"#d8576b\"],[0.6666666666666666,\"#ed7953\"],[0.7777777777777778,\"#fb9f3a\"],[0.8888888888888888,\"#fdca26\"],[1.0,\"#f0f921\"]],\"type\":\"heatmap\"}],\"histogram2dcontour\":[{\"colorbar\":{\"outlinewidth\":0,\"ticks\":\"\"},\"colorscale\":[[0.0,\"#0d0887\"],[0.1111111111111111,\"#46039f\"],[0.2222222222222222,\"#7201a8\"],[0.3333333333333333,\"#9c179e\"],[0.4444444444444444,\"#bd3786\"],[0.5555555555555556,\"#d8576b\"],[0.6666666666666666,\"#ed7953\"],[0.7777777777777778,\"#fb9f3a\"],[0.8888888888888888,\"#fdca26\"],[1.0,\"#f0f921\"]],\"type\":\"histogram2dcontour\"}],\"histogram2d\":[{\"colorbar\":{\"outlinewidth\":0,\"ticks\":\"\"},\"colorscale\":[[0.0,\"#0d0887\"],[0.1111111111111111,\"#46039f\"],[0.2222222222222222,\"#7201a8\"],[0.3333333333333333,\"#9c179e\"],[0.4444444444444444,\"#bd3786\"],[0.5555555555555556,\"#d8576b\"],[0.6666666666666666,\"#ed7953\"],[0.7777777777777778,\"#fb9f3a\"],[0.8888888888888888,\"#fdca26\"],[1.0,\"#f0f921\"]],\"type\":\"histogram2d\"}],\"histogram\":[{\"marker\":{\"pattern\":{\"fillmode\":\"overlay\",\"size\":10,\"solidity\":0.2}},\"type\":\"histogram\"}],\"mesh3d\":[{\"colorbar\":{\"outlinewidth\":0,\"ticks\":\"\"},\"type\":\"mesh3d\"}],\"parcoords\":[{\"line\":{\"colorbar\":{\"outlinewidth\":0,\"ticks\":\"\"}},\"type\":\"parcoords\"}],\"pie\":[{\"automargin\":true,\"type\":\"pie\"}],\"scatter3d\":[{\"line\":{\"colorbar\":{\"outlinewidth\":0,\"ticks\":\"\"}},\"marker\":{\"colorbar\":{\"outlinewidth\":0,\"ticks\":\"\"}},\"type\":\"scatter3d\"}],\"scattercarpet\":[{\"marker\":{\"colorbar\":{\"outlinewidth\":0,\"ticks\":\"\"}},\"type\":\"scattercarpet\"}],\"scattergeo\":[{\"marker\":{\"colorbar\":{\"outlinewidth\":0,\"ticks\":\"\"}},\"type\":\"scattergeo\"}],\"scattergl\":[{\"marker\":{\"colorbar\":{\"outlinewidth\":0,\"ticks\":\"\"}},\"type\":\"scattergl\"}],\"scattermapbox\":[{\"marker\":{\"colorbar\":{\"outlinewidth\":0,\"ticks\":\"\"}},\"type\":\"scattermapbox\"}],\"scatterpolargl\":[{\"marker\":{\"colorbar\":{\"outlinewidth\":0,\"ticks\":\"\"}},\"type\":\"scatterpolargl\"}],\"scatterpolar\":[{\"marker\":{\"colorbar\":{\"outlinewidth\":0,\"ticks\":\"\"}},\"type\":\"scatterpolar\"}],\"scatter\":[{\"marker\":{\"colorbar\":{\"outlinewidth\":0,\"ticks\":\"\"}},\"type\":\"scatter\"}],\"scatterternary\":[{\"marker\":{\"colorbar\":{\"outlinewidth\":0,\"ticks\":\"\"}},\"type\":\"scatterternary\"}],\"surface\":[{\"colorbar\":{\"outlinewidth\":0,\"ticks\":\"\"},\"colorscale\":[[0.0,\"#0d0887\"],[0.1111111111111111,\"#46039f\"],[0.2222222222222222,\"#7201a8\"],[0.3333333333333333,\"#9c179e\"],[0.4444444444444444,\"#bd3786\"],[0.5555555555555556,\"#d8576b\"],[0.6666666666666666,\"#ed7953\"],[0.7777777777777778,\"#fb9f3a\"],[0.8888888888888888,\"#fdca26\"],[1.0,\"#f0f921\"]],\"type\":\"surface\"}],\"table\":[{\"cells\":{\"fill\":{\"color\":\"#EBF0F8\"},\"line\":{\"color\":\"white\"}},\"header\":{\"fill\":{\"color\":\"#C8D4E3\"},\"line\":{\"color\":\"white\"}},\"type\":\"table\"}]},\"layout\":{\"annotationdefaults\":{\"arrowcolor\":\"#2a3f5f\",\"arrowhead\":0,\"arrowwidth\":1},\"autotypenumbers\":\"strict\",\"coloraxis\":{\"colorbar\":{\"outlinewidth\":0,\"ticks\":\"\"}},\"colorscale\":{\"diverging\":[[0,\"#8e0152\"],[0.1,\"#c51b7d\"],[0.2,\"#de77ae\"],[0.3,\"#f1b6da\"],[0.4,\"#fde0ef\"],[0.5,\"#f7f7f7\"],[0.6,\"#e6f5d0\"],[0.7,\"#b8e186\"],[0.8,\"#7fbc41\"],[0.9,\"#4d9221\"],[1,\"#276419\"]],\"sequential\":[[0.0,\"#0d0887\"],[0.1111111111111111,\"#46039f\"],[0.2222222222222222,\"#7201a8\"],[0.3333333333333333,\"#9c179e\"],[0.4444444444444444,\"#bd3786\"],[0.5555555555555556,\"#d8576b\"],[0.6666666666666666,\"#ed7953\"],[0.7777777777777778,\"#fb9f3a\"],[0.8888888888888888,\"#fdca26\"],[1.0,\"#f0f921\"]],\"sequentialminus\":[[0.0,\"#0d0887\"],[0.1111111111111111,\"#46039f\"],[0.2222222222222222,\"#7201a8\"],[0.3333333333333333,\"#9c179e\"],[0.4444444444444444,\"#bd3786\"],[0.5555555555555556,\"#d8576b\"],[0.6666666666666666,\"#ed7953\"],[0.7777777777777778,\"#fb9f3a\"],[0.8888888888888888,\"#fdca26\"],[1.0,\"#f0f921\"]]},\"colorway\":[\"#636efa\",\"#EF553B\",\"#00cc96\",\"#ab63fa\",\"#FFA15A\",\"#19d3f3\",\"#FF6692\",\"#B6E880\",\"#FF97FF\",\"#FECB52\"],\"font\":{\"color\":\"#2a3f5f\"},\"geo\":{\"bgcolor\":\"white\",\"lakecolor\":\"white\",\"landcolor\":\"#E5ECF6\",\"showlakes\":true,\"showland\":true,\"subunitcolor\":\"white\"},\"hoverlabel\":{\"align\":\"left\"},\"hovermode\":\"closest\",\"mapbox\":{\"style\":\"light\"},\"paper_bgcolor\":\"white\",\"plot_bgcolor\":\"#E5ECF6\",\"polar\":{\"angularaxis\":{\"gridcolor\":\"white\",\"linecolor\":\"white\",\"ticks\":\"\"},\"bgcolor\":\"#E5ECF6\",\"radialaxis\":{\"gridcolor\":\"white\",\"linecolor\":\"white\",\"ticks\":\"\"}},\"scene\":{\"xaxis\":{\"backgroundcolor\":\"#E5ECF6\",\"gridcolor\":\"white\",\"gridwidth\":2,\"linecolor\":\"white\",\"showbackground\":true,\"ticks\":\"\",\"zerolinecolor\":\"white\"},\"yaxis\":{\"backgroundcolor\":\"#E5ECF6\",\"gridcolor\":\"white\",\"gridwidth\":2,\"linecolor\":\"white\",\"showbackground\":true,\"ticks\":\"\",\"zerolinecolor\":\"white\"},\"zaxis\":{\"backgroundcolor\":\"#E5ECF6\",\"gridcolor\":\"white\",\"gridwidth\":2,\"linecolor\":\"white\",\"showbackground\":true,\"ticks\":\"\",\"zerolinecolor\":\"white\"}},\"shapedefaults\":{\"line\":{\"color\":\"#2a3f5f\"}},\"ternary\":{\"aaxis\":{\"gridcolor\":\"white\",\"linecolor\":\"white\",\"ticks\":\"\"},\"baxis\":{\"gridcolor\":\"white\",\"linecolor\":\"white\",\"ticks\":\"\"},\"bgcolor\":\"#E5ECF6\",\"caxis\":{\"gridcolor\":\"white\",\"linecolor\":\"white\",\"ticks\":\"\"}},\"title\":{\"x\":0.05},\"xaxis\":{\"automargin\":true,\"gridcolor\":\"white\",\"linecolor\":\"white\",\"ticks\":\"\",\"title\":{\"standoff\":15},\"zerolinecolor\":\"white\",\"zerolinewidth\":2},\"yaxis\":{\"automargin\":true,\"gridcolor\":\"white\",\"linecolor\":\"white\",\"ticks\":\"\",\"title\":{\"standoff\":15},\"zerolinecolor\":\"white\",\"zerolinewidth\":2}}}},                        {\"responsive\": true}                    ).then(function(){\n",
       "                            \n",
       "var gd = document.getElementById('fa0f5fb6-fe6f-49da-b96a-bbcab813c75e');\n",
       "var x = new MutationObserver(function (mutations, observer) {{\n",
       "        var display = window.getComputedStyle(gd).display;\n",
       "        if (!display || display === 'none') {{\n",
       "            console.log([gd, 'removed!']);\n",
       "            Plotly.purge(gd);\n",
       "            observer.disconnect();\n",
       "        }}\n",
       "}});\n",
       "\n",
       "// Listen for the removal of the full notebook cells\n",
       "var notebookContainer = gd.closest('#notebook-container');\n",
       "if (notebookContainer) {{\n",
       "    x.observe(notebookContainer, {childList: true});\n",
       "}}\n",
       "\n",
       "// Listen for the clearing of the current output cell\n",
       "var outputEl = gd.closest('.output');\n",
       "if (outputEl) {{\n",
       "    x.observe(outputEl, {childList: true});\n",
       "}}\n",
       "\n",
       "                        })                };                            </script>        </div>\n",
       "</body>\n",
       "</html>"
      ]
     },
     "metadata": {},
     "output_type": "display_data"
    }
   ],
   "source": [
    "# with X-axis as n_estimators, Y-axis as learning_rate, and Z-axis as AUC Score \n",
    "\n",
    "xgb = XGBClassifier()\n",
    "\n",
    "parameters = {'learning_rate':[0.001, 0.01, 0.1, 0.2, 0.3], 'n_estimators': [5,10,50, 100, 200]}\n",
    "\n",
    "clf = GridSearchCV(xgb, parameters, cv= 5, scoring='roc_auc', return_train_score = True,n_jobs = -1)\n",
    "\n",
    "\n",
    "clf.fit(X_tr, y_train)\n",
    "\n",
    "train_auc= clf.cv_results_['mean_train_score']\n",
    "\n",
    "cv_auc = clf.cv_results_['mean_test_score'] \n",
    "\n",
    "\n",
    "xgb_hyp = clf.best_params_\n",
    "\n",
    "print(\"best hyperparameter: \", clf.best_params_)\n",
    "print(\"AUC Score on this hyperparameter: \" ,clf.best_score_)\n",
    "\n",
    "trace1 = go.Scatter3d(x=parameters['n_estimators'] ,y=parameters['learning_rate'], z=train_auc, name = 'train')\n",
    "trace2 = go.Scatter3d(x=parameters['n_estimators'] ,y=parameters['learning_rate'], z=cv_auc, name = 'Cross validation')\n",
    "data = [trace1, trace2]\n",
    "\n",
    "layout = go.Layout(scene = dict(\n",
    "        xaxis = dict(title='n_estimators'),\n",
    "        yaxis = dict(title='learning_rate'),\n",
    "        zaxis = dict(title='AUC'),))\n",
    "\n",
    "fig = go.Figure(data=data, layout=layout)\n",
    "offline.iplot(fig, filename='3d-scatter-colorscale')\n",
    "#fig.show()\n",
    "plt.show()"
   ]
  },
  {
   "cell_type": "code",
   "execution_count": 307,
   "id": "V_fn0Pgbnv2O",
   "metadata": {
    "colab": {
     "base_uri": "https://localhost:8080/",
     "height": 513
    },
    "id": "V_fn0Pgbnv2O",
    "outputId": "a4dea738-46f4-47cc-cbd2-80e342c31c21"
   },
   "outputs": [
    {
     "data": {
      "image/png": "[encoded data removed]",
      "text/plain": [
       "<Figure size 720x504 with 2 Axes>"
      ]
     },
     "metadata": {
      "needs_background": "light"
     },
     "output_type": "display_data"
    }
   ],
   "source": [
    "#from sklearn_evaluation import plot\n",
    "plt.figure(figsize=(10,7))\n",
    "plot.grid_search(clf.cv_results_, change=(\"n_estimators\", \"learning_rate\"))\n",
    "plt.show()"
   ]
  },
  {
   "cell_type": "markdown",
   "id": "syqdk6Inw0CM",
   "metadata": {
    "id": "syqdk6Inw0CM"
   },
   "source": [
    "#### ested on best hyperparameter on XGBClassifier"
   ]
  },
  {
   "cell_type": "code",
   "execution_count": 308,
   "id": "B-Y9DWeMwu9j",
   "metadata": {
    "colab": {
     "base_uri": "https://localhost:8080/"
    },
    "id": "B-Y9DWeMwu9j",
    "outputId": "eb282ddb-27ec-44dd-e734-0fa7227174e0"
   },
   "outputs": [
    {
     "name": "stdout",
     "output_type": "stream",
     "text": [
      "train f1_score:  1.0\n",
      "cv f1_score:  5.1175552384774624e-05\n",
      "test f1_score:  6.732945059087132e-05\n"
     ]
    }
   ],
   "source": [
    "xgb = XGBClassifier(learning_rate=xgb_hyp['learning_rate'], n_estimators=xgb_hyp['n_estimators'])\n",
    "xgb.fit(X_tr, y_train)\n",
    "\n",
    "# f1_score for train data\n",
    "train_pred = xgb.predict(X_tr)\n",
    "train_f1_xgb = f1_score(y_train, train_pred, average='weighted')\n",
    "print(\"train f1_score: \", train_f1_xgb)\n",
    "\n",
    "# f1_score for cv data\n",
    "cv_pred = xgb.predict(X_cr)\n",
    "cv_f1_xgb = f1_score(y_cv, cv_pred, average='weighted')\n",
    "print(\"cv f1_score: \", cv_f1_xgb)\n",
    "\n",
    "# f1_score for test data\n",
    "test_pred = xgb.predict(X_te)\n",
    "test_f1_xgb = f1_score(y_test, test_pred, average='weighted')\n",
    "print(\"test f1_score: \", test_f1_xgb)"
   ]
  },
  {
   "cell_type": "markdown",
   "id": "ZD4gpU2sw7Lw",
   "metadata": {
    "id": "ZD4gpU2sw7Lw"
   },
   "source": [
    "#### Confusion matrix, precision matrix and recall matrix"
   ]
  },
  {
   "cell_type": "code",
   "execution_count": 309,
   "id": "-3euBjzhw4Hq",
   "metadata": {
    "colab": {
     "base_uri": "https://localhost:8080/",
     "height": 866
    },
    "id": "-3euBjzhw4Hq",
    "outputId": "29fba5e4-17e2-4e3f-c9e1-9719eff86afe"
   },
   "outputs": [
    {
     "name": "stdout",
     "output_type": "stream",
     "text": [
      "-------------------- Confusion matrix --------------------\n"
     ]
    },
    {
     "data": {
      "image/png": "[encoded data removed]",
      "text/plain": [
       "<Figure size 360x288 with 2 Axes>"
      ]
     },
     "metadata": {
      "needs_background": "light"
     },
     "output_type": "display_data"
    },
    {
     "name": "stdout",
     "output_type": "stream",
     "text": [
      "-------------------- Precision matrix (Columm Sum=1) --------------------\n"
     ]
    },
    {
     "data": {
      "image/png": "[encoded data removed]",
      "text/plain": [
       "<Figure size 360x288 with 2 Axes>"
      ]
     },
     "metadata": {
      "needs_background": "light"
     },
     "output_type": "display_data"
    },
    {
     "name": "stdout",
     "output_type": "stream",
     "text": [
      "-------------------- Recall matrix (Row sum=1) --------------------\n"
     ]
    },
    {
     "data": {
      "image/png": "[encoded data removed]",
      "text/plain": [
       "<Figure size 360x288 with 2 Axes>"
      ]
     },
     "metadata": {
      "needs_background": "light"
     },
     "output_type": "display_data"
    }
   ],
   "source": [
    "plot_confusion_matrix(y_test,test_pred)"
   ]
  },
  {
   "cell_type": "markdown",
   "id": "ybVTTHiIyIka",
   "metadata": {
    "id": "ybVTTHiIyIka"
   },
   "source": [
    "## Summary"
   ]
  },
  {
   "cell_type": "code",
   "execution_count": 310,
   "id": "RkWiVaS7w4LL",
   "metadata": {
    "colab": {
     "base_uri": "https://localhost:8080/"
    },
    "id": "RkWiVaS7w4LL",
    "outputId": "55a83e96-82f1-43e8-a517-204fe7ba16d8"
   },
   "outputs": [
    {
     "name": "stdout",
     "output_type": "stream",
     "text": [
      "+-------------------------+---------------------------------------------+-----------------------+\n",
      "|          Model          |                Hyperparameter               |        f1_score       |\n",
      "+-------------------------+---------------------------------------------+-----------------------+\n",
      "|    Logistic Regressin   |                     0.01                    |   0.9979281607889625  |\n",
      "| Multinomial Naive Bayes |                    1e-05                    |   0.9979281607889625  |\n",
      "|  RandomForestClassifier |     {'max_depth': 5, 'n_estimators': 30}    |   0.9979281607889625  |\n",
      "|      XGBClassifier      | {'learning_rate': 0.001, 'n_estimators': 5} | 6.732945059087132e-05 |\n",
      "+-------------------------+---------------------------------------------+-----------------------+\n"
     ]
    }
   ],
   "source": [
    "# http://zetcode.com/python/prettytable/\n",
    "from prettytable import PrettyTable\n",
    "\n",
    "x = PrettyTable()\n",
    "x.field_names = [\"Model\", \"Hyperparameter\", \"f1_score\"]\n",
    "\n",
    "x.add_row([\"Logistic Regressin\", best_C, test_f1_lr])\n",
    "x.add_row([\"Multinomial Naive Bayes\", nb_hyp, test_f1_nb])\n",
    "x.add_row([\"RandomForestClassifier\", rf_hyp, test_f1_rf])\n",
    "x.add_row([\"XGBClassifier\", xgb_hyp, test_f1_xgb])\n",
    "print(x)"
   ]
  },
  {
   "cell_type": "code",
   "execution_count": null,
   "id": "yqFgIrFpw4QI",
   "metadata": {
    "id": "yqFgIrFpw4QI"
   },
   "outputs": [],
   "source": []
  },
  {
   "cell_type": "code",
   "execution_count": null,
   "id": "ZkYEUgJ4wvCh",
   "metadata": {
    "id": "ZkYEUgJ4wvCh"
   },
   "outputs": [],
   "source": []
  },
  {
   "cell_type": "markdown",
   "id": "nVN5u-LHWNzd",
   "metadata": {
    "id": "nVN5u-LHWNzd"
   },
   "source": [
    "# On seeing above criteria regarding Fraud Detection following points are concluded\n",
    "\n",
    "<b>1. Data cleaning including missing values, outliers and multi-collinearity.</b>\n",
    "\n",
    "The given dataset has not contain any missing value.\n",
    "\n",
    "Data cleaing has been done on above mentioned steps, here I have used percentile and some 2D plot to see clearly the outliers.\n",
    "\n",
    "multi-collinearity has been checked by df.corr() method using heatmap.\n",
    "\n",
    "<b>2. Describe your fraud detection model in elaboration.</b>\n",
    "\n",
    "Here I have used total 6 machine learning models(Logistic Regressin, Multinomial Naive Bayes, RandomForestClassifier, XGBClassifier) to see clearly which model performs well in this context.\n",
    "After applying these model we can see taht Logistic Regression, Multinomial Naive Bayes, RandomForestClassifier has give almost 99% accuracy as F1_Score, but XGBoostClassifier has been overfitted and performas really bad on newly unseen test data, so, we should avoid XGBoostClassifier in this case.\n",
    "\n",
    "Since this is a binary classification problem, we could use the following 2 popular metrics:\n",
    "\n",
    "* Confusion matrix, Precision matrix, Recall matrix\n",
    "* f1_score\n",
    "\n",
    "<b>3. How did you select variables to be included in the model?</b>\n",
    "\n",
    "Here in this context for encoding Categorical variable <b>*nameOrig*</b> and <b>*nameDest*</b> I have used Response coding and other Categorical variable I have used onehot encoding technique using CountVectorizer().\n",
    "\n",
    "For encoding neumerical variable I have used Normalizer() to normalize the value except <b>*step*</b> variable, because step maps a unit of time in the real world.\n",
    "\n",
    "<b>4. Demonstrate the performance of the model by using best set of tools.</b>\n",
    "\n",
    "As this is mentioned inside summery section,\n",
    "\n",
    "* Logistic Regressin- F1_Score: 0.99\n",
    "* Multinomial Naive Bayes- F1_Score: 0.99\n",
    "* RandomForestClassifier- F1_Score: 0.99\n",
    "* XGBClassifier- F1_Score: 6.73e-05 (bad performance)\n",
    "\n",
    "\n",
    "<b>5. What are the key factors that predict fraudulent customer?</b>\n",
    "\n",
    "Key factors as the feature importance, which is given by RandomForestClassifier.\n",
    "Most important feature is nameDest, then second important feature is isFlaggedFraud, then nameOrig.\n",
    "\n",
    "<b>6. Do these factors make sense? If yes, How? If not, How not?</b>\n",
    "\n",
    "As we have seen that on the base line prespective, \n",
    "* if <b>*newbalanceOrig*=0.0</b> there is  98.05 % chance of is_Fraud=1 given total number of is_Fraud=1\n",
    "\n",
    "* if <b>*oldbalanceDest*=0.0</b> there is  65.15 % chance of is_Fraud=1 given total number of is_Fraud=1\n",
    "\n",
    "* if <b>*newbalanceDest*=0.0</b> there is  49.81 % chance of is_Fraud=1 given total number of is_Fraud=1\n",
    "\n",
    "* if <b>*type*=CASH_OUT</b> there is  50.12 % chance of is_Fraud=1 given total number of is_Fraud=1\n",
    "\n",
    "* if <b>*type*=TRANSFER</b> there is  49.88 % chance of is_Fraud=1 given total number of is_Fraud=1\n",
    "\n",
    "\n",
    "\n",
    "<b>7. What kind of prevention should be adopted while company update its infrastructure?</b>\n",
    "\n",
    "From the base line prespective if variable <b>*newbalanceOrig*=0.0</b>, there might be high chance of isFraud=1, because fraudulent agents are tries to empty the funds by transferring to another account.\n",
    "\n",
    "<b>8. Assuming these actions have been implemented, how would you determine if they work?</b>\n",
    "\n",
    "If this is implemented and deploed into server, then we can choose either Logistic Regressin or Multinomial Naive Bayes or RandomForestClassifier but should avoid XGBClassifier because this is too much overfitted.\n",
    "\n",
    "\n",
    "\n"
   ]
  },
  {
   "cell_type": "code",
   "execution_count": null,
   "id": "OIA9QjUGJ3pJ",
   "metadata": {
    "id": "OIA9QjUGJ3pJ"
   },
   "outputs": [],
   "source": []
  },
  {
   "cell_type": "code",
   "execution_count": null,
   "id": "yIh4hSWFJwmt",
   "metadata": {
    "id": "yIh4hSWFJwmt"
   },
   "outputs": [],
   "source": []
  }
 ],
 "metadata": {
  "colab": {
   "collapsed_sections": [],
   "name": "INSAID_assignment.ipynb",
   "provenance": []
  },
  "kernelspec": {
   "display_name": "Python 3 (ipykernel)",
   "language": "python",
   "name": "python3"
  },
  "language_info": {
   "codemirror_mode": {
    "name": "ipython",
    "version": 3
   },
   "file_extension": ".py",
   "mimetype": "text/x-python",
   "name": "python",
   "nbconvert_exporter": "python",
   "pygments_lexer": "ipython3",
   "version": "3.10.4"
  }
 },
 "nbformat": 4,
 "nbformat_minor": 5
}
